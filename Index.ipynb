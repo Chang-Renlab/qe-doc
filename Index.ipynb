{
 "metadata": {
  "name": "",
  "signature": "sha256:d4081fc3fd4de1ce95f4c2639ec71cf2c04ec7cee0b0b2255ff11132f58b2806"
 },
 "nbformat": 3,
 "nbformat_minor": 0,
 "worksheets": [
  {
   "cells": [
    {
     "cell_type": "heading",
     "level": 1,
     "metadata": {},
     "source": [
      "QE-doc"
     ]
    },
    {
     "cell_type": "markdown",
     "metadata": {},
     "source": [
      "*This work was supported in part by a grant from the National Sciences and Engineering \n",
      "Research Council of Canada, University of Saskatchewan, and the Department of Computational\n",
      "Material Science of the Institute of Nuclear Physics, PAN, Cracow, Poland. \n",
      "The access to high performance supercomputers provided by Compute Canada \n",
      "(CLUMEQ and Westgrid) is acknowledged.*\n",
      "\n",
      "QE-doc is a set of tutorials for Quantum-Espresso environment inside iPython\n",
      "notebooks developed as a colaborative project between the Institute of Nuclear \n",
      "Physics and the University of Saskachwan. \n",
      "\n",
      "The tutorials use [QE-util](https://github.com/jochym/qe-util) and \n",
      "[Elastic](https://github.com/jochym/Elastic) \n",
      "packages for the [ASE](https://wiki.fysik.dtu.dk/ase/) system.\n",
      "\n",
      "The docs and examples in the form of a series of\n",
      "[iPython](http://www.ipython.org/) notebooks are viewable from the links below.\n",
      "If you open the links you can download the source from the page itself (icon in\n",
      "the top-right corner of the page). The support files as well as source for the\n",
      "tutorials are stored in the [repository](https://github.com/jochym/qe-doc) and\n",
      "can be cloned or directly downloaded as a \n",
      "[zip archive](https://github.com/jochym/qe-doc/archive/master.zip).\n",
      "\n",
      "Obviously, to get any use from these tutorials and to further use the software\n",
      "in the QE-util and Elastic packages you need to have at least cursory\n",
      "knowledge of the [python](http://www.python.org) language and iPython notebook\n",
      "environment. Go ahead and to the iPython website to teach yourself - if you need\n",
      "to. \n",
      "\n",
      "**But:** *no advanced knowledge of python is required for understanding the\n",
      "tutorials and you will pick up the required skills quickly when you start to\n",
      "experiment with the materials.*\n",
      "\n",
      "You will also need to understand at least the basics of the \n",
      "[Quantum Espresso](http://www.quantumespresso.org) package. There is a large\n",
      "body of documents on the Quantum Espresso website as well as in other places\n",
      "(e.g. [Tutorials prepared by the Q-E group](http://www.fisica.uniud.it/~giannozz/QE-Tutorial/)). \n",
      "Since the whole system is based on the excellent\n",
      "[ASE](https://wiki.fysik.dtu.dk/ase/) library you should study the documentation\n",
      "on their website at some point in time as well. This may wait until you start\n",
      "more serious experimentation. You should understand the tutorials without\n",
      "detailed knowledge of the ASE system. Finally, of course you will need\n",
      "understand the physics behind it all."
     ]
    },
    {
     "cell_type": "heading",
     "level": 2,
     "metadata": {},
     "source": [
      "Installation"
     ]
    },
    {
     "cell_type": "markdown",
     "metadata": {},
     "source": [
      "You can *view* the tutorials with just your browser (just click the links below),\n",
      "but to *work* on them (which is a whole point of having a tutorial!) you need \n",
      "a working environment - so you need to build and configure one.\n",
      "\n",
      "The [Installation](http://nbviewer.ipython.org/github/jochym/qe-doc/blob/master/Installation.ipynb)\n",
      "document will help with this task. Do not be scared off by the multiple steps in\n",
      "the procedure. All should work quite smoothly, and at the end you will have an\n",
      "environment useful not only for viewing and experimenting with the tutorials but\n",
      "suitable for the day-to-day research work (it is actually a slimmed down and\n",
      "cleaned up version of my working environment).\n",
      "\n",
      "The information concerned with local configuration at the University of Saskatchewan\n",
      "is included on the [USASK NiPy page](http://homepage.usask.ca/~bas627/nipy/Nipy.htm).\n",
      "\n",
      "Alternatively, we have prepared a [VirtualBox](https://www.virtualbox.org/wiki/Downloads)\n",
      "image of a \n",
      "[fully installed and configured system](http://wolf.ifj.edu.pl/~jochym/NiPy-VirtualBox-appliance.ova). \n",
      "Ready to be imported into the virtualization software \n",
      "([README for the image](http://wolf.ifj.edu.pl/~jochym/README-nipy-virtbox.txt)). \n",
      "It is not the most effective way to use the software - but it is definitively \n",
      "the fastest one (it takes 3-5 minutes from downloading the image to opening first tutorial).\n",
      "\n",
      "Then proceed to the tutorials - view them from the links below, download\n",
      "them (the download link is in the upper right corner of the tutorial page) and\n",
      "play with them - this is the fastest way to get a grip on the software.\n",
      "\n",
      "**Note:** The software is under active development, so do expect some changes in\n",
      "the api from time to time."
     ]
    },
    {
     "cell_type": "heading",
     "level": 2,
     "metadata": {},
     "source": [
      "Tutorials"
     ]
    },
    {
     "cell_type": "markdown",
     "metadata": {},
     "source": [
      "Here is the list of tutorials. It will probably grow in time a little. If you\n",
      "wish to include your tutorial in the list we will be happy to add any material\n",
      "which concerned with similar tasks.\n",
      "\n",
      "* [Crystal structure](Crystal_structure.ipynb) -\n",
      "    introduces the basic ideas of the system and presents a set of basic static\n",
      "    calculations. This example uses a local installation of Quantum Espresso. \n",
      "    Without such installation you will not be able to execute this tutorial \n",
      "    However, you can still read it and lern from it. \n",
      "    The rest of the tutorials are configured for remote execution.\n",
      "* [Remote execution](Remote_calculation.ipynb) - \n",
      "    shows how to set-up the remote execution of the Qeuantum Espresso over the\n",
      "    network (e.g. in some supercomputing center).\n",
      "* [Primitive unit cells](Primitive_unit_cells.ipynb) - \n",
      "    demonstrates the concept of the primitive unit cell and shows a way the\n",
      "    system deals with them.\n",
      "* [Structure optimization](Structural_optimization.ipynb) - \n",
      "    shows how to find minimum of energy of the system with more degrees of\n",
      "    freedom (low symmetry structures etc.). The example of structure\n",
      "    minimization for a simple structure is included in the first tutorial.\n",
      "* [Electronic structure](Electronic_structure.ipynb) - \n",
      "    shows how to extract the basic properties of the electronic structure of the\n",
      "    crystal (band structure, band gap, electronic DOS) from the data produced by \n",
      "    the calculation.\n",
      "* [Elastic constants](Elastic_constants.ipynb) - \n",
      "    introduces the Elastic package and shows the calculation of elastic\n",
      "    constants using this tool.\n",
      "* [Lattice dynamics](Lattice_dynamics.ipynb) - \n",
      "    shows the use of DFPT module in Quantum Espresso for calculation of\n",
      "    vibration modes in the crystal as well as use of utility functions in the\n",
      "    QE-util for easier analysis of the obtained data.\n",
      "* [Quasi-Harmonic Approximation](Quasi-Harmonic_Approximation.ipynb) - \n",
      "    explains the procedure of calculating temperature-dependent behaviour in the\n",
      "    framework of the QHA using the tools provided within the QE-util package."
     ]
    }
   ],
   "metadata": {}
  }
 ]
}