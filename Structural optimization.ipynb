{
 "metadata": {
  "name": ""
 },
 "nbformat": 3,
 "nbformat_minor": 0,
 "worksheets": [
  {
   "cells": [
    {
     "cell_type": "markdown",
     "metadata": {},
     "source": [
      "Structure optimization\n",
      "======================\n",
      "\n",
      "This tutorial is concerned with structural optimization. Except for high-symmetry structures - like the cubic crystal we are using in this tutorial the determination of the correct structure for the investigated system is a crucial part in the workflow of the computation. The Quantum-Espresso package is able to do a full structural optimization of the crystal and the QE-util provides an interface to this mode of operation. To continue skip over the initial setup to the second cell below."
     ]
    },
    {
     "cell_type": "code",
     "collapsed": false,
     "input": [
      "# Import the basic libraries\n",
      "\n",
      "# ASE system\n",
      "import ase\n",
      "from ase import Atom, Atoms\n",
      "from ase import io\n",
      "from ase.lattice.spacegroup import crystal\n",
      "from ase.units import GPa, Bohr, Rydberg\n",
      "\n",
      "# Spacegroup/symmetry library\n",
      "from pyspglib import spglib\n",
      "\n",
      "# iPython utility function\n",
      "from IPython.core.display import Image\n",
      "\n",
      "# Import the remote execution tools from the qe-util package\n",
      "from qeu import RemoteQE\n",
      "\n",
      "# Access info\n",
      "import plato\n",
      "\n",
      "qe=RemoteQE(label='SiC-structure',   # A name for the project\n",
      "               kpts=[3,3,3],    # k-space grid\n",
      "               xc='pz',         # Exchange functional type in the name of the pseudopotentials\n",
      "               pp_type='vbc',   # Variant of the pseudopotential\n",
      "               pp_format='UPF', # Format of the pseudopotential files\n",
      "               ecutwfc=70,      # Energy cut-off\n",
      "               pseudo_dir='../pspot',\n",
      "               use_symmetry=True,\n",
      "               procs=4)         # Use 8 cores for the calculation\n",
      "\n",
      "print qe.directory"
     ],
     "language": "python",
     "metadata": {},
     "outputs": [
      {
       "output_type": "stream",
       "stream": "stdout",
       "text": [
        "calc/SiC-structure.8kmlbd\n"
       ]
      }
     ],
     "prompt_number": 1
    },
    {
     "cell_type": "markdown",
     "metadata": {},
     "source": [
      "Preparations\n",
      "--------------------\n",
      "\n",
      "To start any calculation we need to create a crystal. We will again use a cubic, zinc-blende (F-43m) SiC crystal again with a lattice constant determined in our first tutorial. But this time we will distort it randomly to have a low-symmetry structure with many potential degrees of freedom and configuration displaced from the equilibrium position. Our task is to find the equilibrium structure - which hepefully will be a high-symmetry cubic crystal with a F-43m space group symmetry."
     ]
    },
    {
     "cell_type": "code",
     "collapsed": false,
     "input": [
      "a=4.344\n",
      "cryst = crystal(['Si', 'C'],\n",
      "                [(0, 0, 0), (0.25, 0.25, 0.25)],\n",
      "                spacegroup=216,\n",
      "                cellpar=[a, a, a, 90, 90, 90])\n",
      "\n",
      "# Assign the calculator to our system\n",
      "cryst.set_calculator(qe)\n",
      "\n",
      "# Verify the symmetry\n",
      "print \"Symmetry group:\", spglib.get_spacegroup(cryst)"
     ],
     "language": "python",
     "metadata": {},
     "outputs": [
      {
       "output_type": "stream",
       "stream": "stdout",
       "text": [
        "Symmetry group: F-43m      (216)\n"
       ]
      }
     ],
     "prompt_number": 2
    },
    {
     "cell_type": "code",
     "collapsed": false,
     "input": [
      "print \"Stress tensor  (Voigt notation, GPa):\\n\", cryst.get_stress()/GPa"
     ],
     "language": "python",
     "metadata": {},
     "outputs": [
      {
       "output_type": "stream",
       "stream": "stdout",
       "text": [
        "Stress tensor  (Voigt notation, GPa):\n",
        "[ 0.054  0.054  0.054  0.    -0.     0.   ]"
       ]
      },
      {
       "output_type": "stream",
       "stream": "stdout",
       "text": [
        "\n"
       ]
      }
     ],
     "prompt_number": 3
    },
    {
     "cell_type": "markdown",
     "metadata": {},
     "source": [
      "Let us distort randomly the positions of atoms in the unit cell as well as the unit cell itself. We will use standard deviation of 0.05 (5% of the unit cel size). This should generate a completely non-symmetric crystal (group P1)."
     ]
    },
    {
     "cell_type": "code",
     "collapsed": false,
     "input": [
      "cryst.rattle(stdev=0.05)\n",
      "cryst.set_cell(diag(1+0.01*randn(3))*cryst.get_cell(), scale_atoms=True)"
     ],
     "language": "python",
     "metadata": {},
     "outputs": [],
     "prompt_number": 4
    },
    {
     "cell_type": "code",
     "collapsed": false,
     "input": [
      "# Verify that indeed we have a low symmetry structure\n",
      "print \"Symmetry group:\", spglib.get_spacegroup(cryst)"
     ],
     "language": "python",
     "metadata": {},
     "outputs": [
      {
       "output_type": "stream",
       "stream": "stdout",
       "text": [
        "Symmetry group: P1         (1)\n"
       ]
      }
     ],
     "prompt_number": 5
    },
    {
     "cell_type": "markdown",
     "metadata": {},
     "source": [
      "Structure check\n",
      "---------------\n",
      "\n",
      "Let us check the effect the distorsion has on the crystal by calculating the stress tensor and forces acting on atoms in the distorted structure. Note that both forces as well as stresses are far from zero."
     ]
    },
    {
     "cell_type": "code",
     "collapsed": false,
     "input": [
      "print \"Stress tensor  (Voigt notation, GPa):\\n\", cryst.get_stress()/GPa\n",
      "\n",
      "# Print also the forces (eV/A)\n",
      "\n",
      "print \"\\nForces on atoms (eV/A)\"\n",
      "print \"======================\"\n",
      "print cryst.get_forces()"
     ],
     "language": "python",
     "metadata": {},
     "outputs": [
      {
       "output_type": "stream",
       "stream": "stdout",
       "text": [
        "Stress tensor  (Voigt notation, GPa):\n",
        "[-5.244 -4.797 -2.45  -5.128 -3.544 -1.78 ]"
       ]
      },
      {
       "output_type": "stream",
       "stream": "stdout",
       "text": [
        "\n",
        "\n",
        "Forces on atoms (eV/A)\n",
        "======================\n",
        "[[-0.00188551 -0.00316444 -0.00241213]\n",
        " [-0.00240109 -0.0015793  -0.00043075]\n",
        " [-0.00248625 -0.00236956  0.00019129]\n",
        " [-0.00184323  0.00097562 -0.00011695]\n",
        " [ 0.00157592  0.00366555  0.0033009 ]\n",
        " [ 0.00213163  0.00027768 -0.00032436]\n",
        " [ 0.00321514  0.00186942 -0.00217118]\n",
        " [ 0.00169339  0.00032503  0.00196318]]\n"
       ]
      }
     ],
     "prompt_number": 6
    },
    {
     "cell_type": "markdown",
     "metadata": {},
     "source": [
      "Optimization procedure\n",
      "----------------------\n",
      "\n",
      "Our goal is to find the the structure as close as possible to minimum of energy (i.e. with as small as possible stresses on the unit cell and forces on atoms). The Quantum Espresso has a special mode of working where it minimizes forces and stresses.\n",
      "The QE-util package provides full access to this mode by the way of `calc` parameter of the calculator object. There are two variants of the optimization procedure:\n",
      "\n",
      "* `'relax'` changes just the atomic positions keeping the cell fixed\n",
      "* `'vc-relax'` which changes atomic positions as well as unit cell shape and size\n",
      "\n",
      "We will first try to optimize the internal degrees of freedom (atomic positions) and in the second step optimize both atomic positions and the unit cell parameters. This is actually a recommended procedure in the case of complicated structures. Running just `vc-relax` optimization may not converge at all in such cases or, even worse, give you a *false minimum*.\n",
      "\n",
      "**Note:** The optimization runs take much longer then the simple energy calculations. Be patient."
     ]
    },
    {
     "cell_type": "code",
     "collapsed": false,
     "input": [
      "# Switch to the atomic position relaxation mode\n",
      "qe.set(calc='relax')\n",
      "\n",
      "# Switch off the use of symmetries. \n",
      "qe.set(use_symmetry=False)\n",
      "\n",
      "# Force recalculation by clearing the results from the previous calculation.\n",
      "qe.reset()"
     ],
     "language": "python",
     "metadata": {},
     "outputs": [],
     "prompt_number": 7
    },
    {
     "cell_type": "code",
     "collapsed": false,
     "input": [
      "# Run the calculation and get the stresses and forces at the end.\n",
      "# The structure in cryst is *not* modified\n",
      "print \"Stress:\\n\", cryst.get_stress()/GPa\n",
      "print \"\\nForces:\\n\", cryst.get_forces()"
     ],
     "language": "python",
     "metadata": {},
     "outputs": [
      {
       "output_type": "stream",
       "stream": "stdout",
       "text": [
        "Stress:\n",
        "[-3.475 -3.246 -0.781 -0.025 -0.017 -0.012]"
       ]
      },
      {
       "output_type": "stream",
       "stream": "stdout",
       "text": [
        "\n",
        "\n",
        "Forces:\n",
        "[[ -1.80350539e-05  -2.26268557e-05  -1.63723441e-05]\n",
        " [ -3.00104542e-06  -2.52809684e-07  -9.68572242e-06]\n",
        " [ -1.08062527e-05  -4.75787826e-06   3.24529847e-06]\n",
        " [ -1.14227194e-05  -1.45579484e-06   2.53704242e-06]\n",
        " [  2.90859487e-05   8.73632482e-06   5.15692862e-06]\n",
        " [ -5.21565826e-07   1.31861642e-05  -4.76760171e-06]\n",
        " [ -4.70303801e-06  -1.52090306e-05   1.19236715e-05]\n",
        " [  1.94037267e-05   2.23802690e-05   7.96272718e-06]]\n"
       ]
      }
     ],
     "prompt_number": 8
    },
    {
     "cell_type": "markdown",
     "metadata": {},
     "source": [
      "After running the first cycle, we note that the stresses have been reduced mostly to the diagonal part of the tensor (first three numbers in the Voigt notation) and forces have been diminished to the level of $10^{5}$ eV/A. We can improve this result by lowering the convergence condition to the $10^{-8}$ eV/A (note the translation of units to the units required by Quantum Espresso). We change the condition and re-run the calculation on the same structure."
     ]
    },
    {
     "cell_type": "code",
     "collapsed": false,
     "input": [
      "qe.set(forc_conv_thr=1e-8*Rydberg/Bohr)\n",
      "qe.reset()"
     ],
     "language": "python",
     "metadata": {},
     "outputs": [],
     "prompt_number": 9
    },
    {
     "cell_type": "code",
     "collapsed": false,
     "input": [
      "print \"Stress:\\n\", cryst.get_stress()/GPa\n",
      "print \"\\nForces:\\n\", cryst.get_forces()"
     ],
     "language": "python",
     "metadata": {},
     "outputs": [
      {
       "output_type": "stream",
       "stream": "stdout",
       "text": [
        "Stress:\n",
        "[ -3.47500000e+00  -3.24600000e+00  -7.81000000e-01  -1.00000000e-03\n",
        "  -1.00000000e-03  -0.00000000e+00]"
       ]
      },
      {
       "output_type": "stream",
       "stream": "stdout",
       "text": [
        "\n",
        "\n",
        "Forces:\n",
        "[[ -4.28998588e-07  -1.78794788e-06  -8.91056903e-07]\n",
        " [ -3.10761443e-07  -1.34416965e-06  -2.75757025e-07]\n",
        " [ -3.91660542e-07   1.16020198e-06   1.05013254e-07]\n",
        " [ -2.16638453e-07   9.55620607e-07   6.29301645e-07]\n",
        " [  2.11193321e-07   8.90667965e-07   1.57130942e-07]\n",
        " [ -3.26707900e-07  -1.40406609e-07   3.05705249e-07]\n",
        " [  6.14133064e-07  -6.65083939e-08  -1.63353950e-08]\n",
        " [  8.49440540e-07   3.32930907e-07  -1.40017671e-08]]\n"
       ]
      }
     ],
     "prompt_number": 10
    },
    {
     "cell_type": "markdown",
     "metadata": {},
     "source": [
      "Updating the structure\n",
      "----------------------\n",
      "\n",
      "We can see that the forces dropped by another two orders of magnitude and the stress got concentrated even more on the diagonal elements. Thus, let us update the positions in the `cryst` object with a our new positions. The found positions are present in the `results` dictionary of the calculator object. We can check the symmetry of the resulting crystal - but it will probably be different from the desired F-43m. Which should be expected - the unit cell is still the same deformed unit cell we have generated at the start."
     ]
    },
    {
     "cell_type": "code",
     "collapsed": false,
     "input": [
      "# Update the positions using calculated values\n",
      "cryst.set_scaled_positions(qe.results['atomic_positions'])\n",
      "\n",
      "# Check the symmetry. Probably not the F-43m !\n",
      "print \"Symmetry group:\", spglib.get_spacegroup(cryst,symprec=1e-4)"
     ],
     "language": "python",
     "metadata": {},
     "outputs": [
      {
       "output_type": "stream",
       "stream": "stdout",
       "text": [
        "Symmetry group: P1         (1)\n"
       ]
      }
     ],
     "prompt_number": 11
    },
    {
     "cell_type": "markdown",
     "metadata": {},
     "source": [
      "Full cell optimization\n",
      "----------------------\n",
      "\n",
      "We have approched optimal atomic positions in the unit cell. It is time to search for the optimal shape and size of the unit cell itself. We need to switch to the `vc-relax` mode and run the optimization again. Then update the structure again - this time both unit cell and atomic positions and check the symmetry."
     ]
    },
    {
     "cell_type": "code",
     "collapsed": false,
     "input": [
      "qe.set(calc='vc-relax')\n",
      "qe.reset()"
     ],
     "language": "python",
     "metadata": {},
     "outputs": [],
     "prompt_number": 19
    },
    {
     "cell_type": "code",
     "collapsed": false,
     "input": [
      "print \"Stress:\\n\", cryst.get_stress()/GPa\n",
      "print \"\\nForces:\\n\", cryst.get_forces()"
     ],
     "language": "python",
     "metadata": {},
     "outputs": [
      {
       "output_type": "stream",
       "stream": "stdout",
       "text": [
        "Stress:\n",
        "[-0.006 -0.006 -0.005 -0.    -0.     0.   ]"
       ]
      },
      {
       "output_type": "stream",
       "stream": "stdout",
       "text": [
        "\n",
        "\n",
        "Forces:\n",
        "[[  3.96716736e-08  -6.61194559e-09  -3.07261001e-08]\n",
        " [ -5.01729989e-08  -5.52291926e-08   1.98358368e-08]\n",
        " [ -8.16769750e-09   6.14522002e-08   1.32238912e-08]\n",
        " [  1.94468988e-09   6.61194559e-09   3.30597280e-08]\n",
        " [ -1.85912353e-07   5.63960065e-08  -2.23250398e-07]\n",
        " [  1.62576074e-07  -4.27831774e-08  -2.37641103e-07]\n",
        " [  1.54797314e-07   5.52291926e-08   2.48531367e-07]\n",
        " [ -1.13958827e-07  -7.58429053e-08   1.76966779e-07]]\n"
       ]
      }
     ],
     "prompt_number": 20
    },
    {
     "cell_type": "code",
     "collapsed": false,
     "input": [
      "# Update the crystal\n",
      "cryst.set_cell(qe.results['cell'])\n",
      "cryst.set_scaled_positions(qe.results['atomic_positions'])\n",
      "\n",
      "# Check the symmetry\n",
      "print \"Symmetry group:\", spglib.get_spacegroup(cryst,symprec=1e-4)"
     ],
     "language": "python",
     "metadata": {},
     "outputs": [
      {
       "output_type": "stream",
       "stream": "stdout",
       "text": [
        "Symmetry group: F-43m      (216)\n"
       ]
      }
     ],
     "prompt_number": 21
    },
    {
     "cell_type": "markdown",
     "metadata": {},
     "source": [
      "Finishing\n",
      "---------\n",
      "\n",
      "After a single run the forces/stresses as well as the symmetry will not be converged well enough. You will need to repeat the cycle of updating the crystal and optimizing it again (two cells above) one or two more times - until you reach the appropriate level of forces/stresses and symmetry. \n",
      "\n",
      "We can conclude the run by \"snapping\" the structure to the high-symmetry values by rounding the positions and sizes to appropriate number of decimal places. \n",
      "\n",
      "Finally we check the symmetry of the structure and verify the stresses and forces by running a single point (`scf` - Self Consistent Field) calculation on the final structure - which should result in stress components below 0.01 GPa and forces below $10^{-6}$ eV/A as well as recovery of the expected F-43m symmetry group of the crystal."
     ]
    },
    {
     "cell_type": "code",
     "collapsed": false,
     "input": [
      "# Round the sizes and positions to get to the high-symmetry structure\n",
      "cryst.set_cell(np.round(qe.results['cell'],4))\n",
      "cryst.set_scaled_positions(np.round(qe.results['atomic_positions'],3))\n",
      "\n",
      "# See the structure\n",
      "print \"Unit cell:\\n\", cryst.get_cell()\n",
      "print \"\\nAtomic positions:\\n\", cryst.get_scaled_positions()\n"
     ],
     "language": "python",
     "metadata": {},
     "outputs": [
      {
       "output_type": "stream",
       "stream": "stdout",
       "text": [
        "Unit cell:\n",
        "[[ 4.3342 -0.     -0.    ]\n",
        " [-0.      4.3342  0.    ]\n",
        " [-0.      0.      4.3342]]\n",
        "\n",
        "Atomic positions:\n",
        "[[ 0.004  0.994  0.997]\n",
        " [ 0.004  0.494  0.497]\n",
        " [ 0.504  0.994  0.497]\n",
        " [ 0.504  0.494  0.997]\n",
        " [ 0.254  0.244  0.247]\n",
        " [ 0.754  0.744  0.247]\n",
        " [ 0.754  0.244  0.747]\n",
        " [ 0.254  0.744  0.747]]\n"
       ]
      }
     ],
     "prompt_number": 22
    },
    {
     "cell_type": "code",
     "collapsed": false,
     "input": [
      "# Vierify the symmetry\n",
      "print \"Symmetry group:\", spglib.get_spacegroup(cryst)"
     ],
     "language": "python",
     "metadata": {},
     "outputs": [
      {
       "output_type": "stream",
       "stream": "stdout",
       "text": [
        "Symmetry group: F-43m      (216)\n"
       ]
      }
     ],
     "prompt_number": 23
    },
    {
     "cell_type": "code",
     "collapsed": false,
     "input": [
      "# Switch to the single point energy calculation mode\n",
      "qe.set(calc='scf')\n",
      "qe.reset()"
     ],
     "language": "python",
     "metadata": {},
     "outputs": [],
     "prompt_number": 24
    },
    {
     "cell_type": "code",
     "collapsed": false,
     "input": [
      "# Verify the final stresses and forces\n",
      "\n",
      "print \"Stress tensor  (Voigt notation, GPa):\\n\", cryst.get_stress()/GPa\n",
      "\n",
      "# Print also the forces (eV/A)\n",
      "\n",
      "print \"\\nForces on atoms (eV/A)\"\n",
      "print \"======================\"\n",
      "print cryst.get_forces()"
     ],
     "language": "python",
     "metadata": {},
     "outputs": [
      {
       "output_type": "stream",
       "stream": "stdout",
       "text": [
        "Stress tensor  (Voigt notation, GPa):\n",
        "[-0.024 -0.024 -0.024  0.     0.     0.   ]"
       ]
      },
      {
       "output_type": "stream",
       "stream": "stdout",
       "text": [
        "\n",
        "\n",
        "Forces on atoms (eV/A)\n",
        "======================\n",
        "[[  3.50044178e-09  -8.80944516e-07   6.17633506e-07]\n",
        " [  2.48920305e-08   8.67720624e-07  -6.30857397e-07]\n",
        " [  5.79517584e-08  -7.93433471e-07  -5.72127763e-07]\n",
        " [  7.38982154e-09   8.83278143e-07   6.89975969e-07]\n",
        " [ -5.62404313e-07  -1.03457502e-06   1.72299523e-07]\n",
        " [  2.12749073e-07   1.23021082e-06   8.94557345e-08]\n",
        " [  5.25844144e-07  -1.72688461e-06  -2.76534901e-07]\n",
        " [ -2.69534017e-07   1.45501697e-06  -8.98446725e-08]]\n"
       ]
      }
     ],
     "prompt_number": 25
    },
    {
     "cell_type": "code",
     "collapsed": false,
     "input": [],
     "language": "python",
     "metadata": {},
     "outputs": [],
     "prompt_number": 18
    }
   ],
   "metadata": {}
  }
 ]
}