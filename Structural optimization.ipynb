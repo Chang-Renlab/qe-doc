{
 "metadata": {
  "name": ""
 },
 "nbformat": 3,
 "nbformat_minor": 0,
 "worksheets": [
  {
   "cells": [
    {
     "cell_type": "markdown",
     "metadata": {},
     "source": [
      "Structure optimization\n",
      "======================\n",
      "\n",
      "This tutorial is concerned with structural optimization. Except for high-symmetry structures - like the cubic crystal we are using in this tutorial the determination of the correct structure for the investigated system is a crucial part in the workflow of the computation. The Quantum-Espresso package is able to do a full structural optimization of the crystal and the QE-util provides an interface to this mode of operation. To continue skip over the initial setup to the second cell below."
     ]
    },
    {
     "cell_type": "code",
     "collapsed": false,
     "input": [
      "# Import the basic libraries\n",
      "\n",
      "# ASE system\n",
      "import ase\n",
      "from ase import Atom, Atoms\n",
      "from ase import io\n",
      "from ase.lattice.spacegroup import crystal\n",
      "from ase.units import GPa, Bohr, Rydberg\n",
      "\n",
      "# Spacegroup/symmetry library\n",
      "from pyspglib import spglib\n",
      "\n",
      "# iPython utility function\n",
      "from IPython.core.display import Image\n",
      "\n",
      "# Import the remote execution tools from the qe-util package\n",
      "from qeutil import RemoteQE\n",
      "\n",
      "# Access info\n",
      "import host\n",
      "\n",
      "qe=RemoteQE(label='SiC-structure',   # A name for the project\n",
      "               kpts=[3,3,3],    # k-space grid\n",
      "               xc='pz',         # Exchange functional type in the name of the pseudopotentials\n",
      "               pp_type='vbc',   # Variant of the pseudopotential\n",
      "               pp_format='UPF', # Format of the pseudopotential files\n",
      "               ecutwfc=70,      # Energy cut-off\n",
      "               pseudo_dir='../pspot',\n",
      "               use_symmetry=True,\n",
      "               procs=4)         # Use 8 cores for the calculation\n",
      "\n",
      "print qe.directory"
     ],
     "language": "python",
     "metadata": {},
     "outputs": [
      {
       "output_type": "stream",
       "stream": "stdout",
       "text": [
        "calc/SiC-structure.gizUSp\n"
       ]
      }
     ],
     "prompt_number": 1
    },
    {
     "cell_type": "markdown",
     "metadata": {},
     "source": [
      "Preparations\n",
      "--------------------\n",
      "\n",
      "To start any calculation we need to create a crystal. We will again use a cubic, zinc-blende (F-43m) SiC crystal again with a lattice constant determined in our first tutorial. But this time we will distort it randomly to have a low-symmetry structure with many potential degrees of freedom and configuration displaced from the equilibrium position. Our task is to find the equilibrium structure - which hepefully will be a high-symmetry cubic crystal with a F-43m space group symmetry."
     ]
    },
    {
     "cell_type": "code",
     "collapsed": false,
     "input": [
      "a=4.344\n",
      "cryst = crystal(['Si', 'C'],\n",
      "                [(0, 0, 0), (0.25, 0.25, 0.25)],\n",
      "                spacegroup=216,\n",
      "                cellpar=[a, a, a, 90, 90, 90])\n",
      "\n",
      "# Assign the calculator to our system\n",
      "cryst.set_calculator(qe)\n",
      "\n",
      "# Verify the symmetry\n",
      "print \"Symmetry group:\", spglib.get_spacegroup(cryst)"
     ],
     "language": "python",
     "metadata": {},
     "outputs": [
      {
       "output_type": "stream",
       "stream": "stdout",
       "text": [
        "Symmetry group: F-43m      (216)\n"
       ]
      }
     ],
     "prompt_number": 2
    },
    {
     "cell_type": "code",
     "collapsed": false,
     "input": [
      "print \"Stress tensor  (Voigt notation, GPa):\\n\", cryst.get_stress()/GPa"
     ],
     "language": "python",
     "metadata": {},
     "outputs": [
      {
       "output_type": "stream",
       "stream": "stdout",
       "text": [
        "Stress tensor  (Voigt notation, GPa):\n",
        "[ 0.054  0.054  0.054  0.    -0.     0.   ]"
       ]
      },
      {
       "output_type": "stream",
       "stream": "stdout",
       "text": [
        "\n"
       ]
      }
     ],
     "prompt_number": 3
    },
    {
     "cell_type": "markdown",
     "metadata": {},
     "source": [
      "Let us distort randomly the positions of atoms in the unit cell as well as the unit cell itself. We will use standard deviation of 0.05 (5% of the unit cel size). This should generate a completely non-symmetric crystal (group P1)."
     ]
    },
    {
     "cell_type": "code",
     "collapsed": false,
     "input": [
      "cryst.rattle(stdev=0.05)\n",
      "cryst.set_cell(diag(1+0.01*randn(3))*cryst.get_cell(), scale_atoms=True)"
     ],
     "language": "python",
     "metadata": {},
     "outputs": [],
     "prompt_number": 4
    },
    {
     "cell_type": "code",
     "collapsed": false,
     "input": [
      "# Verify that indeed we have a low symmetry structure\n",
      "print \"Symmetry group:\", spglib.get_spacegroup(cryst)"
     ],
     "language": "python",
     "metadata": {},
     "outputs": [
      {
       "output_type": "stream",
       "stream": "stdout",
       "text": [
        "Symmetry group: P1         (1)\n"
       ]
      }
     ],
     "prompt_number": 5
    },
    {
     "cell_type": "markdown",
     "metadata": {},
     "source": [
      "Structure check\n",
      "---------------\n",
      "\n",
      "Let us check the effect the distorsion has on the crystal by calculating the stress tensor and forces acting on atoms in the distorted structure. Note that both forces as well as stresses are far from zero."
     ]
    },
    {
     "cell_type": "code",
     "collapsed": false,
     "input": [
      "print \"Stress tensor  (Voigt notation, GPa):\\n\", cryst.get_stress()/GPa\n",
      "\n",
      "# Print also the forces (eV/A)\n",
      "\n",
      "print \"\\nForces on atoms (eV/A)\"\n",
      "print \"======================\"\n",
      "print cryst.get_forces()"
     ],
     "language": "python",
     "metadata": {},
     "outputs": [
      {
       "output_type": "stream",
       "stream": "stdout",
       "text": [
        "Stress tensor  (Voigt notation, GPa):\n",
        "[-0.343  5.131  2.326 -4.224 -2.918 -1.597]"
       ]
      },
      {
       "output_type": "stream",
       "stream": "stdout",
       "text": [
        "\n",
        "\n",
        "Forces on atoms (eV/A)\n",
        "======================\n",
        "[[-0.00176152 -0.00301759 -0.00228585]\n",
        " [-0.00226164 -0.00138287 -0.0003931 ]\n",
        " [-0.00237825 -0.00240174  0.00018783]\n",
        " [-0.00168697  0.00085237 -0.00012202]\n",
        " [ 0.00148171  0.00355414  0.00311736]\n",
        " [ 0.00201898  0.00031664 -0.00032255]\n",
        " [ 0.0029963   0.00184447 -0.00202766]\n",
        " [ 0.0015914   0.00023458  0.001846  ]]\n"
       ]
      }
     ],
     "prompt_number": 6
    },
    {
     "cell_type": "markdown",
     "metadata": {},
     "source": [
      "Optimization procedure\n",
      "----------------------\n",
      "\n",
      "Our goal is to find the the structure as close as possible to minimum of energy (i.e. with as small as possible stresses on the unit cell and forces on atoms). The Quantum Espresso has a special mode of working where it minimizes forces and stresses.\n",
      "The QE-util package provides full access to this mode by the way of `calc` parameter of the calculator object. There are two variants of the optimization procedure:\n",
      "\n",
      "* `'relax'` changes just the atomic positions keeping the cell fixed\n",
      "* `'vc-relax'` which changes atomic positions as well as unit cell shape and size\n",
      "\n",
      "We will first try to optimize the internal degrees of freedom (atomic positions) and in the second step optimize both atomic positions and the unit cell parameters. This is actually a recommended procedure in the case of complicated structures. Running just `vc-relax` optimization may not converge at all in such cases or, even worse, give you a *false minimum*.\n",
      "\n",
      "**Note:** The optimization runs take much longer then the simple energy calculations. Be patient."
     ]
    },
    {
     "cell_type": "code",
     "collapsed": false,
     "input": [
      "# Switch to the atomic position relaxation mode\n",
      "qe.set(calc='relax')\n",
      "\n",
      "# Switch off the use of symmetries. \n",
      "qe.set(use_symmetry=False)\n",
      "\n",
      "# Force recalculation by clearing the results from the previous calculation.\n",
      "qe.reset()"
     ],
     "language": "python",
     "metadata": {},
     "outputs": [],
     "prompt_number": 7
    },
    {
     "cell_type": "code",
     "collapsed": false,
     "input": [
      "# Run the calculation and get the stresses and forces at the end.\n",
      "# The structure in cryst is *not* modified\n",
      "print \"Stress:\\n\", cryst.get_stress()/GPa\n",
      "print \"\\nForces:\\n\", cryst.get_forces()"
     ],
     "language": "python",
     "metadata": {},
     "outputs": [
      {
       "output_type": "stream",
       "stream": "stdout",
       "text": [
        "Stress:\n",
        "[ 1.296  6.675  3.84  -0.027 -0.019 -0.012]"
       ]
      },
      {
       "output_type": "stream",
       "stream": "stdout",
       "text": [
        "\n",
        "\n",
        "Forces:\n",
        "[[ -2.33432794e-05  -2.42728412e-05  -1.90890759e-05]\n",
        " [ -1.82450805e-06   5.73761302e-06  -1.11022345e-05]\n",
        " [ -1.48325387e-05  -1.05872806e-05   4.66064377e-06]\n",
        " [ -1.26093692e-05  -8.23576164e-06   1.31694399e-06]\n",
        " [  3.47391621e-05   1.17105335e-05   4.17486023e-06]\n",
        " [  3.50355329e-06   1.57601557e-05  -6.21056160e-06]\n",
        " [ -8.42711913e-06  -1.55419615e-05   1.81241207e-05]\n",
        " [  2.27940990e-05   2.54295427e-05   8.12530326e-06]]\n"
       ]
      }
     ],
     "prompt_number": 8
    },
    {
     "cell_type": "markdown",
     "metadata": {},
     "source": [
      "After running the first cycle, we note that the stresses have been reduced mostly to the diagonal part of the tensor (first three numbers in the Voigt notation) and forces have been diminished to the level of $10^{5}$ eV/A. We can improve this result by lowering the convergence condition to the $10^{-8}$ eV/A (note the translation of units to the units required by Quantum Espresso). We change the condition and re-run the calculation on the same structure."
     ]
    },
    {
     "cell_type": "code",
     "collapsed": false,
     "input": [
      "qe.set(forc_conv_thr=1e-8*Rydberg/Bohr)\n",
      "qe.reset()"
     ],
     "language": "python",
     "metadata": {},
     "outputs": [],
     "prompt_number": 9
    },
    {
     "cell_type": "code",
     "collapsed": false,
     "input": [
      "print \"Stress:\\n\", cryst.get_stress()/GPa\n",
      "print \"\\nForces:\\n\", cryst.get_forces()"
     ],
     "language": "python",
     "metadata": {},
     "outputs": [
      {
       "output_type": "stream",
       "stream": "stdout",
       "text": [
        "Stress:\n",
        "[ 1.296  6.675  3.84  -0.    -0.     0.   ]"
       ]
      },
      {
       "output_type": "stream",
       "stream": "stdout",
       "text": [
        "\n",
        "\n",
        "Forces:\n",
        "[[ -3.52377806e-07  -3.26318962e-07  -3.51210992e-07]\n",
        " [  2.49698181e-07  -2.21694646e-08   1.30294222e-07]\n",
        " [ -1.07346881e-07   2.96759676e-07  -1.47018555e-07]\n",
        " [  2.91703482e-08  -3.15039761e-08   3.42265419e-07]\n",
        " [  5.39845911e-07  -1.68021206e-07  -3.81159216e-08]\n",
        " [ -9.49786537e-07  -7.00088357e-08  -1.52463687e-07]\n",
        " [ -6.32802087e-07  -1.21348649e-07  -2.89369854e-07]\n",
        " [  1.22359887e-06   4.42222479e-07   5.05619369e-07]]\n"
       ]
      }
     ],
     "prompt_number": 10
    },
    {
     "cell_type": "markdown",
     "metadata": {},
     "source": [
      "Updating the structure\n",
      "----------------------\n",
      "\n",
      "We can see that the forces dropped by another two orders of magnitude and the stress got concentrated even more on the diagonal elements. Thus, let us update the positions in the `cryst` object with a our new positions. The found positions are present in the `results` dictionary of the calculator object. We can check the symmetry of the resulting crystal - but it will probably be different from the desired F-43m. Which should be expected - the unit cell is still the same deformed unit cell we have generated at the start."
     ]
    },
    {
     "cell_type": "code",
     "collapsed": false,
     "input": [
      "# Update the positions using calculated values\n",
      "cryst.set_scaled_positions(qe.results['atomic_positions'])\n",
      "\n",
      "# Check the symmetry. Probably not the F-43m !\n",
      "print \"Symmetry group:\", spglib.get_spacegroup(cryst,symprec=1e-4)"
     ],
     "language": "python",
     "metadata": {},
     "outputs": [
      {
       "output_type": "stream",
       "stream": "stdout",
       "text": [
        "Symmetry group: P2         (3)\n"
       ]
      }
     ],
     "prompt_number": 11
    },
    {
     "cell_type": "markdown",
     "metadata": {},
     "source": [
      "Full cell optimization\n",
      "----------------------\n",
      "\n",
      "We have approched optimal atomic positions in the unit cell. It is time to search for the optimal shape and size of the unit cell itself. We need to switch to the `vc-relax` mode and run the optimization again. Then update the structure again - this time both unit cell and atomic positions and check the symmetry."
     ]
    },
    {
     "cell_type": "code",
     "collapsed": false,
     "input": [
      "qe.set(calc='vc-relax')\n",
      "qe.reset()"
     ],
     "language": "python",
     "metadata": {},
     "outputs": [],
     "prompt_number": 15
    },
    {
     "cell_type": "code",
     "collapsed": false,
     "input": [
      "print \"Stress:\\n\", cryst.get_stress()/GPa\n",
      "print \"\\nForces:\\n\", cryst.get_forces()"
     ],
     "language": "python",
     "metadata": {},
     "outputs": [
      {
       "output_type": "stream",
       "stream": "stdout",
       "text": [
        "Stress:\n",
        "[ 0.001  0.001  0.001 -0.     0.     0.   ]"
       ]
      },
      {
       "output_type": "stream",
       "stream": "stdout",
       "text": [
        "\n",
        "\n",
        "Forces:\n",
        "[[  1.16681393e-09  -1.98358368e-08  -8.16769750e-09]\n",
        " [ -5.44513166e-09  -1.01123874e-08   7.77875952e-09]\n",
        " [  2.33362786e-09   9.33451142e-09   9.33451142e-09]\n",
        " [ -1.01123874e-08   1.71132709e-08   1.90579608e-08]\n",
        " [ -1.72688461e-07   9.41229902e-08  -3.11150381e-07]\n",
        " [  2.04192437e-07  -9.68455560e-08  -3.10761443e-07]\n",
        " [  1.56742004e-07   1.03846440e-07   3.18151264e-07]\n",
        " [ -1.76188903e-07  -9.76234320e-08   2.74979149e-07]]\n"
       ]
      }
     ],
     "prompt_number": 16
    },
    {
     "cell_type": "code",
     "collapsed": false,
     "input": [
      "# Update the crystal\n",
      "cryst.set_cell(qe.results['cell'])\n",
      "cryst.set_scaled_positions(qe.results['atomic_positions'])\n",
      "\n",
      "# Check the symmetry\n",
      "print \"Symmetry group:\", spglib.get_spacegroup(cryst,symprec=1e-4)"
     ],
     "language": "python",
     "metadata": {},
     "outputs": [
      {
       "output_type": "stream",
       "stream": "stdout",
       "text": [
        "Symmetry group: F-43m      (216)\n"
       ]
      }
     ],
     "prompt_number": 17
    },
    {
     "cell_type": "markdown",
     "metadata": {},
     "source": [
      "Finishing\n",
      "---------\n",
      "\n",
      "After a single run the forces/stresses as well as the symmetry will not be converged well enough. You will need to repeat the cycle of updating the crystal and optimizing it again (two cells above) one or two more times - until you reach the appropriate level of forces/stresses and symmetry. \n",
      "\n",
      "We can conclude the run by \"snapping\" the structure to the high-symmetry values by rounding the positions and sizes to appropriate number of decimal places. \n",
      "\n",
      "Finally we check the symmetry of the structure and verify the stresses and forces by running a single point (`scf` - Self Consistent Field) calculation on the final structure - which should result in stress components below 0.01 GPa and forces below $10^{-6}$ eV/A as well as recovery of the expected F-43m symmetry group of the crystal."
     ]
    },
    {
     "cell_type": "code",
     "collapsed": false,
     "input": [
      "# Round the sizes and positions to get to the high-symmetry structure\n",
      "cryst.set_cell(np.round(qe.results['cell'],4))\n",
      "cryst.set_scaled_positions(np.round(qe.results['atomic_positions'],3))\n",
      "\n",
      "# See the structure\n",
      "print \"Unit cell:\\n\", cryst.get_cell()\n",
      "print \"\\nAtomic positions:\\n\", cryst.get_scaled_positions()\n"
     ],
     "language": "python",
     "metadata": {},
     "outputs": [
      {
       "output_type": "stream",
       "stream": "stdout",
       "text": [
        "Unit cell:\n",
        "[[ 4.3343 -0.      0.    ]\n",
        " [-0.      4.3343  0.    ]\n",
        " [ 0.      0.      4.3343]]\n",
        "\n",
        "Atomic positions:\n",
        "[[ 0.004  0.994  0.997]\n",
        " [ 0.004  0.494  0.497]\n",
        " [ 0.504  0.994  0.497]\n",
        " [ 0.504  0.494  0.997]\n",
        " [ 0.254  0.244  0.247]\n",
        " [ 0.754  0.744  0.247]\n",
        " [ 0.754  0.244  0.747]\n",
        " [ 0.254  0.744  0.747]]\n"
       ]
      }
     ],
     "prompt_number": 18
    },
    {
     "cell_type": "code",
     "collapsed": false,
     "input": [
      "# Vierify the symmetry\n",
      "print \"Symmetry group:\", spglib.get_spacegroup(cryst)"
     ],
     "language": "python",
     "metadata": {},
     "outputs": [
      {
       "output_type": "stream",
       "stream": "stdout",
       "text": [
        "Symmetry group: F-43m      (216)\n"
       ]
      }
     ],
     "prompt_number": 19
    },
    {
     "cell_type": "code",
     "collapsed": false,
     "input": [
      "# Switch to the single point energy calculation mode\n",
      "qe.set(calc='scf')\n",
      "qe.reset()"
     ],
     "language": "python",
     "metadata": {},
     "outputs": [],
     "prompt_number": 20
    },
    {
     "cell_type": "code",
     "collapsed": false,
     "input": [
      "# Verify the final stresses and forces\n",
      "\n",
      "print \"Stress tensor  (Voigt notation, GPa):\\n\", cryst.get_stress()/GPa\n",
      "\n",
      "# Print also the forces (eV/A)\n",
      "\n",
      "print \"\\nForces on atoms (eV/A)\"\n",
      "print \"======================\"\n",
      "print cryst.get_forces()"
     ],
     "language": "python",
     "metadata": {},
     "outputs": [
      {
       "output_type": "stream",
       "stream": "stdout",
       "text": [
        "Stress tensor  (Voigt notation, GPa):\n",
        "[-0.008 -0.008 -0.008  0.     0.     0.   ]"
       ]
      },
      {
       "output_type": "stream",
       "stream": "stdout",
       "text": [
        "\n",
        "\n",
        "Forces on atoms (eV/A)\n",
        "======================\n",
        "[[  3.88937976e-09  -8.80944516e-07   6.17244568e-07]\n",
        " [  2.60588444e-08   8.67720624e-07  -6.31635273e-07]\n",
        " [  5.83406964e-08  -7.93433471e-07  -5.72516701e-07]\n",
        " [  7.77875952e-09   8.83278143e-07   6.89587031e-07]\n",
        " [ -5.63571127e-07  -1.03301926e-06   1.73466337e-07]\n",
        " [  2.12360135e-07   1.22943294e-06   9.02336104e-08]\n",
        " [  5.24677330e-07  -1.72766249e-06  -2.76145963e-07]\n",
        " [ -2.69145079e-07   1.45462803e-06  -9.06225484e-08]]\n"
       ]
      }
     ],
     "prompt_number": 21
    }
   ],
   "metadata": {}
  }
 ]
}