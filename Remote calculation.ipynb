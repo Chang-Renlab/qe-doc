{
 "metadata": {
  "name": ""
 },
 "nbformat": 3,
 "nbformat_minor": 0,
 "worksheets": [
  {
   "cells": [
    {
     "cell_type": "markdown",
     "metadata": {},
     "source": [
      "Calculations using remote computers\n",
      "===================================\n",
      "\n",
      "To use the qeutil system you need to do three things first.\n",
      "\n",
      " * Read a basic introduction to the iPython interpreter and the notebook environment. You will find the links to the documentation at the top of the page under menu \"Help\". You should at least read the \"Keyboard shortcuts\" document.\n",
      " * Import a set of libraries into your notebook environment\n",
      " * Configure the qeutil for your particular computing setup\n",
      " \n",
      "During working out the example pay attention to the comments in the code. There are further explenations and descriptions in the comments. The comment starts with the \"#\" character and continues to the end of the line. It is not a proper place for the introduction to the python language (read the docs in the Help menu if you do not know it). Let me just explain that the indentation in the python code *is important*. The blocks of code are defined by the common indentation. \n",
      " \n",
      "Importing\n",
      "---------\n",
      "The following notebook includes a minimal set of libraries required for it too run. You may need additional libraries if you extend the analysis presented below. It is as easy as adding additional 'import' clauses at the beginning. The necessary set of libraries is already included.\n",
      "\n",
      "Configuring\n",
      "-----------\n",
      "This part is a little bit more complicated. The notebook is configured for a local execution of the Quantum Espresso programs. The qe-util has some support for the remote execution with a help of the queue menagement system. There is an (commented out) example of the configuration appropriate for the execution on one of the Westgrid computers. You will need to figure out how to adapt the config for your particular execution environment.\n"
     ]
    },
    {
     "cell_type": "code",
     "collapsed": false,
     "input": [
      "# Import the basic libraries\n",
      "import ase\n",
      "#from ase.calculators.calculator import FileIOCalculator\n",
      "from ase import Atom, Atoms\n",
      "from ase import io\n",
      "from ase.lattice.spacegroup import crystal\n",
      "from IPython.core.display import Image\n",
      "from pyspglib import spglib"
     ],
     "language": "python",
     "metadata": {},
     "outputs": [],
     "prompt_number": 1
    },
    {
     "cell_type": "code",
     "collapsed": false,
     "input": [
      "# Import the qe-util package\n",
      "import qeu\n",
      "import qeu.writers\n",
      "from qeu import QuantumEspresso"
     ],
     "language": "python",
     "metadata": {},
     "outputs": [],
     "prompt_number": 2
    },
    {
     "cell_type": "code",
     "collapsed": false,
     "input": [
      "# Configure qe-util\n",
      "\n",
      "# Local execution of the Quantum Espresso on four processors\n",
      "QuantumEspresso.pw_cmd='mpiexec -n 4 pw.x < pw.in > pw.out'\n",
      "QuantumEspresso.ph_cmd='mpiexec -n 4 ph.x < ph.in > ph.out'\n",
      "QuantumEspresso.matdyn_cmd='mpiexec -n 4 matdyn.x < matdyn.in > matdyn.out'\n",
      "QuantumEspresso.q2r_cmd='q2r.x < q2r.in > q2r.out'\n",
      "QuantumEspresso.phdos_cmd='mpiexec -n 4 matdyn.x < phdos.in > phdos.out'"
     ],
     "language": "python",
     "metadata": {},
     "outputs": [],
     "prompt_number": 3
    },
    {
     "cell_type": "code",
     "collapsed": false,
     "input": [
      "# Remote execution setup\n",
      "# import os\n",
      "# qsub_cmd='/var/spool/torque/torque-version/bin/qsub'\n",
      "# d=os.path.split(qe.directory)[1]\n",
      "# qe.pw_cmd='ssh -C jasper.westgrid.ca \"cd calc/%s ; %s -N %s -l procs=4 ../run-pw.pbs\"' % (d,qsub_cmd,d)"
     ],
     "language": "python",
     "metadata": {},
     "outputs": [],
     "prompt_number": 4
    },
    {
     "cell_type": "code",
     "collapsed": false,
     "input": [
      "#Stup the ThO_2 crystal\n",
      "# Create a cubic crystal with a spacegroup Fm-3m (225) and a given lattice constant\n",
      "a=5.4814\n",
      "cryst = crystal(['Th', 'O'],\n",
      "                [(0, 0, 0), (0.25, 0.25, 0.25)],\n",
      "                spacegroup=225,\n",
      "                cellpar=[a, a, a, 90, 90, 90])"
     ],
     "language": "python",
     "metadata": {},
     "outputs": [],
     "prompt_number": 27
    },
    {
     "cell_type": "code",
     "collapsed": false,
     "input": [
      "# We can display the picture of the crystal\n",
      "ase.io.write('crystal.png',cryst,format='png',show_unit_cell=2, rotation='115y,15x', scale=30)\n",
      "Image(filename='crystal.png')"
     ],
     "language": "python",
     "metadata": {},
     "outputs": [
      {
       "metadata": {},
       "output_type": "pyout",
       "png": "[encoded data removed]",
       "prompt_number": 31,
       "text": [
        "<IPython.core.display.Image at 0x2ba0f90>"
       ]
      }
     ],
     "prompt_number": 31
    },
    {
     "cell_type": "code",
     "collapsed": false,
     "input": [
      "# Check the spacegroup (symmetry) of our creation\n",
      "spglib.get_spacegroup(cryst)"
     ],
     "language": "python",
     "metadata": {},
     "outputs": [
      {
       "metadata": {},
       "output_type": "pyout",
       "prompt_number": 32,
       "text": [
        "'Fm-3m      (225)'"
       ]
      }
     ],
     "prompt_number": 32
    },
    {
     "cell_type": "code",
     "collapsed": false,
     "input": [
      "# Find a primitive cell of the structure\n",
      "puc=spglib.find_primitive(cryst)\n",
      "print 'Primitive unit cell:\\n', puc[0]\n",
      "print 'Atomic positions:\\n', puc[1]"
     ],
     "language": "python",
     "metadata": {},
     "outputs": [
      {
       "output_type": "stream",
       "stream": "stdout",
       "text": [
        "Primitive unit cell:\n",
        "[[ 2.7407 -2.7407  0.    ]\n",
        " [-2.7407 -0.     -2.7407]\n",
        " [ 2.7407  2.7407  0.    ]]\n",
        "Atomic positions:\n",
        "[[ -5.55111512e-17  -1.11022302e-16   2.77555756e-17]\n",
        " [ -2.50000000e-01   5.00000000e-01   2.50000000e-01]\n",
        " [  2.50000000e-01   5.00000000e-01  -2.50000000e-01]]\n"
       ]
      }
     ],
     "prompt_number": 34
    },
    {
     "cell_type": "code",
     "collapsed": false,
     "input": [
      "# Create the primitive cell crystal\n",
      "# This is just for show. The qe-util extracts the primitive structure when it needs to.\n",
      "cryst_prim=Atoms(cell=puc[0],scaled_positions=puc[1],numbers=puc[2],pbc=True)"
     ],
     "language": "python",
     "metadata": {},
     "outputs": [],
     "prompt_number": 9
    },
    {
     "cell_type": "code",
     "collapsed": false,
     "input": [
      "# Check if the symmetry is still the same\n",
      "print spglib.get_spacegroup(cryst_prim)"
     ],
     "language": "python",
     "metadata": {},
     "outputs": [
      {
       "output_type": "stream",
       "stream": "stdout",
       "text": [
        "Fm-3m      (225)\n"
       ]
      }
     ],
     "prompt_number": 36
    },
    {
     "cell_type": "code",
     "collapsed": false,
     "input": [
      "# Take a look\n",
      "ase.io.write('crystal-prim.png',cryst_prim,format='png',show_unit_cell=2, rotation='115y,15x', scale=30)\n",
      "Image(filename='crystal-prim.png')"
     ],
     "language": "python",
     "metadata": {},
     "outputs": [
      {
       "metadata": {},
       "output_type": "pyout",
       "png": "[encoded data removed]",
       "prompt_number": 37,
       "text": [
        "<IPython.core.display.Image at 0x2ba0710>"
       ]
      }
     ],
     "prompt_number": 37
    },
    {
     "cell_type": "code",
     "collapsed": false,
     "input": [
      "# Create a Quantum Espresso calculator for our work. \n",
      "# This object encapsulates all parameters of the calculation, \n",
      "# not the system we are investigating.\n",
      "#qe=QuantumEspresso(label='Testing',nk=[4,4,4],nq=[4,4,4],xc='LDA',ecutwfc=70,wdir='/home/jochym/Desktop/Fizyka/jasper/')\n",
      "qe=QuantumEspresso(label='Testing',kpts=[4,4,4],qpts=[4,4,4],xc='LDA',ecutwfc=70,use_symmetry=True)\n",
      "# Check where the calculation files will reside.\n",
      "print qe.directory"
     ],
     "language": "python",
     "metadata": {},
     "outputs": [
      {
       "output_type": "stream",
       "stream": "stdout",
       "text": [
        "./Testing.MQuUAW\n",
        "./Testing.MQuUAW\n"
       ]
      }
     ],
     "prompt_number": 38
    },
    {
     "cell_type": "code",
     "collapsed": false,
     "input": [
      "# Assign the calculator to our system\n",
      "cryst.set_calculator(qe)"
     ],
     "language": "python",
     "metadata": {},
     "outputs": [],
     "prompt_number": 39
    },
    {
     "cell_type": "code",
     "collapsed": false,
     "input": [
      "# Check the command to be run for the basic calculation\n",
      "print qe.pw_cmd"
     ],
     "language": "python",
     "metadata": {},
     "outputs": [
      {
       "output_type": "stream",
       "stream": "stdout",
       "text": [
        "mpiexec -n 4 pw.x < pw.in > pw.out\n"
       ]
      }
     ],
     "prompt_number": 40
    },
    {
     "cell_type": "code",
     "collapsed": false,
     "input": [
      "# Run the calculation to get stress tensor (in Voigt notation, in eV/A^3) and pressure (in kBar)\n",
      "print \"Stress tensor   (eV/A^3):\", cryst.get_stress()\n",
      "print \"External pressure (kBar):\", cryst.get_isotropic_pressure(cryst.get_stress())*1e-3"
     ],
     "language": "python",
     "metadata": {},
     "outputs": [
      {
       "output_type": "stream",
       "stream": "stdout",
       "text": [
        "Stress tensor   (eV/A^3): [-0.00019973 -0.00019973 -0.00019973  0.         -0.          0.        ]\n",
        "External pressure (kBar): 0.32\n"
       ]
      }
     ],
     "prompt_number": 43
    },
    {
     "cell_type": "code",
     "collapsed": false,
     "input": [
      "# Do the same but get the results in GPa\n",
      "# Note that this time we get the results imadiately. \n",
      "# We did not change the system, so it is not necessary to repeat the calculation.\n",
      "print \"Stress tensor     (GPa):\", cryst.get_stress()/ase.units.GPa\n",
      "print \"External pressure (GPa):\", cryst.get_isotropic_pressure(cryst.get_stress())*1e-4"
     ],
     "language": "python",
     "metadata": {},
     "outputs": [
      {
       "output_type": "stream",
       "stream": "stdout",
       "text": [
        "Stress tensor     (GPa): [-0.032 -0.032 -0.032  0.    -0.     0.   ]\n",
        "External pressure (GPa): 0.032\n"
       ]
      }
     ],
     "prompt_number": 47
    },
    {
     "cell_type": "markdown",
     "metadata": {},
     "source": [
      "Series of calculations\n",
      "----------------------\n",
      "We can run a series of calculations. \n",
      "For example we can find a minimum of energy of our crystal.\n",
      "To do this we need to modify the crystal at each turn of \n",
      "the loop and collect the results. \n",
      "Alternatively we can create a whole bunch of systems and calculators\n",
      "and run them all at once. If you have many CPUs this may \n",
      "considerably speed up the calculation."
     ]
    },
    {
     "cell_type": "code",
     "collapsed": false,
     "input": [
      "# First a sequential run\n",
      "result=[]\n",
      "cr=Atoms(cryst)\n",
      "cr.set_calculator(qe)\n",
      "print \" Scale     Energy (eV)  Pressure (GPa) \"\n",
      "print \"--------------------------------------\"\n",
      "for x in linspace(0.98,1.02,11):\n",
      "    cr.set_cell(cryst.get_cell()*x,scale_atoms=True)\n",
      "    result.append([x, cr.get_potential_energy(), -1e-4*cr.get_isotropic_pressure(cr.get_stress())])\n",
      "    print \"% 5.03f     %+6.4f      % +8.3f \" % tuple(result[-1])\n",
      "\n",
      "# Prepare the collected data for plotting\n",
      "# This will make an array (matrix) out of a list and transpose it for easier access\n",
      "result=array(result).T\n",
      "\n",
      "# Let us save our calculated data to a file. \n",
      "# To have data in columns we need to transpose the array.\n",
      "savetxt('e+p-vs-a.dat',result.T)"
     ],
     "language": "python",
     "metadata": {},
     "outputs": [
      {
       "output_type": "stream",
       "stream": "stdout",
       "text": [
        " Scale     Energy (eV)  Pressure (GPa) \n",
        "--------------------------------------\n",
        " 0.980     -136.4919       +15.078 "
       ]
      },
      {
       "output_type": "stream",
       "stream": "stdout",
       "text": [
        "\n",
        " 0.984     -136.4950       +11.751 "
       ]
      },
      {
       "output_type": "stream",
       "stream": "stdout",
       "text": [
        "\n",
        " 0.988     -136.4974        +8.550 "
       ]
      },
      {
       "output_type": "stream",
       "stream": "stdout",
       "text": [
        "\n",
        " 0.992     -136.4991        +5.538 "
       ]
      },
      {
       "output_type": "stream",
       "stream": "stdout",
       "text": [
        "\n",
        " 0.996     -136.5002        +2.749 "
       ]
      },
      {
       "output_type": "stream",
       "stream": "stdout",
       "text": [
        "\n",
        " 1.000     -136.5006        -0.032 "
       ]
      },
      {
       "output_type": "stream",
       "stream": "stdout",
       "text": [
        "\n",
        " 1.004     -136.5005        -2.511 "
       ]
      },
      {
       "output_type": "stream",
       "stream": "stdout",
       "text": [
        "\n",
        " 1.008     -136.4997        -4.958 "
       ]
      },
      {
       "output_type": "stream",
       "stream": "stdout",
       "text": [
        "\n",
        " 1.012     -136.4985        -7.239 "
       ]
      },
      {
       "output_type": "stream",
       "stream": "stdout",
       "text": [
        "\n",
        " 1.016     -136.4966        -9.481 "
       ]
      },
      {
       "output_type": "stream",
       "stream": "stdout",
       "text": [
        "\n",
        " 1.020     -136.4943       -11.545 "
       ]
      },
      {
       "output_type": "stream",
       "stream": "stdout",
       "text": [
        "\n"
       ]
      }
     ],
     "prompt_number": 83
    },
    {
     "cell_type": "code",
     "collapsed": false,
     "input": [
      "# Let us plot the results and save the figure\n",
      "figsize(12,7)\n",
      "plot(result[0]*cryst.get_cell()[0,0],result[1],'o-',label='Total internal energy')\n",
      "legend()\n",
      "xlabel('Lattice vector length ($\\AA$)')\n",
      "ylabel('Energy (eV)')\n",
      "savefig('e-vs-a.pdf')"
     ],
     "language": "python",
     "metadata": {},
     "outputs": [
      {
       "metadata": {},
       "output_type": "display_data",
       "png": "[encoded data removed]",
       "text": [
        "<matplotlib.figure.Figure at 0x24552d0>"
       ]
      }
     ],
     "prompt_number": 81
    },
    {
     "cell_type": "code",
     "collapsed": false,
     "input": [
      "# Let's do the same with pressure. \n",
      "# But this time let us fit a Birch-Murnaghan equation of state to the data\n",
      "\n",
      "# We need a fitting package from scipy\n",
      "from scipy import optimize\n",
      "\n",
      "# Define a B-M eos function\n",
      "def BMEOS(v,v0,b0,b0p):\n",
      "        return (b0/b0p)*(pow(v0/v,b0p) - 1)\n",
      "\n",
      "# Define functions for fitting\n",
      "# The B-M EOS is defined as a function of volume.\n",
      "# Our data is a function of lattice parameter V=A^3\n",
      "fitfunc = lambda p, x: [BMEOS(xv**3,p[0]**3,p[1],p[2]) for xv in x]\n",
      "errfunc = lambda p, x, y: fitfunc(p, x) - y\n",
      "\n",
      "\n",
      "figsize(12,6)\n",
      "# Plot the data\n",
      "plot(result[0]*cryst.get_cell()[0,0],result[2],'o',label='Pressure')\n",
      "\n",
      "# Fit the EOS\n",
      "\n",
      "# Create a data array\n",
      "ap=array([result[0]*cryst.get_cell()[0,0],result[2]])\n",
      "\n",
      "# Estimate the initial guess assuming b0p=1\n",
      "# Limiting arguments\n",
      "a1=min(ap[0])\n",
      "a2=max(ap[0])\n",
      "# The pressure is falling with the growing volume\n",
      "p2=min(ap[1])\n",
      "p1=max(ap[1])\n",
      "\n",
      "# Estimate the slope\n",
      "b0=(p1*a1-p2*a2)/(a2-a1)\n",
      "a0=(a1)*(p1+b0)/b0\n",
      "# Initial guess\n",
      "p0=[a0,b0,1]\n",
      "#Fitting\n",
      "#print p0\n",
      "fit, succ = optimize.leastsq(errfunc, p0[:], args=(ap[0],ap[1]))\n",
      "\n",
      "# Ranges - the ordering in ap is not guarateed at all!\n",
      "# In fact it may be purely random.\n",
      "x=numpy.array([min(ap[0]),max(ap[0])])\n",
      "y=numpy.array([min(ap[1]),max(ap[1])])\n",
      "\n",
      "# Plot the P(V) curves and points for the crystal\n",
      "\n",
      "# Mark the center P=0 V=V0\n",
      "axvline(fit[0],ls='--')\n",
      "axhline(0,ls='--')\n",
      "\n",
      "# Plot the fitted B-M EOS through the points\n",
      "xa=numpy.linspace(x[0],x[-1],20)\n",
      "plot(xa,fitfunc(fit,xa),'-', \n",
      "     label=\"B-M fit:\\n$A_0$=%6.4f $\\AA$,\\n$B_0$=%6.1f GPa,\\n$B'_0$=%5.3f  \" % (fit[0], fit[1], fit[2]) )\n",
      "\n",
      "legend()\n",
      "xlabel('Lattice vector length ($\\AA$)')\n",
      "ylabel('Pressure (GPa)')\n",
      "savefig('p-vs-a.pdf')"
     ],
     "language": "python",
     "metadata": {},
     "outputs": [
      {
       "metadata": {},
       "output_type": "display_data",
       "png": "[encoded data removed]",
       "text": [
        "<matplotlib.figure.Figure at 0x34bc110>"
       ]
      }
     ],
     "prompt_number": 82
    },
    {
     "cell_type": "code",
     "collapsed": false,
     "input": [
      "try: \n",
      "    cryst.calc.read_results()\n",
      "except qeu.CalcNotReadyError :\n",
      "    pass"
     ],
     "language": "python",
     "metadata": {},
     "outputs": [],
     "prompt_number": 16
    },
    {
     "cell_type": "code",
     "collapsed": false,
     "input": [],
     "language": "python",
     "metadata": {},
     "outputs": [],
     "prompt_number": 19
    }
   ],
   "metadata": {}
  }
 ]
}