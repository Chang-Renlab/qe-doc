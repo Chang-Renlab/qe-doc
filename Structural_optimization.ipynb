{
 "metadata": {
  "name": ""
 },
 "nbformat": 3,
 "nbformat_minor": 0,
 "worksheets": [
  {
   "cells": [
    {
     "cell_type": "markdown",
     "metadata": {},
     "source": [
      "Structure optimization\n",
      "======================\n",
      "\n",
      "This tutorial is concerned with structural optimization. Except for high-symmetry structures - like the cubic crystal we are using in this tutorial the determination of the correct structure for the investigated system is a crucial part in the workflow of the computation. The Quantum-Espresso package is able to do a full structural optimization of the crystal and the QE-util provides an interface to this mode of operation. To continue skip over the initial setup to the second cell below."
     ]
    },
    {
     "cell_type": "code",
     "collapsed": false,
     "input": [
      "# Import the basic libraries\n",
      "\n",
      "# ASE system\n",
      "import ase\n",
      "from ase import Atom, Atoms\n",
      "from ase import io\n",
      "from ase.lattice.spacegroup import crystal\n",
      "from ase.units import GPa, Bohr, Rydberg\n",
      "\n",
      "# Spacegroup/symmetry library\n",
      "from pyspglib import spglib\n",
      "\n",
      "# iPython utility function\n",
      "from IPython.core.display import Image\n",
      "\n",
      "# Import the remote execution tools from the qe-util package\n",
      "from qeutil import RemoteQE\n",
      "\n",
      "# Access info\n",
      "import host\n",
      "\n",
      "qe=RemoteQE(label='SiC-structure',   # A name for the project\n",
      "               kpts=[3,3,3],    # k-space grid\n",
      "               xc='pz',         # Exchange functional type in the name of the pseudopotentials\n",
      "               pp_type='vbc',   # Variant of the pseudopotential\n",
      "               pp_format='UPF', # Format of the pseudopotential files\n",
      "               ecutwfc=70,      # Energy cut-off\n",
      "               pseudo_dir='../pspot',\n",
      "               use_symmetry=True,\n",
      "               procs=4)         # Use 8 cores for the calculation\n",
      "\n",
      "print qe.directory"
     ],
     "language": "python",
     "metadata": {},
     "outputs": [
      {
       "output_type": "stream",
       "stream": "stdout",
       "text": [
        "calc/SiC-structure.GHl7tH\n"
       ]
      }
     ],
     "prompt_number": 1
    },
    {
     "cell_type": "markdown",
     "metadata": {},
     "source": [
      "Preparations\n",
      "--------------------\n",
      "\n",
      "To start any calculation we need to create a crystal. We will again use a cubic, zinc-blende (F-43m) SiC crystal again with a lattice constant determined in our first tutorial. But this time we will distort it randomly to have a low-symmetry structure with many potential degrees of freedom and configuration displaced from the equilibrium position. Our task is to find the equilibrium structure - which hepefully will be a high-symmetry cubic crystal with a F-43m space group symmetry."
     ]
    },
    {
     "cell_type": "code",
     "collapsed": false,
     "input": [
      "a=4.344\n",
      "cryst = crystal(['Si', 'C'],\n",
      "                [(0, 0, 0), (0.25, 0.25, 0.25)],\n",
      "                spacegroup=216,\n",
      "                cellpar=[a, a, a, 90, 90, 90])\n",
      "\n",
      "# Assign the calculator to our system\n",
      "cryst.set_calculator(qe)\n",
      "\n",
      "# Verify the symmetry\n",
      "print \"Symmetry group:\", spglib.get_spacegroup(cryst)"
     ],
     "language": "python",
     "metadata": {},
     "outputs": [
      {
       "output_type": "stream",
       "stream": "stdout",
       "text": [
        "Symmetry group: F-43m      (216)\n"
       ]
      }
     ],
     "prompt_number": 2
    },
    {
     "cell_type": "code",
     "collapsed": false,
     "input": [
      "print \"Stress tensor  (Voigt notation, GPa):\\n\", cryst.get_stress()/GPa"
     ],
     "language": "python",
     "metadata": {},
     "outputs": [
      {
       "output_type": "stream",
       "stream": "stdout",
       "text": [
        "Stress tensor  (Voigt notation, GPa):\n",
        "[ 0.054  0.054  0.054  0.    -0.     0.   ]"
       ]
      },
      {
       "output_type": "stream",
       "stream": "stdout",
       "text": [
        "\n"
       ]
      }
     ],
     "prompt_number": 3
    },
    {
     "cell_type": "markdown",
     "metadata": {},
     "source": [
      "Let us distort randomly the positions of atoms in the unit cell as well as the unit cell itself. We will use standard deviation of 0.05 (5% of the unit cel size). This should generate a completely non-symmetric crystal (group P1)."
     ]
    },
    {
     "cell_type": "code",
     "collapsed": false,
     "input": [
      "cryst.rattle(stdev=0.05)\n",
      "cryst.set_cell(diag(1+0.01*randn(3))*cryst.get_cell(), scale_atoms=True)"
     ],
     "language": "python",
     "metadata": {},
     "outputs": [],
     "prompt_number": 4
    },
    {
     "cell_type": "code",
     "collapsed": false,
     "input": [
      "# Verify that indeed we have a low symmetry structure\n",
      "print \"Symmetry group:\", spglib.get_spacegroup(cryst)"
     ],
     "language": "python",
     "metadata": {},
     "outputs": [
      {
       "output_type": "stream",
       "stream": "stdout",
       "text": [
        "Symmetry group: P1         (1)\n"
       ]
      }
     ],
     "prompt_number": 5
    },
    {
     "cell_type": "code",
     "collapsed": false,
     "input": [
      "# Display the structure\n",
      "ase.io.write('crystal.png', cryst, format='png', show_unit_cell=2, rotation='115y,15x', scale=30)\n",
      "Image(filename='crystal.png')"
     ],
     "language": "python",
     "metadata": {},
     "outputs": [
      {
       "metadata": {},
       "output_type": "pyout",
       "png": "[encoded data removed]",
       "prompt_number": 6,
       "text": [
        "<IPython.core.display.Image at 0x45c2510>"
       ]
      }
     ],
     "prompt_number": 6
    },
    {
     "cell_type": "markdown",
     "metadata": {},
     "source": [
      "Structure check\n",
      "---------------\n",
      "\n",
      "Let us check the effect the distorsion has on the crystal by calculating the stress tensor and forces acting on atoms in the distorted structure. Note that both forces as well as stresses are far from zero."
     ]
    },
    {
     "cell_type": "code",
     "collapsed": false,
     "input": [
      "print \"Stress tensor  (Voigt notation, GPa):\\n\", cryst.get_stress()/GPa\n",
      "\n",
      "# Print also the forces (eV/A)\n",
      "\n",
      "print \"\\nForces on atoms (eV/A)\"\n",
      "print \"======================\"\n",
      "print cryst.get_forces()"
     ],
     "language": "python",
     "metadata": {},
     "outputs": [
      {
       "output_type": "stream",
       "stream": "stdout",
       "text": [
        "Stress tensor  (Voigt notation, GPa):\n",
        "[-1.445 -1.858  2.36  -4.608 -3.146 -1.636]"
       ]
      },
      {
       "output_type": "stream",
       "stream": "stdout",
       "text": [
        "\n",
        "\n",
        "Forces on atoms (eV/A)\n",
        "======================\n",
        "[[-0.00182192 -0.00303699 -0.00235983]\n",
        " [-0.00233322 -0.00147804 -0.00041353]\n",
        " [-0.00242831 -0.0023165   0.00020909]\n",
        " [-0.00177738  0.00091272 -0.00011439]\n",
        " [ 0.00153439  0.00353868  0.00321501]\n",
        " [ 0.00208721  0.00029438 -0.0003175 ]\n",
        " [ 0.00309936  0.00178758 -0.00212825]\n",
        " [ 0.00163988  0.00029818  0.00190939]]\n"
       ]
      }
     ],
     "prompt_number": 7
    },
    {
     "cell_type": "markdown",
     "metadata": {},
     "source": [
      "Optimization procedure\n",
      "----------------------\n",
      "\n",
      "Our goal is to find the the structure as close as possible to minimum of energy (i.e. with as small as possible stresses on the unit cell and forces on atoms). The Quantum Espresso has a special mode of working where it minimizes forces and stresses.\n",
      "The QE-util package provides full access to this mode by the way of `calc` parameter of the calculator object. There are two variants of the optimization procedure:\n",
      "\n",
      "* `'relax'` changes just the atomic positions keeping the cell fixed\n",
      "* `'vc-relax'` which changes atomic positions as well as unit cell shape and size\n",
      "\n",
      "We will first try to optimize the internal degrees of freedom (atomic positions) and in the second step optimize both atomic positions and the unit cell parameters. This is actually a recommended procedure in the case of complicated structures. Running just `vc-relax` optimization may not converge at all in such cases or, even worse, give you a *false minimum*.\n",
      "\n",
      "**Note:** The optimization runs take much longer then the simple energy calculations. Be patient."
     ]
    },
    {
     "cell_type": "code",
     "collapsed": false,
     "input": [
      "# Switch to the atomic position relaxation mode\n",
      "qe.set(calc='relax')\n",
      "\n",
      "# Switch off the use of symmetries. \n",
      "qe.set(use_symmetry=False)\n",
      "\n",
      "# Force recalculation by clearing the results from the previous calculation.\n",
      "qe.reset()"
     ],
     "language": "python",
     "metadata": {},
     "outputs": [],
     "prompt_number": 8
    },
    {
     "cell_type": "code",
     "collapsed": false,
     "input": [
      "# Run the calculation and get the stresses and forces at the end.\n",
      "# The structure in cryst is *not* modified\n",
      "print \"Stress:\\n\", cryst.get_stress()/GPa\n",
      "print \"\\nForces:\\n\", cryst.get_forces()"
     ],
     "language": "python",
     "metadata": {},
     "outputs": [
      {
       "output_type": "stream",
       "stream": "stdout",
       "text": [
        "Stress:\n",
        "[ 0.276 -0.392  4.008 -0.027 -0.018 -0.012]"
       ]
      },
      {
       "output_type": "stream",
       "stream": "stdout",
       "text": [
        "\n",
        "\n",
        "Forces:\n",
        "[[ -2.02115509e-05  -2.47100075e-05  -1.84702755e-05]\n",
        " [ -3.78708907e-06   2.69222867e-06  -1.12200827e-05]\n",
        " [ -1.30597594e-05  -6.89003624e-06   4.93017778e-06]\n",
        " [ -1.27279953e-05  -4.46656372e-06   2.32351547e-06]\n",
        " [  3.25844458e-05   9.91480688e-06   4.82866497e-06]\n",
        " [  2.21889115e-06   1.71758900e-05  -4.63847430e-06]\n",
        " [ -5.96358599e-06  -1.83975441e-05   1.44568246e-05]\n",
        " [  2.09470326e-05   2.46804482e-05   7.79042766e-06]]\n"
       ]
      }
     ],
     "prompt_number": 9
    },
    {
     "cell_type": "markdown",
     "metadata": {},
     "source": [
      "After running the first cycle, we note that the stresses have been reduced mostly to the diagonal part of the tensor (first three numbers in the Voigt notation) and forces have been diminished to the level of $10^{5}$ eV/A. We can improve this result by lowering the convergence condition to the $10^{-8}$ eV/A (note the translation of units to the units required by Quantum Espresso). We change the condition and re-run the calculation on the same structure."
     ]
    },
    {
     "cell_type": "code",
     "collapsed": false,
     "input": [
      "qe.set(forc_conv_thr=1e-8*Rydberg/Bohr)\n",
      "qe.reset()"
     ],
     "language": "python",
     "metadata": {},
     "outputs": [],
     "prompt_number": 10
    },
    {
     "cell_type": "code",
     "collapsed": false,
     "input": [
      "print \"Stress:\\n\", cryst.get_stress()/GPa\n",
      "print \"\\nForces:\\n\", cryst.get_forces()"
     ],
     "language": "python",
     "metadata": {},
     "outputs": [
      {
       "output_type": "stream",
       "stream": "stdout",
       "text": [
        "Stress:\n",
        "[ 0.276 -0.392  4.008 -0.    -0.     0.   ]"
       ]
      },
      {
       "output_type": "stream",
       "stream": "stdout",
       "text": [
        "\n",
        "\n",
        "Forces:\n",
        "[[  2.11582259e-07  -5.12620252e-07  -3.57045062e-07]\n",
        " [ -2.83535784e-07  -2.86258350e-07  -9.60676801e-08]\n",
        " [ -3.31764094e-07   4.87728222e-07   8.94557345e-08]\n",
        " [  2.74979149e-07   2.48142429e-07   3.50433116e-07]\n",
        " [  5.40623787e-07   5.09508749e-08  -1.34572540e-07]\n",
        " [ -9.15171058e-07   5.61237499e-07   1.48963245e-07]\n",
        " [ -4.84616718e-07  -4.15385758e-07   6.10632622e-08]\n",
        " [  9.87513521e-07  -1.33794664e-07  -6.18411382e-08]]\n"
       ]
      }
     ],
     "prompt_number": 11
    },
    {
     "cell_type": "markdown",
     "metadata": {},
     "source": [
      "Updating the structure\n",
      "----------------------\n",
      "\n",
      "We can see that the forces dropped by another two orders of magnitude and the stress got concentrated even more on the diagonal elements. Thus, let us update the positions in the `cryst` object with a our new positions. The found positions are present in the `results` dictionary of the calculator object. We can check the symmetry of the resulting crystal - but it will probably be different from the desired F-43m. Which should be expected - the unit cell is still the same deformed unit cell we have generated at the start."
     ]
    },
    {
     "cell_type": "code",
     "collapsed": false,
     "input": [
      "# Update the positions using calculated values\n",
      "cryst.set_scaled_positions(qe.results['atomic_positions'])\n",
      "\n",
      "# Check the symmetry. Probably not the F-43m !\n",
      "print \"Symmetry group:\", spglib.get_spacegroup(cryst,symprec=1e-4)"
     ],
     "language": "python",
     "metadata": {},
     "outputs": [
      {
       "output_type": "stream",
       "stream": "stdout",
       "text": [
        "Symmetry group: P1         (1)\n"
       ]
      }
     ],
     "prompt_number": 12
    },
    {
     "cell_type": "markdown",
     "metadata": {},
     "source": [
      "Full cell optimization\n",
      "----------------------\n",
      "\n",
      "We have approched optimal atomic positions in the unit cell. It is time to search for the optimal shape and size of the unit cell itself. We need to switch to the `vc-relax` mode and run the optimization again. Then update the structure again - this time both unit cell and atomic positions and check the symmetry."
     ]
    },
    {
     "cell_type": "code",
     "collapsed": false,
     "input": [
      "qe.set(calc='vc-relax')\n",
      "qe.reset()"
     ],
     "language": "python",
     "metadata": {},
     "outputs": [],
     "prompt_number": 16
    },
    {
     "cell_type": "code",
     "collapsed": false,
     "input": [
      "print \"Stress:\\n\", cryst.get_stress()/GPa\n",
      "print \"\\nForces:\\n\", cryst.get_forces()"
     ],
     "language": "python",
     "metadata": {},
     "outputs": [
      {
       "output_type": "stream",
       "stream": "stdout",
       "text": [
        "Stress:\n",
        "[-0.001 -0.001 -0.001 -0.    -0.     0.   ]"
       ]
      },
      {
       "output_type": "stream",
       "stream": "stdout",
       "text": [
        "\n",
        "\n",
        "Forces:\n",
        "[[  2.37252165e-08  -1.78911469e-08  -1.78911469e-08]\n",
        " [ -2.41141545e-08  -7.77875952e-09   2.06137127e-08]\n",
        " [ -3.50044178e-08   7.77875952e-10   2.95592862e-08]\n",
        " [  1.16681393e-08   1.94468988e-08   3.22818520e-08]\n",
        " [ -1.88634918e-07   1.07735819e-07  -3.01037993e-07]\n",
        " [  1.92913236e-07  -9.17893623e-08  -3.16984450e-07]\n",
        " [  1.73466337e-07   9.02336104e-08   2.69922955e-07]\n",
        " [ -1.54019438e-07  -1.01123874e-07   2.83535784e-07]]\n"
       ]
      }
     ],
     "prompt_number": 17
    },
    {
     "cell_type": "code",
     "collapsed": false,
     "input": [
      "# Update the crystal\n",
      "cryst.set_cell(qe.results['cell'])\n",
      "cryst.set_scaled_positions(qe.results['atomic_positions'])\n",
      "\n",
      "# Check the symmetry\n",
      "print \"Symmetry group:\", spglib.get_spacegroup(cryst,symprec=1e-4)"
     ],
     "language": "python",
     "metadata": {},
     "outputs": [
      {
       "output_type": "stream",
       "stream": "stdout",
       "text": [
        "Symmetry group: F-43m      (216)\n"
       ]
      }
     ],
     "prompt_number": 18
    },
    {
     "cell_type": "markdown",
     "metadata": {},
     "source": [
      "Finishing\n",
      "---------\n",
      "\n",
      "After a single run the forces/stresses as well as the symmetry will not be converged well enough. You will need to repeat the cycle of updating the crystal and optimizing it again (two cells above) one or two more times - until you reach the appropriate level of forces/stresses and symmetry. \n",
      "\n",
      "We can conclude the run by \"snapping\" the structure to the high-symmetry values by rounding the positions and sizes to appropriate number of decimal places. \n",
      "\n",
      "Finally we check the symmetry of the structure and verify the stresses and forces by running a single point (`scf` - Self Consistent Field) calculation on the final structure - which should result in stress components below 0.01 GPa and forces below $10^{-6}$ eV/A as well as recovery of the expected F-43m symmetry group of the crystal."
     ]
    },
    {
     "cell_type": "code",
     "collapsed": false,
     "input": [
      "# Round the sizes and positions to get to the high-symmetry structure\n",
      "cryst.set_cell(np.round(qe.results['cell'],4))\n",
      "cryst.set_scaled_positions(np.round(qe.results['atomic_positions'],3))\n",
      "\n",
      "# See the structure\n",
      "print \"Unit cell:\\n\", cryst.get_cell()\n",
      "print \"\\nAtomic positions:\\n\", cryst.get_scaled_positions()\n"
     ],
     "language": "python",
     "metadata": {},
     "outputs": [
      {
       "output_type": "stream",
       "stream": "stdout",
       "text": [
        "Unit cell:\n",
        "[[ 4.3342 -0.     -0.    ]\n",
        " [-0.      4.3342  0.    ]\n",
        " [-0.      0.      4.3342]]\n",
        "\n",
        "Atomic positions:\n",
        "[[ 0.004  0.994  0.997]\n",
        " [ 0.004  0.494  0.497]\n",
        " [ 0.504  0.994  0.497]\n",
        " [ 0.504  0.494  0.997]\n",
        " [ 0.254  0.244  0.247]\n",
        " [ 0.754  0.744  0.247]\n",
        " [ 0.754  0.244  0.747]\n",
        " [ 0.254  0.744  0.747]]\n"
       ]
      }
     ],
     "prompt_number": 19
    },
    {
     "cell_type": "code",
     "collapsed": false,
     "input": [
      "# Vierify the symmetry\n",
      "print \"Symmetry group:\", spglib.get_spacegroup(cryst)"
     ],
     "language": "python",
     "metadata": {},
     "outputs": [
      {
       "output_type": "stream",
       "stream": "stdout",
       "text": [
        "Symmetry group: F-43m      (216)\n"
       ]
      }
     ],
     "prompt_number": 20
    },
    {
     "cell_type": "code",
     "collapsed": false,
     "input": [
      "# Switch to the single point energy calculation mode\n",
      "qe.set(calc='scf')\n",
      "qe.reset()"
     ],
     "language": "python",
     "metadata": {},
     "outputs": [],
     "prompt_number": 21
    },
    {
     "cell_type": "code",
     "collapsed": false,
     "input": [
      "# Verify the final stresses and forces\n",
      "\n",
      "print \"Stress tensor  (Voigt notation, GPa):\\n\", cryst.get_stress()/GPa\n",
      "\n",
      "# Print also the forces (eV/A)\n",
      "\n",
      "print \"\\nForces on atoms (eV/A)\"\n",
      "print \"======================\"\n",
      "print cryst.get_forces()"
     ],
     "language": "python",
     "metadata": {},
     "outputs": [
      {
       "output_type": "stream",
       "stream": "stdout",
       "text": [
        "Stress tensor  (Voigt notation, GPa):\n",
        "[-0.024 -0.024 -0.024  0.     0.     0.   ]"
       ]
      },
      {
       "output_type": "stream",
       "stream": "stdout",
       "text": [
        "\n",
        "\n",
        "Forces on atoms (eV/A)\n",
        "======================\n",
        "[[  3.50044178e-09  -8.80944516e-07   6.17633506e-07]\n",
        " [  2.48920305e-08   8.67720624e-07  -6.30857397e-07]\n",
        " [  5.79517584e-08  -7.93433471e-07  -5.72127763e-07]\n",
        " [  7.38982154e-09   8.83278143e-07   6.89975969e-07]\n",
        " [ -5.62404313e-07  -1.03457502e-06   1.72299523e-07]\n",
        " [  2.12749073e-07   1.23021082e-06   8.94557345e-08]\n",
        " [  5.25844144e-07  -1.72688461e-06  -2.76534901e-07]\n",
        " [ -2.69534017e-07   1.45501697e-06  -8.98446725e-08]]\n"
       ]
      }
     ],
     "prompt_number": 22
    },
    {
     "cell_type": "code",
     "collapsed": false,
     "input": [
      "# Display the structure\n",
      "ase.io.write('crystal.png', cryst, format='png', show_unit_cell=2, rotation='115y,15x', scale=30)\n",
      "Image(filename='crystal.png')"
     ],
     "language": "python",
     "metadata": {},
     "outputs": [
      {
       "metadata": {},
       "output_type": "pyout",
       "png": "[encoded data removed]",
       "prompt_number": 23,
       "text": [
        "<IPython.core.display.Image at 0x4a742d0>"
       ]
      }
     ],
     "prompt_number": 23
    },
    {
     "cell_type": "code",
     "collapsed": false,
     "input": [],
     "language": "python",
     "metadata": {},
     "outputs": []
    }
   ],
   "metadata": {}
  }
 ]
}