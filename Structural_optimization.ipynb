{
 "metadata": {
  "name": ""
 },
 "nbformat": 3,
 "nbformat_minor": 0,
 "worksheets": [
  {
   "cells": [
    {
     "cell_type": "markdown",
     "metadata": {},
     "source": [
      "Structure optimization\n",
      "======================\n",
      "\n",
      "This tutorial is concerned with structural optimization. Except for high-symmetry structures - like the cubic crystal we are using in this tutorial the determination of the correct structure for the investigated system is a crucial part in the workflow of the computation. The Quantum-Espresso package is able to do a full structural optimization of the crystal and the QE-util provides an interface to this mode of operation. To continue skip over the initial setup to the second cell below."
     ]
    },
    {
     "cell_type": "code",
     "collapsed": false,
     "input": [
      "# Import the basic libraries\n",
      "\n",
      "# ASE system\n",
      "import ase\n",
      "from ase import Atom, Atoms\n",
      "from ase import io\n",
      "from ase.lattice.spacegroup import crystal\n",
      "from ase.units import GPa, Bohr, Rydberg\n",
      "\n",
      "# Spacegroup/symmetry library\n",
      "from pyspglib import spglib\n",
      "\n",
      "# iPython utility function\n",
      "from IPython.core.display import Image\n",
      "\n",
      "# Import the remote execution tools from the qe-util package\n",
      "from qeutil import RemoteQE\n",
      "\n",
      "# Access info\n",
      "import host\n",
      "\n",
      "qe=RemoteQE(label='SiC-structure',   # A name for the project\n",
      "               kpts=[3,3,3],    # k-space grid\n",
      "               xc='pz',         # Exchange functional type in the name of the pseudopotentials\n",
      "               pp_type='vbc',   # Variant of the pseudopotential\n",
      "               pp_format='UPF', # Format of the pseudopotential files\n",
      "               ecutwfc=70,      # Energy cut-off\n",
      "               pseudo_dir='../pspot',\n",
      "               use_symmetry=True,\n",
      "               procs=4)         # Use 8 cores for the calculation\n",
      "\n",
      "print qe.directory"
     ],
     "language": "python",
     "metadata": {},
     "outputs": [
      {
       "output_type": "stream",
       "stream": "stdout",
       "text": [
        "calc/SiC-structure.Jn3_vZ\n"
       ]
      }
     ],
     "prompt_number": 1
    },
    {
     "cell_type": "markdown",
     "metadata": {},
     "source": [
      "Preparations\n",
      "--------------------\n",
      "\n",
      "To start any calculation we need to create a crystal. We will again use a cubic, zinc-blende (F-43m) SiC crystal again with a lattice constant determined in our first tutorial. But this time we will distort it randomly to have a low-symmetry structure with many potential degrees of freedom and configuration displaced from the equilibrium position. Our task is to find the equilibrium structure - which hepefully will be a high-symmetry cubic crystal with a F-43m space group symmetry."
     ]
    },
    {
     "cell_type": "code",
     "collapsed": false,
     "input": [
      "a=4.344\n",
      "cryst = crystal(['Si', 'C'],\n",
      "                [(0, 0, 0), (0.25, 0.25, 0.25)],\n",
      "                spacegroup=216,\n",
      "                cellpar=[a, a, a, 90, 90, 90])\n",
      "\n",
      "# Assign the calculator to our system\n",
      "cryst.set_calculator(qe)\n",
      "\n",
      "# Verify the symmetry\n",
      "print \"Symmetry group:\", spglib.get_spacegroup(cryst)"
     ],
     "language": "python",
     "metadata": {},
     "outputs": [
      {
       "output_type": "stream",
       "stream": "stdout",
       "text": [
        "Symmetry group: F-43m      (216)\n"
       ]
      }
     ],
     "prompt_number": 2
    },
    {
     "cell_type": "code",
     "collapsed": false,
     "input": [
      "print \"Stress tensor  (Voigt notation, GPa):\\n\", cryst.get_stress()/GPa"
     ],
     "language": "python",
     "metadata": {},
     "outputs": [
      {
       "output_type": "stream",
       "stream": "stdout",
       "text": [
        "Stress tensor  (Voigt notation, GPa):\n",
        "[ 0.054  0.054  0.054 -0.    -0.    -0.   ]"
       ]
      },
      {
       "output_type": "stream",
       "stream": "stdout",
       "text": [
        "\n"
       ]
      }
     ],
     "prompt_number": 3
    },
    {
     "cell_type": "markdown",
     "metadata": {},
     "source": [
      "Let us distort randomly the positions of atoms in the unit cell as well as the unit cell itself. We will use standard deviation of 0.05 (5% of the unit cel size). This should generate a completely non-symmetric crystal (group P1)."
     ]
    },
    {
     "cell_type": "code",
     "collapsed": false,
     "input": [
      "cryst.rattle(stdev=0.05)\n",
      "cryst.set_cell(diag(1+0.01*randn(3))*cryst.get_cell(), scale_atoms=True)"
     ],
     "language": "python",
     "metadata": {},
     "outputs": [],
     "prompt_number": 4
    },
    {
     "cell_type": "code",
     "collapsed": false,
     "input": [
      "# Verify that indeed we have a low symmetry structure\n",
      "print \"Symmetry group:\", spglib.get_spacegroup(cryst)"
     ],
     "language": "python",
     "metadata": {},
     "outputs": [
      {
       "output_type": "stream",
       "stream": "stdout",
       "text": [
        "Symmetry group: P1         (1)\n"
       ]
      }
     ],
     "prompt_number": 5
    },
    {
     "cell_type": "code",
     "collapsed": false,
     "input": [
      "# Display the structure\n",
      "ase.io.write('crystal.png', cryst, format='png', show_unit_cell=2, rotation='115y,15x', scale=30)\n",
      "Image(filename='crystal.png')"
     ],
     "language": "python",
     "metadata": {},
     "outputs": [
      {
       "metadata": {},
       "output_type": "pyout",
       "png": "[encoded data removed]",
       "prompt_number": 6,
       "text": [
        "<IPython.core.display.Image at 0x2c51c50>"
       ]
      }
     ],
     "prompt_number": 6
    },
    {
     "cell_type": "markdown",
     "metadata": {},
     "source": [
      "Structure check\n",
      "---------------\n",
      "\n",
      "Let us check the effect the distorsion has on the crystal by calculating the stress tensor and forces acting on atoms in the distorted structure. Note that both forces as well as stresses are far from zero."
     ]
    },
    {
     "cell_type": "code",
     "collapsed": false,
     "input": [
      "print \"Stress tensor  (Voigt notation, GPa):\\n\", cryst.get_stress()/GPa\n",
      "\n",
      "# Print also the forces (eV/A)\n",
      "\n",
      "print \"\\nForces on atoms (eV/A)\"\n",
      "print \"======================\"\n",
      "print cryst.get_forces()"
     ],
     "language": "python",
     "metadata": {},
     "outputs": [
      {
       "output_type": "stream",
       "stream": "stdout",
       "text": [
        "Stress tensor  (Voigt notation, GPa):\n",
        "[ 1.131  2.503  8.325 -4.011 -2.706 -1.47 ]"
       ]
      },
      {
       "output_type": "stream",
       "stream": "stdout",
       "text": [
        "\n",
        "\n",
        "Forces on atoms (eV/A)\n",
        "======================\n",
        "[[-0.00174214 -0.00292875 -0.00230391]\n",
        " [-0.00223572 -0.00135709 -0.00038979]\n",
        " [-0.00233352 -0.00227082  0.00023573]\n",
        " [-0.00168097  0.000841   -0.0001156 ]\n",
        " [ 0.00148759  0.00342665  0.00313893]\n",
        " [ 0.00200918  0.00031631 -0.00032261]\n",
        " [ 0.00292928  0.00171672 -0.00209444]\n",
        " [ 0.0015663   0.00025598  0.00185168]]\n"
       ]
      }
     ],
     "prompt_number": 7
    },
    {
     "cell_type": "markdown",
     "metadata": {},
     "source": [
      "Optimization procedure\n",
      "----------------------\n",
      "\n",
      "Our goal is to find the the structure as close as possible to minimum of energy (i.e. with as small as possible stresses on the unit cell and forces on atoms). The Quantum Espresso has a special mode of working where it minimizes forces and stresses.\n",
      "The QE-util package provides full access to this mode by the way of `calc` parameter of the calculator object. There are two variants of the optimization procedure:\n",
      "\n",
      "* `'relax'` changes just the atomic positions keeping the cell fixed\n",
      "* `'vc-relax'` which changes atomic positions as well as unit cell shape and size\n",
      "\n",
      "We will first try to optimize the internal degrees of freedom (atomic positions) and in the second step optimize both atomic positions and the unit cell parameters. This is actually a recommended procedure in the case of complicated structures. Running just `vc-relax` optimization may not converge at all in such cases or, even worse, give you a *false minimum*.\n",
      "\n",
      "**Note:** The optimization runs take much longer then the simple energy calculations. Be patient."
     ]
    },
    {
     "cell_type": "code",
     "collapsed": false,
     "input": [
      "# Switch to the atomic position relaxation mode\n",
      "qe.set(calc='relax')\n",
      "\n",
      "# Switch off the use of symmetries. \n",
      "qe.set(use_symmetry=False)\n",
      "\n",
      "# Force recalculation by clearing the results from the previous calculation.\n",
      "qe.reset()"
     ],
     "language": "python",
     "metadata": {},
     "outputs": [],
     "prompt_number": 8
    },
    {
     "cell_type": "code",
     "collapsed": false,
     "input": [
      "# Run the calculation and get the stresses and forces at the end.\n",
      "# The structure in cryst is *not* modified\n",
      "print \"Stress:\\n\", cryst.get_stress()/GPa\n",
      "print \"\\nForces:\\n\", cryst.get_forces()"
     ],
     "language": "python",
     "metadata": {},
     "outputs": [
      {
       "output_type": "stream",
       "stream": "stdout",
       "text": [
        "Stress:\n",
        "[ 2.747  3.899  9.951 -0.027 -0.018 -0.012]"
       ]
      },
      {
       "output_type": "stream",
       "stream": "stdout",
       "text": [
        "\n",
        "\n",
        "Forces:\n",
        "[[ -2.22441407e-05  -2.73827893e-05  -2.06491061e-05]\n",
        " [ -4.41833541e-06   6.79202387e-06  -1.22632144e-05]\n",
        " [ -1.63326724e-05  -9.17738048e-06   6.45053633e-06]\n",
        " [ -1.31776076e-05  -8.42322975e-06   1.72882930e-06]\n",
        " [  3.69716661e-05   1.19862905e-05   4.60580351e-06]\n",
        " [  5.80062097e-06   2.18248656e-05  -4.16358103e-06]\n",
        " [ -9.53831492e-06  -2.12756852e-05   1.71237723e-05]\n",
        " [  2.29387839e-05   2.56559046e-05   7.16696008e-06]]\n"
       ]
      }
     ],
     "prompt_number": 9
    },
    {
     "cell_type": "markdown",
     "metadata": {},
     "source": [
      "After running the first cycle, we note that the stresses have been reduced mostly to the diagonal part of the tensor (first three numbers in the Voigt notation) and forces have been diminished to the level of $10^{5}$ eV/A. We can improve this result by lowering the convergence condition to the $10^{-8}$ eV/A (note the translation of units to the units required by Quantum Espresso). We change the condition and re-run the calculation on the same structure."
     ]
    },
    {
     "cell_type": "code",
     "collapsed": false,
     "input": [
      "qe.set(forc_conv_thr=1e-8*Rydberg/Bohr)\n",
      "qe.reset()"
     ],
     "language": "python",
     "metadata": {},
     "outputs": [],
     "prompt_number": 10
    },
    {
     "cell_type": "code",
     "collapsed": false,
     "input": [
      "print \"Stress:\\n\", cryst.get_stress()/GPa\n",
      "print \"\\nForces:\\n\", cryst.get_forces()"
     ],
     "language": "python",
     "metadata": {},
     "outputs": [
      {
       "output_type": "stream",
       "stream": "stdout",
       "text": [
        "Stress:\n",
        "[ 2.747  3.899  9.951 -0.    -0.     0.   ]"
       ]
      },
      {
       "output_type": "stream",
       "stream": "stdout",
       "text": [
        "\n",
        "\n",
        "Forces:\n",
        "[[  2.80035343e-08  -7.07867116e-08  -1.78911469e-08]\n",
        " [ -1.29905284e-07  -1.60631384e-07  -2.10026507e-08]\n",
        " [ -6.61194559e-08   1.89801732e-07  -5.17287508e-08]\n",
        " [  1.10458385e-07  -1.12792013e-08   9.14004244e-08]\n",
        " [  3.77269837e-07   4.24720270e-07   2.68367203e-07]\n",
        " [ -5.80684398e-07  -6.41747660e-08   2.71089769e-07]\n",
        " [ -3.43432233e-07   6.65083939e-08  -3.36820287e-07]\n",
        " [  6.04409615e-07  -3.73769395e-07  -2.03414561e-07]]\n"
       ]
      }
     ],
     "prompt_number": 11
    },
    {
     "cell_type": "markdown",
     "metadata": {},
     "source": [
      "Updating the structure\n",
      "----------------------\n",
      "\n",
      "We can see that the forces dropped by another two orders of magnitude and the stress got concentrated even more on the diagonal elements. Thus, let us update the positions in the `cryst` object with a our new positions. The found positions are present in the `results` dictionary of the calculator object. We can check the symmetry of the resulting crystal - but it will probably be different from the desired F-43m. Which should be expected - the unit cell is still the same deformed unit cell we have generated at the start."
     ]
    },
    {
     "cell_type": "code",
     "collapsed": false,
     "input": [
      "# Update the positions using calculated values\n",
      "cryst.set_scaled_positions(qe.results['atomic_positions'])\n",
      "\n",
      "# Check the symmetry. Probably not the F-43m !\n",
      "print \"Symmetry group:\", spglib.get_spacegroup(cryst,symprec=1e-4)"
     ],
     "language": "python",
     "metadata": {},
     "outputs": [
      {
       "output_type": "stream",
       "stream": "stdout",
       "text": [
        "Symmetry group: F222       (22)\n"
       ]
      }
     ],
     "prompt_number": 12
    },
    {
     "cell_type": "markdown",
     "metadata": {},
     "source": [
      "Full cell optimization\n",
      "----------------------\n",
      "\n",
      "We have approched optimal atomic positions in the unit cell. It is time to search for the optimal shape and size of the unit cell itself. We need to switch to the `vc-relax` mode and run the optimization again. Then update the structure again - this time both unit cell and atomic positions and check the symmetry."
     ]
    },
    {
     "cell_type": "code",
     "collapsed": false,
     "input": [
      "qe.set(calc='vc-relax')\n",
      "qe.reset()"
     ],
     "language": "python",
     "metadata": {},
     "outputs": [],
     "prompt_number": 21
    },
    {
     "cell_type": "code",
     "collapsed": false,
     "input": [
      "print \"Stress:\\n\", cryst.get_stress()/GPa\n",
      "print \"\\nForces:\\n\", cryst.get_forces()"
     ],
     "language": "python",
     "metadata": {},
     "outputs": [
      {
       "output_type": "stream",
       "stream": "stdout",
       "text": [
        "Stress:\n",
        "[ 0.001  0.001  0.001 -0.     0.     0.   ]"
       ]
      },
      {
       "output_type": "stream",
       "stream": "stdout",
       "text": [
        "\n",
        "\n",
        "Forces:\n",
        "[[  2.45030925e-08  -2.83924722e-08  -1.47796431e-08]\n",
        " [ -2.72256583e-08  -8.94557345e-09   1.32238912e-08]\n",
        " [ -5.44513166e-09   1.43907051e-08   1.47796431e-08]\n",
        " [  2.72256583e-09   2.41141545e-08   1.75022089e-08]\n",
        " [ -1.78911469e-07   5.44513166e-08  -2.63311010e-07]\n",
        " [  1.82800849e-07  -2.21694646e-08  -2.60199506e-07]\n",
        " [  1.37684044e-07   4.35610533e-08   2.76145963e-07]\n",
        " [ -1.35739354e-07  -7.70097192e-08   2.16638453e-07]]\n"
       ]
      }
     ],
     "prompt_number": 22
    },
    {
     "cell_type": "code",
     "collapsed": false,
     "input": [
      "# Update the crystal\n",
      "cryst.set_cell(qe.results['cell'])\n",
      "cryst.set_scaled_positions(qe.results['atomic_positions'])\n",
      "\n",
      "# Check the symmetry\n",
      "print \"Symmetry group:\", spglib.get_spacegroup(cryst,symprec=1e-4)"
     ],
     "language": "python",
     "metadata": {},
     "outputs": [
      {
       "output_type": "stream",
       "stream": "stdout",
       "text": [
        "Symmetry group: F-43m      (216)\n"
       ]
      }
     ],
     "prompt_number": 23
    },
    {
     "cell_type": "markdown",
     "metadata": {},
     "source": [
      "Finishing\n",
      "---------\n",
      "\n",
      "After a single run the forces/stresses as well as the symmetry will not be converged well enough. You will need to repeat the cycle of updating the crystal and optimizing it again (two cells above) one or two more times - until you reach the appropriate level of forces/stresses and symmetry. \n",
      "\n",
      "We can conclude the run by \"snapping\" the structure to the high-symmetry values by rounding the positions and sizes to appropriate number of decimal places. \n",
      "\n",
      "Finally we check the symmetry of the structure and verify the stresses and forces by running a single point (`scf` - Self Consistent Field) calculation on the final structure - which should result in stress components below 0.01 GPa and forces below $10^{-6}$ eV/A as well as recovery of the expected F-43m symmetry group of the crystal."
     ]
    },
    {
     "cell_type": "code",
     "collapsed": false,
     "input": [
      "# Round the sizes and positions to get to the high-symmetry structure\n",
      "cryst.set_cell(np.round(qe.results['cell'],4))\n",
      "cryst.set_scaled_positions(np.round(qe.results['atomic_positions'],3))\n",
      "\n",
      "# See the structure\n",
      "print \"Unit cell:\\n\", cryst.get_cell()\n",
      "print \"\\nAtomic positions:\\n\", cryst.get_scaled_positions()\n"
     ],
     "language": "python",
     "metadata": {},
     "outputs": [
      {
       "output_type": "stream",
       "stream": "stdout",
       "text": [
        "Unit cell:\n",
        "[[ 4.3342 -0.     -0.    ]\n",
        " [-0.      4.3342  0.    ]\n",
        " [-0.      0.      4.3342]]\n",
        "\n",
        "Atomic positions:\n",
        "[[ 0.004  0.994  0.997]\n",
        " [ 0.004  0.494  0.497]\n",
        " [ 0.504  0.994  0.497]\n",
        " [ 0.504  0.494  0.997]\n",
        " [ 0.254  0.244  0.247]\n",
        " [ 0.754  0.744  0.247]\n",
        " [ 0.754  0.244  0.747]\n",
        " [ 0.254  0.744  0.747]]\n"
       ]
      }
     ],
     "prompt_number": 24
    },
    {
     "cell_type": "code",
     "collapsed": false,
     "input": [
      "# Vierify the symmetry\n",
      "print \"Symmetry group:\", spglib.get_spacegroup(cryst)"
     ],
     "language": "python",
     "metadata": {},
     "outputs": [
      {
       "output_type": "stream",
       "stream": "stdout",
       "text": [
        "Symmetry group: F-43m      (216)\n"
       ]
      }
     ],
     "prompt_number": 25
    },
    {
     "cell_type": "code",
     "collapsed": false,
     "input": [
      "# Switch to the single point energy calculation mode\n",
      "qe.set(calc='scf')\n",
      "qe.reset()"
     ],
     "language": "python",
     "metadata": {},
     "outputs": [],
     "prompt_number": 26
    },
    {
     "cell_type": "code",
     "collapsed": false,
     "input": [
      "# Verify the final stresses and forces\n",
      "\n",
      "print \"Stress tensor  (Voigt notation, GPa):\\n\", cryst.get_stress()/GPa\n",
      "\n",
      "# Print also the forces (eV/A)\n",
      "\n",
      "print \"\\nForces on atoms (eV/A)\"\n",
      "print \"======================\"\n",
      "print cryst.get_forces()"
     ],
     "language": "python",
     "metadata": {},
     "outputs": [
      {
       "output_type": "stream",
       "stream": "stdout",
       "text": [
        "Stress tensor  (Voigt notation, GPa):\n",
        "[-0.024 -0.024 -0.024  0.     0.     0.   ]"
       ]
      },
      {
       "output_type": "stream",
       "stream": "stdout",
       "text": [
        "\n",
        "\n",
        "Forces on atoms (eV/A)\n",
        "======================\n",
        "[[  3.50044178e-09  -8.80944516e-07   6.17633506e-07]\n",
        " [  2.48920305e-08   8.67720624e-07  -6.30857397e-07]\n",
        " [  5.79517584e-08  -7.93433471e-07  -5.72127763e-07]\n",
        " [  7.38982154e-09   8.83278143e-07   6.89975969e-07]\n",
        " [ -5.62404313e-07  -1.03457502e-06   1.72299523e-07]\n",
        " [  2.12749073e-07   1.23021082e-06   8.94557345e-08]\n",
        " [  5.25844144e-07  -1.72688461e-06  -2.76534901e-07]\n",
        " [ -2.69534017e-07   1.45501697e-06  -8.98446725e-08]]\n"
       ]
      }
     ],
     "prompt_number": 27
    },
    {
     "cell_type": "code",
     "collapsed": false,
     "input": [
      "# Display the structure\n",
      "ase.io.write('crystal.png', cryst, format='png', show_unit_cell=2, rotation='115y,15x', scale=30)\n",
      "Image(filename='crystal.png')"
     ],
     "language": "python",
     "metadata": {},
     "outputs": [
      {
       "metadata": {},
       "output_type": "pyout",
       "png": "[encoded data removed]",
       "prompt_number": 28,
       "text": [
        "<IPython.core.display.Image at 0x2d32710>"
       ]
      }
     ],
     "prompt_number": 28
    }
   ],
   "metadata": {}
  }
 ]
}