{
 "metadata": {
  "name": ""
 },
 "nbformat": 3,
 "nbformat_minor": 0,
 "worksheets": [
  {
   "cells": [
    {
     "cell_type": "markdown",
     "metadata": {},
     "source": [
      "Electronic structure calculations\n",
      "=================================\n",
      "\n",
      "*This is a third part in the tutorial series. Read the previous tutorials to understand all material presented here.*\n",
      "\n",
      "The initial setup and other issues described in earlier parts will not be repeated here.\n",
      "\n",
      "Electronic structure is a fundamental property of any crystal. The determination of the electronic structure is a fundamental and first step in any quantum mechanical calculation. The fundamentals of the methods used by the Quantum Espresso package and the DFT method are discussed in the review paper by [M. Payne](http://dx.doi.org/10.1103/RevModPhys.64.1045). Review of this paper or some other handbook on DFT calculations is *highly recommended* before starting any serious computational projects.\n",
      "\n",
      "To continue skip over the initial setup to the second cell below."
     ]
    },
    {
     "cell_type": "code",
     "collapsed": false,
     "input": [
      "# Import the basic libraries\n",
      "\n",
      "# ASE system\n",
      "import ase\n",
      "from ase import Atom, Atoms\n",
      "from ase import io\n",
      "from ase.lattice.spacegroup import crystal\n",
      "\n",
      "# Spacegroup/symmetry library\n",
      "from pyspglib import spglib\n",
      "\n",
      "# iPython utility function\n",
      "from IPython.core.display import Image\n",
      "\n",
      "# Import the remote execution tools from the qe-util package\n",
      "from qeu import RemoteQE\n",
      "\n",
      "# Access info\n",
      "import plato"
     ],
     "language": "python",
     "metadata": {},
     "outputs": [],
     "prompt_number": 1
    },
    {
     "cell_type": "markdown",
     "metadata": {},
     "source": [
      "Preparations\n",
      "--------------------\n",
      "\n",
      "To start any calculation we need to create a crystal. We will use a cubic, zinc-blende (F-43m) SiC crystal again with a lattice constant determined in our first tutorial."
     ]
    },
    {
     "cell_type": "code",
     "collapsed": false,
     "input": [
      "a=4.3366\n",
      "cryst = crystal(['Si', 'C'],\n",
      "                [(0, 0, 0), (0.25, 0.25, 0.25)],\n",
      "                spacegroup=216,\n",
      "                cellpar=[a, a, a, 90, 90, 90])"
     ],
     "language": "python",
     "metadata": {},
     "outputs": [],
     "prompt_number": 2
    },
    {
     "cell_type": "markdown",
     "metadata": {},
     "source": [
      "Our Quantum Espresso calculator will use a denser Brilloun zone grid (kpts: 8x8x8)."
     ]
    },
    {
     "cell_type": "code",
     "collapsed": false,
     "input": [
      "qe=RemoteQE(label='SiC-elec',   # A name for the project\n",
      "               kpts=[8,8,8],    # Dense k-space grid\n",
      "               xc='pz',         # Exchange functional type in the name of the pseudopotentials\n",
      "               pp_type='vbc',   # Variant of the pseudopotential\n",
      "               pp_format='UPF', # Format of the pseudopotential files\n",
      "               ecutwfc=70,      # Energy cut-off\n",
      "               pseudo_dir='../pspot',\n",
      "               use_symmetry=True,\n",
      "               procs=8)         # Use 8 cores for the calculation\n",
      "\n",
      "# Assign the calculator to our system\n",
      "cryst.set_calculator(qe)"
     ],
     "language": "python",
     "metadata": {},
     "outputs": [],
     "prompt_number": 3
    },
    {
     "cell_type": "markdown",
     "metadata": {},
     "source": [
      "Structure check\n",
      "---------------\n",
      "Run the calculation to get stress tensor (Voigt notation in GPa), to make sure our structure is reasonably close to the equilibrium lattice constant. \n",
      "\n",
      "**Note:** the change in k-space sampling influenced the equilibriium lattice constant and the stress is not close to zero any more. In fact the equilibruim lattice constant for a 8x8x8 k-space sampling is A=4.3341 A. Note also how the calculation was automatically re-done after we have changed the lattice constant. The `scale_atoms=True` makes all atoms move with the unit cell - otherwise the positions of atoms in cartesian coordinates will stay the same and we would destroy the structure!"
     ]
    },
    {
     "cell_type": "code",
     "collapsed": false,
     "input": [
      "print \"Stress tensor  (Voigt notation, GPa):\\n\", cryst.get_stress()/ase.units.GPa\n",
      "\n",
      "a=4.3341\n",
      "cryst.set_cell([a,a,a],scale_atoms=True)\n",
      "\n",
      "print cryst.get_stress()/ase.units.GPa"
     ],
     "language": "python",
     "metadata": {},
     "outputs": [
      {
       "output_type": "stream",
       "stream": "stdout",
       "text": [
        "Stress tensor  (Voigt notation, GPa):\n",
        "[ 0.381  0.381  0.381  0.    -0.    -0.   ]"
       ]
      },
      {
       "output_type": "stream",
       "stream": "stdout",
       "text": [
        "\n",
        "[-0.007 -0.007 -0.007  0.    -0.     0.   ]"
       ]
      },
      {
       "output_type": "stream",
       "stream": "stdout",
       "text": [
        "\n"
       ]
      }
     ],
     "prompt_number": 4
    },
    {
     "cell_type": "code",
     "collapsed": false,
     "input": [],
     "language": "python",
     "metadata": {},
     "outputs": []
    }
   ],
   "metadata": {}
  }
 ]
}