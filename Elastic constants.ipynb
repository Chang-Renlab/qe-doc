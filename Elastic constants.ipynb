{
 "metadata": {
  "name": ""
 },
 "nbformat": 3,
 "nbformat_minor": 0,
 "worksheets": [
  {
   "cells": [
    {
     "cell_type": "markdown",
     "metadata": {},
     "source": [
      "Calculating elastic constants\n",
      "=============================\n",
      "\n",
      "*Read previous tutorials to understand all material presented here.*\n",
      "\n",
      "The initial setup is identical to the one used in \"Remote calculation\". \n",
      "Scroll down below first cell for the material of the tutorial."
     ]
    },
    {
     "cell_type": "code",
     "collapsed": false,
     "input": [
      "# Import the basic libraries\n",
      "\n",
      "# ASE system\n",
      "import ase\n",
      "from ase import Atom, Atoms\n",
      "from ase import io\n",
      "from ase.lattice.spacegroup import crystal\n",
      "\n",
      "# Spacegroup/symmetry library\n",
      "from pyspglib import spglib\n",
      "\n",
      "# iPython utility function\n",
      "from IPython.core.display import Image\n",
      "\n",
      "# Import the qe-util package\n",
      "from qeutil import RemoteQE\n",
      "\n",
      "# Access info\n",
      "import host"
     ],
     "language": "python",
     "metadata": {},
     "outputs": [],
     "prompt_number": 1
    },
    {
     "cell_type": "markdown",
     "metadata": {},
     "source": [
      "Elastic library\n",
      "---------------\n",
      "Calculation of elastic constans requires inclusion of additional library: `elastic`. This library extends standard crystal object, and provides new features related to elastic properties of the crystal. This library must be first installed in the system. See the `Install` document for the information how to do it. Here we just import the library. It **must** be imported before the creation of the first crystal.\n",
      "\n",
      "Calculator definition\n",
      "---------------------\n",
      "Since calculation of elastic constants requires deformation of the crystal the calculator *must not* try to use symmetry for the calculations. Otherwise each calculation will be done with different internal setup and the results will be inconsistent. Thus we pass the `use_symmetry=False` parameter to the calculator constructor. The calculation of elastic constants requires a large number of individual calculations to be performed, thus only `RemoteQE` calculator is suitable for this type of calculations."
     ]
    },
    {
     "cell_type": "code",
     "collapsed": false,
     "input": [
      "# Import additional library for elastic constants calculations\n",
      "import elastic"
     ],
     "language": "python",
     "metadata": {},
     "outputs": [],
     "prompt_number": 2
    },
    {
     "cell_type": "code",
     "collapsed": false,
     "input": [
      "# Stup the SiC crystal\n",
      "# Create a cubic crystal with a spacegroup F-43m (216)\n",
      "a=4.3366\n",
      "cryst = crystal(['Si', 'C'],\n",
      "                [(0, 0, 0), (0.25, 0.25, 0.25)],\n",
      "                spacegroup=216,\n",
      "                cellpar=[a, a, a, 90, 90, 90])"
     ],
     "language": "python",
     "metadata": {},
     "outputs": [],
     "prompt_number": 3
    },
    {
     "cell_type": "code",
     "collapsed": false,
     "input": [
      "qe=RemoteQE(label='SiC-elast',\n",
      "               kpts=[2,2,2],\n",
      "               xc='pz',         # Exchange functional type in the name of the pseudopotentials\n",
      "               pp_type='vbc',   # Variant of the pseudopotential\n",
      "               pp_format='UPF', # Format of the pseudopotential files\n",
      "               ecutwfc=70,\n",
      "               pseudo_dir='../pspot',\n",
      "               use_symmetry=False,\n",
      "               procs=8)         # Use 8 cores for the calculation\n",
      "\n",
      "print \"Local working directory:\", qe.directory"
     ],
     "language": "python",
     "metadata": {},
     "outputs": [
      {
       "output_type": "stream",
       "stream": "stdout",
       "text": [
        "Local working directory: /home/jochym/devel/comput/SiC-elast.SU5k8a\n"
       ]
      }
     ],
     "prompt_number": 4
    },
    {
     "cell_type": "code",
     "collapsed": false,
     "input": [
      "# Assign the calculator to our system\n",
      "cryst.set_calculator(qe)"
     ],
     "language": "python",
     "metadata": {},
     "outputs": [],
     "prompt_number": 5
    },
    {
     "cell_type": "code",
     "collapsed": false,
     "input": [
      "# Run the calculation to get stress tensor (in Voigt notation, GPa) and pressure (in GPa)\n",
      "print \"Stress tensor     (GPa):\", cryst.get_stress()/ase.units.GPa\n",
      "print \"External pressure (GPa):\", cryst.get_pressure()/ase.units.GPa"
     ],
     "language": "python",
     "metadata": {},
     "outputs": [
      {
       "output_type": "stream",
       "stream": "stdout",
       "text": [
        "Stress tensor     (GPa): "
       ]
      },
      {
       "output_type": "stream",
       "stream": "stdout",
       "text": [
        "[ 0.149  0.149  0.149 -0.    -0.    -0.   ]\n",
        "External pressure (GPa): -0.149\n"
       ]
      }
     ],
     "prompt_number": 6
    },
    {
     "cell_type": "markdown",
     "metadata": {},
     "source": [
      "Equation of state\n",
      "-----------------\n",
      "\n",
      "The `elastic` library provides an equation of state calculation procedure, similar to the one we have used in the first tutorial. It automatically runs a number of single point calculations for given range of volumes (from `lo` to `hi` - the values are scalling factors). The default range [0.98,1.02] is equivalent to +/-2% compression/expansion. The data is collected and the Birch-Murnaghan equation of state:\n",
      "\n",
      "$$\n",
      "P(V)=\\frac{B_0}{B'_0} \\left[\\left(\\frac{V_0}{V}\\right)^{B'_0}-1\\right]\n",
      "$$\n",
      "\n",
      "is fitted to the data points. "
     ]
    },
    {
     "cell_type": "code",
     "collapsed": false,
     "input": [
      "fit=cryst.get_BM_EOS(lo=0.96,    # lower bound of the volumes range\n",
      "                     hi=1.04,    # higher bound of the volumes range\n",
      "                     n=5)        # number of volume points used in the fit\n",
      "\n",
      "print \"\\nA0=%.4f A  ;  B0=%.1f GPa  ;  B0'=%.2f \" % (fit[0]**(1.0/3), fit[1]/ase.units.GPa, fit[2])"
     ],
     "language": "python",
     "metadata": {},
     "outputs": [
      {
       "output_type": "stream",
       "stream": "stdout",
       "text": [
        "Launching:"
       ]
      },
      {
       "output_type": "stream",
       "stream": "stdout",
       "text": [
        " 1"
       ]
      },
      {
       "output_type": "stream",
       "stream": "stdout",
       "text": [
        " 2"
       ]
      },
      {
       "output_type": "stream",
       "stream": "stdout",
       "text": [
        " 3"
       ]
      },
      {
       "output_type": "stream",
       "stream": "stdout",
       "text": [
        " 4"
       ]
      },
      {
       "output_type": "stream",
       "stream": "stdout",
       "text": [
        " 5"
       ]
      },
      {
       "output_type": "stream",
       "stream": "stdout",
       "text": [
        "\n",
        "     Done:"
       ]
      },
      {
       "output_type": "stream",
       "stream": "stdout",
       "text": [
        " 1"
       ]
      },
      {
       "output_type": "stream",
       "stream": "stdout",
       "text": [
        " 2"
       ]
      },
      {
       "output_type": "stream",
       "stream": "stdout",
       "text": [
        " 3"
       ]
      },
      {
       "output_type": "stream",
       "stream": "stdout",
       "text": [
        " 4"
       ]
      },
      {
       "output_type": "stream",
       "stream": "stdout",
       "text": [
        " 5"
       ]
      },
      {
       "output_type": "stream",
       "stream": "stdout",
       "text": [
        "\n",
        "\n",
        "A0=4.3358 A  ;  B0=224.8 GPa  ;  B0'=3.74 \n"
       ]
      }
     ],
     "prompt_number": 7
    },
    {
     "cell_type": "markdown",
     "metadata": {},
     "source": [
      "Quality test\n",
      "------------\n",
      "\n",
      "We can easily check the quality of the fit by plotting the fitted function together with the calculation data. The calculated data points are saved into the `cryst.pv` attribute of the crystal object. The array contains following data: volume, pressure, lattice constants(A,B,C)."
     ]
    },
    {
     "cell_type": "code",
     "collapsed": false,
     "input": [
      "# Get the data from the crystal object\n",
      "pv=cryst.pv.T\n",
      "\n",
      "# Definition of the B-M EOS function\n",
      "func = lambda v, v0, b0, b0p: (b0/b0p)*(pow(v/v0,-b0p) - 1)\n",
      "\n",
      "figsize(12,7)\n",
      "plot(pv[0],pv[1],'+',label='Calculated points',markersize=10,markeredgewidth=2)\n",
      "\n",
      "v=linspace(min(pv[0])*0.99,max(pv[0])*1.01, 50)\n",
      "plot(v, func(v,fit[0],fit[1],fit[2]),label=\"B-M fit\");\n",
      "xlabel('Unit cell volume ($A^3$)')\n",
      "ylabel('Pressure (GPa)')\n",
      "legend();"
     ],
     "language": "python",
     "metadata": {},
     "outputs": [
      {
       "metadata": {},
       "output_type": "display_data",
       "png": "[encoded data removed]",
       "text": [
        "<matplotlib.figure.Figure at 0x3d830d0>"
       ]
      }
     ],
     "prompt_number": 8
    },
    {
     "cell_type": "markdown",
     "metadata": {},
     "source": [
      "Elastic constants\n",
      "-----------------\n",
      "\n",
      "`Elastic` module provides mainly one central function: the procedure for calculation of elastic constants of a crystal. Since the calculation of elastic constants involves many individual calculations (from 10 to even hundreds) it is beneficial to have some control over the execution of individual calculations. Thus the `get_elastic_tensor` provides two modes of operation. \n",
      "\n",
      "* Fully automatic (default) - does not provide any access to the component calculations. In case of any problems with the execution of individual jobs we have no chance to correct the situation. This may be *very* wastefull since the only option is to repeat the whole calcualtion. But the usage is extremely simple - just call `cryst.get_elastic_tensor()` to get the elastic tensor and Birch coefficients for the given structure.\n",
      "\n",
      "* Staged mode - recommended, particularly for large systems with many individual jobs. This mode provides a three-step procedure:\n",
      "    1. Run `cryst.get_elastic_tensor(mode='deformations')` to get a list of deformed crystals to calculate separately.\n",
      "    2. Run `elastic.ParCalculate(system_list,calculator)` to calculate the stresses of individual structures\n",
      "    3. Pass the list of systems to the `cryst.get_elastic_tensor(mode='restart',systems=system_list)` to get the elastic tensor.\n",
      "\n",
      "We will run the calculation in the staged mode which is safer and gives us a chence to intervene if something goes wrong."
     ]
    },
    {
     "cell_type": "code",
     "collapsed": false,
     "input": [
      "deformations=cryst.get_elastic_tensor(mode='deformations')"
     ],
     "language": "python",
     "metadata": {},
     "outputs": [],
     "prompt_number": 9
    },
    {
     "cell_type": "code",
     "collapsed": false,
     "input": [
      "elastic.ParCalculate(deformations,qe);"
     ],
     "language": "python",
     "metadata": {},
     "outputs": [
      {
       "output_type": "stream",
       "stream": "stdout",
       "text": [
        "Launching:"
       ]
      },
      {
       "output_type": "stream",
       "stream": "stdout",
       "text": [
        " 1"
       ]
      },
      {
       "output_type": "stream",
       "stream": "stdout",
       "text": [
        " 2"
       ]
      },
      {
       "output_type": "stream",
       "stream": "stdout",
       "text": [
        " 3"
       ]
      },
      {
       "output_type": "stream",
       "stream": "stdout",
       "text": [
        " 4"
       ]
      },
      {
       "output_type": "stream",
       "stream": "stdout",
       "text": [
        " 5"
       ]
      },
      {
       "output_type": "stream",
       "stream": "stdout",
       "text": [
        " 6"
       ]
      },
      {
       "output_type": "stream",
       "stream": "stdout",
       "text": [
        " 7"
       ]
      },
      {
       "output_type": "stream",
       "stream": "stdout",
       "text": [
        " 8"
       ]
      },
      {
       "output_type": "stream",
       "stream": "stdout",
       "text": [
        " 9"
       ]
      },
      {
       "output_type": "stream",
       "stream": "stdout",
       "text": [
        " 10"
       ]
      },
      {
       "output_type": "stream",
       "stream": "stdout",
       "text": [
        "\n",
        "     Done:"
       ]
      },
      {
       "output_type": "stream",
       "stream": "stdout",
       "text": [
        " 1"
       ]
      },
      {
       "output_type": "stream",
       "stream": "stdout",
       "text": [
        " 2"
       ]
      },
      {
       "output_type": "stream",
       "stream": "stdout",
       "text": [
        " 3"
       ]
      },
      {
       "output_type": "stream",
       "stream": "stdout",
       "text": [
        " 4"
       ]
      },
      {
       "output_type": "stream",
       "stream": "stdout",
       "text": [
        " 5"
       ]
      },
      {
       "output_type": "stream",
       "stream": "stdout",
       "text": [
        " 6"
       ]
      },
      {
       "output_type": "stream",
       "stream": "stdout",
       "text": [
        " 7"
       ]
      },
      {
       "output_type": "stream",
       "stream": "stdout",
       "text": [
        " 8"
       ]
      },
      {
       "output_type": "stream",
       "stream": "stdout",
       "text": [
        " 9"
       ]
      },
      {
       "output_type": "stream",
       "stream": "stdout",
       "text": [
        " 10"
       ]
      },
      {
       "output_type": "stream",
       "stream": "stdout",
       "text": [
        "\n"
       ]
      }
     ],
     "prompt_number": 10
    },
    {
     "cell_type": "code",
     "collapsed": false,
     "input": [
      "Cij,Bij=cryst.get_elastic_tensor(mode='restart',systems=deformations)"
     ],
     "language": "python",
     "metadata": {},
     "outputs": [],
     "prompt_number": 11
    },
    {
     "cell_type": "markdown",
     "metadata": {},
     "source": [
      "Finally we got the elastic tensor of the crystal. Depending on the symmetry of the crystal the number of constants changes.\n",
      "The general ordering of $C_{ij}$ components is (except for triclinic symmetry and taking into account customary names of constants - e.g. $C_{16} \\rightarrow C_{14}$:\n",
      "\n",
      "$$\n",
      "   C_{11}, C_{22}, C_{33}, C_{12}, C_{13}, C_{23}, \n",
      "   C_{44}, C_{55}, C_{66}, C_{16}, C_{26}, C_{36}, C_{45}\n",
      "$$\n",
      "\n",
      "To get the ordering for your crystal drop from the above list the positions irrelevant for its symmetry. Thus for our cubic crystal the order of constants will be: $ C_{11}, C_{12}, C_{44}$."
     ]
    },
    {
     "cell_type": "code",
     "collapsed": false,
     "input": [
      "print \"Elastic tensor (GPa) [C_11, C_12, C_44]:\", Cij/ase.units.GPa"
     ],
     "language": "python",
     "metadata": {},
     "outputs": [
      {
       "output_type": "stream",
       "stream": "stdout",
       "text": [
        "Elastic tensor (GPa) [C_11, C_12, C_44]: [ 392.951       145.439       274.90982353]\n"
       ]
      }
     ],
     "prompt_number": 12
    },
    {
     "cell_type": "code",
     "collapsed": false,
     "input": [],
     "language": "python",
     "metadata": {},
     "outputs": [],
     "prompt_number": 12
    }
   ],
   "metadata": {}
  }
 ]
}