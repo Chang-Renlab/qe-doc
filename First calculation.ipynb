{
 "metadata": {
  "name": ""
 },
 "nbformat": 3,
 "nbformat_minor": 0,
 "worksheets": [
  {
   "cells": [
    {
     "cell_type": "markdown",
     "metadata": {},
     "source": [
      "Setup of crystal structure and electronic structure calculations\n",
      "================================================================\n",
      "\n",
      "To use the `qeutil` system you need to do three things first.\n",
      "\n",
      " * Read a basic introduction to the iPython interpreter and the notebook environment (The links to the documentation are at the top of the page under menu \"Help\"). Note particularly \"Keyboard shortcuts\" document.\n",
      " * Import a set of libraries into your notebook environment (see below).\n",
      " * Configure the qeutil for your particular computing setup\n",
      " \n",
      "The `qeutil` library is build as an extension to the [ASE](https://wiki.fysik.dtu.dk/ase/index.html) library. Many of the presented functions depend on the functionality of the `ASE` library. Thus, it is highly recommended to familiarize yourself with its structure and function. The full documentation is available on the web.\n",
      " \n",
      "During working out the examples pay attention to the comments in the code, which start with the \"#\" character and continue to the end of the line. They are added for your convenience - to provide detailed descriptions of the procedure. \n",
      "\n",
      "The whole notebook system is written in the python language. You do not need high-level knowledge of the languade to understand the tutorials. However, some familiarity with its syntax is still required. Introduction to the python language may be found in the Help menu, if you need it. Please note that the indentation in the python code *is important*. The blocks of code are defined by the common indentation. \n",
      " \n",
      "Importing\n",
      "---------\n",
      "This notebook is presented as a read-only document as linked from the main site. In the top-right corner of the page there is a \"Download\" link. To work on this exercise download the file from the link into your notebook directory and open it as the iPython notebook.\n",
      "\n",
      "Configuring\n",
      "-----------\n",
      "This part is a little bit more complicated. This notebook is configured for a local execution of the Quantum Espresso programs. The qe-util has some support for the remote execution with a help of the queue menagement system. \n",
      "This topic is covered by the second notebook named \"Remote calculation\". \n",
      "\n",
      "For this exercise just review the configuration in the second cell and verify that the commands actually execute the Quantum-Espresso programs.\n",
      "\n",
      "Additional libraries\n",
      "--------------------\n",
      "The following notebook includes a minimal set of libraries required for it too run (see the first cell of this notebook). You may need additional libraries if you extend the analysis presented below. It is as easy as adding additional 'import' clauses at the beginning. \n"
     ]
    },
    {
     "cell_type": "code",
     "collapsed": false,
     "input": [
      "# Import the basic libraries\n",
      "\n",
      "# ASE system\n",
      "import ase\n",
      "from ase import Atom, Atoms\n",
      "from ase import io\n",
      "from ase.lattice.spacegroup import crystal\n",
      "\n",
      "# Spacegroup/symmetry library\n",
      "from pyspglib import spglib\n",
      "\n",
      "# The qe-util package\n",
      "import qeutil\n",
      "from qeutil import QuantumEspresso\n",
      "\n",
      "# iPython utility function\n",
      "from IPython.core.display import Image"
     ],
     "language": "python",
     "metadata": {},
     "outputs": [],
     "prompt_number": 1
    },
    {
     "cell_type": "markdown",
     "metadata": {},
     "source": [
      "Configuration\n",
      "-------------\n",
      "\n",
      "Configure `qe-util` library for local execution of the Quantum Espresso on four processors. The commands should execute the following programs from the Quantum Espresso package:\n",
      "\n",
      "* `pw.x` The basic program for calculating electronic structure and basic static properties of the crystal such as:\n",
      "    * Electronic structure\n",
      "    * Energy\n",
      "    * Stress tensor\n",
      "    * Charge distribution\n",
      "* `ph.x` The program for calculating the a second derivative of the energy with respect to atomic displacements or unit cell deformations.\n",
      "* `matdyn.x` The program for processing dynamical matrix of the crystal.\n",
      "* `q2r.x` The program for the transformation of the dynamical matrix into a matrix of force constants in real space.\n",
      "\n",
      "The commands should contain two sequences `%(infile)s` and `%(outfile)` which will get replaced with the names of the input and output files respectively. In this tutorial we will use just the first command (`pw.x`), the rest is present here for completness."
     ]
    },
    {
     "cell_type": "code",
     "collapsed": false,
     "input": [
      "# Configure qe-util for local execution of the Quantum Espresso on four processors\n",
      "QuantumEspresso.pw_cmd='mpiexec -n 4 pw.x < %(infile)s > %(outfile)s'\n",
      "QuantumEspresso.ph_cmd='mpiexec -n 4 ph.x < %(infile)s > %(outfile)s'\n",
      "QuantumEspresso.matdyn_cmd='mpiexec -n 4 matdyn.x < %(infile)s > %(outfile)s'\n",
      "QuantumEspresso.q2r_cmd='q2r.x < %(infile)s > %(outfile)s'"
     ],
     "language": "python",
     "metadata": {},
     "outputs": [],
     "prompt_number": 2
    },
    {
     "cell_type": "markdown",
     "metadata": {},
     "source": [
      "Crystal definition\n",
      "------------------\n",
      "\n",
      "Here we define a $\\beta$-SiC crystal: a cubic zincblende crystal with a spacegroup F-43m (space group number 216) and an experimental lattice constant (here, A=4.3596 A). The atomic positions are specified in the fractional (crystallographic) coordinates; i.e. coordinates measured in units of lattice constants in the coordinate system defined by lattice vectors. The unit cell is specified as three lengths (in angstrom) of the lattice vectors and three angles (in degrees) between these vectors. The crystal axis are oriented in the conventional way in the carthesian (X,Y,Z) coordinate system:\n",
      "\n",
      "* Vector $\\vec{A}$ is along the X axis\n",
      "* Vector $\\vec{B}$ is in the XY plane"
     ]
    },
    {
     "cell_type": "code",
     "collapsed": false,
     "input": [
      "a=4.3596                                         # Lattice constant in Angstrom\n",
      "cryst = crystal(['Si', 'C'],                     # Atoms in the crystal\n",
      "                [(0, 0, 0), (0.25, 0.25, 0.25)], # Atomic positions (fractional coordinates)\n",
      "                spacegroup=216,                  # International number of the spacegroup of the crystal\n",
      "                cellpar=[a, a, a, 90, 90, 90])   # Unit cell (a, b, c, alpha, beta, gamma) in Angstrom, Degrees"
     ],
     "language": "python",
     "metadata": {},
     "outputs": [],
     "prompt_number": 3
    },
    {
     "cell_type": "markdown",
     "metadata": {},
     "source": [
      "We can display the picture of the crystal. The `ase.io.write` procedure, used here, is a very flexible tool. It can write the crystal in numerous formats, it can even run external tools for rendering a 3D scene. Here, we just use a simple renderer build into the write procedure to store a picture of the crystal into a disk file and then to display it."
     ]
    },
    {
     "cell_type": "code",
     "collapsed": false,
     "input": [
      "# Write the image to disk file\n",
      "ase.io.write('crystal.png',       # The file where the picture get stored\n",
      "             cryst,               # The object holding the crystal definition\n",
      "             format='png',        # Format of the file\n",
      "             show_unit_cell=2,    # Draw the unit cell boundaries\n",
      "             rotation='115y,15x', # Rotate the scene by 115deg around Y axis and 15deg around X axis\n",
      "             scale=30)            # Scale of the picture\n",
      "\n",
      "# Display the image\n",
      "Image(filename='crystal.png')"
     ],
     "language": "python",
     "metadata": {},
     "outputs": [
      {
       "metadata": {},
       "output_type": "pyout",
       "png": "[encoded data removed]",
       "prompt_number": 4,
       "text": [
        "<IPython.core.display.Image at 0x31ed610>"
       ]
      }
     ],
     "prompt_number": 4
    },
    {
     "cell_type": "markdown",
     "metadata": {},
     "source": [
      "Check the spacegroup (symmetry) of our creation. The `spglib` library provides various functions dealing with the symmetry of crystals. For example, it has a symmetry finder, which can identify the symmetry group of the crystal. Here, we use this function to check if the structure we have created is indeed a zinc-blende cubic crystal (F-43m group)."
     ]
    },
    {
     "cell_type": "code",
     "collapsed": false,
     "input": [
      "spglib.get_spacegroup(cryst)"
     ],
     "language": "python",
     "metadata": {},
     "outputs": [
      {
       "metadata": {},
       "output_type": "pyout",
       "prompt_number": 5,
       "text": [
        "'F-43m      (216)'"
       ]
      }
     ],
     "prompt_number": 5
    },
    {
     "cell_type": "markdown",
     "metadata": {},
     "source": [
      "Most of the calculations are done on the primitive unit cell of the crystal (instead of the traditional, crystalographic unit cell). The primitive unit cell is usually substantially smaller, thus the calculations are much faster. The `spglib` library contains also a function which can identify a primitive unit cell for a given structure. In this part of the tutorial we  create a primitive unit cell for the crystal. Usually we do not need to do it explicitely - the `qeutil` library extracts this information internally when it is needed. Still it is worthwhile to do it by hand to learn about relationships.\n",
      "\n",
      "The `spglib.find_primitive` function returns three arrays containing respectively (remember that lists and array indexes start from 0 in python): \n",
      "\n",
      "* unit cell vectors (3x3) matrix (in Angstrom)\n",
      "* atomic positions (3xN-atoms) matrix (fractional coordinates)\n",
      "* list of atomic numbers of the atoms in the unit cell\n",
      "\n",
      "**Note 1:** The primitive unit cell is defined in the *carthesian* coordinate system (as a 3x3 matrix of lattice vectors coordinates in angstroms). It corresponds to the orientation of the crystal for which it was derived. The orientation of both crystals are *the same* but the primitive unit cell is usually **not** oriented in the conventional way (see the remark about orientation of axis above). Particularly in the case presented here the A, B, C axes of the primitive lattice are oriented, respectively, in the XY, XZ and XY planes (see the matrix below).\n",
      "\n",
      "**Note 2:** The atomic coordinates below are specified in *fractional* coordinates in the *primitive unit cell*. Thus they are different then the fractional coordinatesin the conventional unit cell defined above. This is an important rule: *The fractional coordinates are always defined and measured by the vectors of the **current** unit cell*"
     ]
    },
    {
     "cell_type": "code",
     "collapsed": false,
     "input": [
      "# Find a primitive cell of the structure\n",
      "puc=spglib.find_primitive(cryst)\n",
      "\n",
      "# Parameters of the unit cell\n",
      "print 'Primitive unit cell (Angstrom, carthesian coordinates):\\n', puc[0]\n",
      "print 'Atomic positions (fractional, crystalographic):\\n', puc[1]"
     ],
     "language": "python",
     "metadata": {},
     "outputs": [
      {
       "output_type": "stream",
       "stream": "stdout",
       "text": [
        "Primitive unit cell (Angstrom, carthesian coordinates):\n",
        "[[ 2.1798 -2.1798  0.    ]\n",
        " [-2.1798 -0.     -2.1798]\n",
        " [ 2.1798  2.1798  0.    ]]\n",
        "Atomic positions (fractional, crystalographic):\n",
        "[[  1.38777878e-17   5.55111512e-17   2.77555756e-17]\n",
        " [ -2.50000000e-01  -5.00000000e-01   2.50000000e-01]]\n"
       ]
      }
     ],
     "prompt_number": 6
    },
    {
     "cell_type": "markdown",
     "metadata": {},
     "source": [
      "Based on the parameters of the primitive unit cell we can build a crystal object for it. Just feed the parameters stored in `puc` variable to the creator of the generic atomic systems: `Atoms`. We will not need this furher down the tutorial. The qe-util extracts the primitive structure when it needs to."
     ]
    },
    {
     "cell_type": "code",
     "collapsed": false,
     "input": [
      "# Create the primitive cell crystal\n",
      "cryst_prim=Atoms(                         # Create a generic atomic structure\n",
      "                 cell=puc[0],             # Unit cell (Angstrom)\n",
      "                 scaled_positions=puc[1], # Atomic positions (fractional)\n",
      "                 numbers=puc[2],          # Atomic numbers\n",
      "                 pbc=True)                # Use Periodic Boundary Conditions"
     ],
     "language": "python",
     "metadata": {},
     "outputs": [],
     "prompt_number": 7
    },
    {
     "cell_type": "code",
     "collapsed": false,
     "input": [
      "# Check if the symmetry is still the same\n",
      "print spglib.get_spacegroup(cryst_prim)"
     ],
     "language": "python",
     "metadata": {},
     "outputs": [
      {
       "output_type": "stream",
       "stream": "stdout",
       "text": [
        "F-43m      (216)\n"
       ]
      }
     ],
     "prompt_number": 8
    },
    {
     "cell_type": "code",
     "collapsed": false,
     "input": [
      "# This is a simple trick to wrap all the atoms into a unit cell. \n",
      "# We need this just to have a nicer picture below\n",
      "cryst_prim.set_positions(cryst_prim.get_positions(wrap=True))\n",
      "print 'Atomic positions in the primitive unit cell (fractional)'\n",
      "print cryst_prim.get_scaled_positions()"
     ],
     "language": "python",
     "metadata": {},
     "outputs": [
      {
       "output_type": "stream",
       "stream": "stdout",
       "text": [
        "Atomic positions in the primitive unit cell (fractional)\n",
        "[[  1.38777878e-17   5.55111512e-17   2.77555756e-17]\n",
        " [  7.50000000e-01   5.00000000e-01   2.50000000e-01]]\n"
       ]
      }
     ],
     "prompt_number": 9
    },
    {
     "cell_type": "code",
     "collapsed": false,
     "input": [
      "# Take a look, same orientation as before\n",
      "ase.io.write('crystal-prim.png',cryst_prim,format='png',show_unit_cell=2, rotation='115y,15x', scale=40)\n",
      "Image(filename='crystal-prim.png')"
     ],
     "language": "python",
     "metadata": {},
     "outputs": [
      {
       "metadata": {},
       "output_type": "pyout",
       "png": "[encoded data removed]",
       "prompt_number": 10,
       "text": [
        "<IPython.core.display.Image at 0x31ed5d0>"
       ]
      }
     ],
     "prompt_number": 10
    },
    {
     "cell_type": "markdown",
     "metadata": {},
     "source": [
      "Defining the `Calculator`\n",
      "-----------------------\n",
      "\n",
      "Now, when we have our crystal build we need to define a `Calculator` for our computations. It is done by creation of `QuantumEspresso` object, specifying various parameters for the calculation. The same calculator may be used for a number of structures and a number of computations. It is a provider of functions which allow the crystal object to respond to questions such as: \"What is your total energy?\". You need to specify a number of parameters for the calculator which are specific to the case. The parameters used here *should not* be used in the production runs. They are defined just for the presentation purposes. For a real calculation you *need* to select the parameters according to the case you are dealing with. Unfortunately there is no simple \"rule of thumb\" for these parameters. The list of possible parameters covers a fairly complete set of parameters used by Quantum Espresso package. For the description of possible parameters you need to consult the documentation on the [Quantum Espresso websie](http://www.quantum-espresso.org/), particularly the  [document describing input parameters](http://www.quantum-espresso.org/wp-content/uploads/Doc/INPUT_PW.html)\n",
      "\n",
      "The meaning of the parameters in greater detail:\n",
      "\n",
      "* `label` -- This is a label for the calculator. It is used as a first part of the directory name used by the calculator to store and execute the calculations.\n",
      "* `kpts` -- A list of k-vectors for the sampling of the Brillouin zone. Here it is specified as a grid size (n x m x k) which is a typical approach. It may be also specified as a list of k-vectors\n",
      "* `xc`, `pp_type`, `pp_format` -- These are the parts of the name of the used pseudopotentials. The pseudopotential name is constructed as: \n",
      "\n",
      "    (`Element_symbol`)_(`xc`)_(`pp_type`).(`pp_format`)\n",
      "\n",
      "\n",
      "* `ecutwfc` -- Cut-off energy (in Ry) for the plane waves used in the calculation. This needs to be adjusted according to the pseudopotential used.\n",
      "* `use_symmetry` -- Controls use of symmetry in the calculation. If set to True the calculator will internally extract a primitive unit cell out of the crystal and perform all calculations on the primitive unit cell."
     ]
    },
    {
     "cell_type": "code",
     "collapsed": false,
     "input": [
      "# Create a Quantum Espresso calculator for our work. \n",
      "# This object encapsulates all parameters of the calculation, \n",
      "# not the system we are investigating.\n",
      "qe=QuantumEspresso(label='SiC',         # Label for calculations\n",
      "                       kpts=[4,4,4],    # K-space sampling for the SCF calculation\n",
      "                       xc='pz',         # Exchange functional type in the name of the pseudopotentials\n",
      "                       pp_type='vbc',   # Variant of the pseudopotential\n",
      "                       pp_format='UPF', # Format of the pseudopotential files\n",
      "                       ecutwfc=70,      # Energy cut-off (in Rydberg)\n",
      "                       use_symmetry=True) # Use symmetry in the calculation ?\n",
      "\n",
      "# Check where the calculation files will reside.\n",
      "print qe.directory"
     ],
     "language": "python",
     "metadata": {},
     "outputs": [
      {
       "output_type": "stream",
       "stream": "stdout",
       "text": [
        "./SiC.TzIeWo\n"
       ]
      }
     ],
     "prompt_number": 11
    },
    {
     "cell_type": "code",
     "collapsed": false,
     "input": [
      "# Assign the calculator to our system\n",
      "cryst.set_calculator(qe)"
     ],
     "language": "python",
     "metadata": {},
     "outputs": [],
     "prompt_number": 12
    },
    {
     "cell_type": "markdown",
     "metadata": {},
     "source": [
      "Computing - single-point calculation\n",
      "------------------------------------\n",
      "\n",
      "We are ready to perform our first Quantum Espresso calculation. It is as simple as asking the crystal for its energy or stress tensor. \n",
      "\n",
      "You just need to call an appropriate function: e.g. `cryst.get_stress()`\n",
      "\n",
      "The calculation may take some time (5-30s, depending on your system). Be patient.\n",
      "\n",
      "**Note**: The default notation for stress tensors used here is a *Voigt* notation. Where the independent components of a symetric stress tensor $\\sigma$ are collected into a 6-component quantity (note: it is *not* a vector in the tensor analysys sense). This is a common notation in the tensor algebra of symmetric tensors. The components of the stress tensor in the Voigt notation are:\n",
      "$$\n",
      "[\\sigma_{xx}, \\sigma_{yy}, \\sigma_{zz}, \\sigma_{yz}, \\sigma_{xz}, \\sigma_{yz}]\n",
      "$$"
     ]
    },
    {
     "cell_type": "code",
     "collapsed": false,
     "input": [
      "# Run the calculation to get stress tensor (Voigt notation, in eV/A^3) and pressure (in kBar)\n",
      "print \"Stress tensor   (Voigt notation eV/A^3):\", cryst.get_stress()\n",
      "print \"External pressure                (kBar):\", cryst.get_isotropic_pressure(cryst.get_stress())*1e-3"
     ],
     "language": "python",
     "metadata": {},
     "outputs": [
      {
       "output_type": "stream",
       "stream": "stdout",
       "text": [
        "Stress tensor   (Voigt notation eV/A^3): "
       ]
      },
      {
       "output_type": "stream",
       "stream": "stdout",
       "text": [
        "[-0.02178286 -0.02178286 -0.02178286  0.         -0.         -0.        ]\n",
        "External pressure                (kBar): 34.9\n"
       ]
      }
     ],
     "prompt_number": 13
    },
    {
     "cell_type": "code",
     "collapsed": false,
     "input": [
      "# Do the same but get the results in GPa\n",
      "# Note that this time we get the results imadiately. \n",
      "# We did not change the system, so it is not necessary to repeat the calculation.\n",
      "print \"Stress tensor  (Voigt notation, GPa):\", cryst.get_stress()/ase.units.GPa\n",
      "print \n",
      "print \"Stress tensor (Tensor notation, GPa):\"\n",
      "print cryst.get_stress(voigt=False)/ase.units.GPa\n",
      "print\n",
      "print \"External pressure              (GPa):\", -cryst.get_isotropic_pressure(cryst.get_stress())*1e-4"
     ],
     "language": "python",
     "metadata": {},
     "outputs": [
      {
       "output_type": "stream",
       "stream": "stdout",
       "text": [
        "Stress tensor  (Voigt notation, GPa): [-3.49 -3.49 -3.49  0.   -0.   -0.  ]\n",
        "\n",
        "Stress tensor (Tensor notation, GPa):\n",
        "[[-3.49 -0.   -0.  ]\n",
        " [-0.   -3.49  0.  ]\n",
        " [-0.    0.   -3.49]]\n",
        "\n",
        "External pressure              (GPa): -3.49\n"
       ]
      }
     ],
     "prompt_number": 14
    },
    {
     "cell_type": "markdown",
     "metadata": {},
     "source": [
      "Computing - a series of calculations\n",
      "------------------------------------\n",
      "One of the advantages of this system is that you can run a series of calculations automatically, as is ilustrated below. \n",
      "For example we can find a minimum of energy of our crystal - which is its equilibrium lattice constant.\n",
      "To do this it is needed to modify the crystal at each turn of \n",
      "the loop and collect the results. \n",
      "Alternatively you can create a whole bunch of systems and calculators\n",
      "and run them all at once. If you have many CPUs this may \n",
      "considerably speed up the calculation. \n",
      "Here we will do a sequential run. The topic of parallel execution will be covered in the \"Remote calculation\" notebook."
     ]
    },
    {
     "cell_type": "code",
     "collapsed": false,
     "input": [
      "# A sequential run for a series of lattice constants\n",
      "\n",
      "# We will store the results in this list\n",
      "result=[]\n",
      "\n",
      "# Our prototype crystal is just a copy of the structure defiened above\n",
      "cr=Atoms(cryst)\n",
      "\n",
      "# It needs a calculator as well. This may be the same calculator or we can define a separate one.\n",
      "cr.set_calculator(qe)\n",
      "\n",
      "print \" Scale     A(A)     Energy(eV)   Pressure(GPa) \"\n",
      "print \"===============================================\"\n",
      "\n",
      "# Iterate over scales between 98% and 102% of the starting unit cell size. \n",
      "# We use 11 points in the interval\n",
      "for x in linspace(0.98,1.02,11):\n",
      "    # Modify the crystal by scaling the lattice vectors\n",
      "    cr.set_cell(cryst.get_cell()*x,scale_atoms=True)\n",
      "    \n",
      "    # Calculate energy and stress and store the results in the result list\n",
      "    result.append([x, x*cryst.get_cell()[0,0], cr.get_potential_energy(), -1e-4*cr.get_isotropic_pressure(cr.get_stress())])\n",
      "    \n",
      "    # Print it as well\n",
      "    print \"% 5.03f   % 6.04f    %+6.4f      % +8.3f \" % tuple(result[-1])\n",
      "\n",
      "# Prepare the collected data for plotting\n",
      "# This will make an array (matrix) out of a list and transpose it for easier access later\n",
      "# Transposing the matrix means that we can specify just a column to get the whole column as a vector.\n",
      "result=array(result).T\n",
      "\n",
      "# Let us save our calculated data to a file. \n",
      "# To have data in columns we need to transpose the array again.\n",
      "# This is a consequence of the row-column conventions and has no deeper meaning.\n",
      "savetxt('e+p-vs-a.dat',result.T)"
     ],
     "language": "python",
     "metadata": {},
     "outputs": [
      {
       "output_type": "stream",
       "stream": "stdout",
       "text": [
        " Scale     A(A)     Energy(eV)   Pressure(GPa) \n",
        "===============================================\n",
        " 0.980    4.2724    -19.3373       +11.027 "
       ]
      },
      {
       "output_type": "stream",
       "stream": "stdout",
       "text": [
        "\n",
        " 0.984    4.2898    -19.3385        +7.842 "
       ]
      },
      {
       "output_type": "stream",
       "stream": "stdout",
       "text": [
        "\n",
        " 0.988    4.3073    -19.3394        +4.792 "
       ]
      },
      {
       "output_type": "stream",
       "stream": "stdout",
       "text": [
        "\n",
        " 0.992    4.3247    -19.3399        +1.894 "
       ]
      },
      {
       "output_type": "stream",
       "stream": "stdout",
       "text": [
        "\n",
        " 0.996    4.3422    -19.3402        -0.852 "
       ]
      },
      {
       "output_type": "stream",
       "stream": "stdout",
       "text": [
        "\n",
        " 1.000    4.3596    -19.3401        -3.490 "
       ]
      },
      {
       "output_type": "stream",
       "stream": "stdout",
       "text": [
        "\n",
        " 1.004    4.3770    -19.3398        -5.976 "
       ]
      },
      {
       "output_type": "stream",
       "stream": "stdout",
       "text": [
        "\n",
        " 1.008    4.3945    -19.3391        -8.347 "
       ]
      },
      {
       "output_type": "stream",
       "stream": "stdout",
       "text": [
        "\n",
        " 1.012    4.4119    -19.3382       -10.607 "
       ]
      },
      {
       "output_type": "stream",
       "stream": "stdout",
       "text": [
        "\n",
        " 1.016    4.4294    -19.3370       -12.753 "
       ]
      },
      {
       "output_type": "stream",
       "stream": "stdout",
       "text": [
        "\n",
        " 1.020    4.4468    -19.3356       -14.801 "
       ]
      },
      {
       "output_type": "stream",
       "stream": "stdout",
       "text": [
        "\n"
       ]
      }
     ],
     "prompt_number": 15
    },
    {
     "cell_type": "markdown",
     "metadata": {},
     "source": [
      "Analysis\n",
      "--------\n",
      "\n",
      "All plotting in the notebook environment is done by the [matplotlib](http://www.matplotlib.org/) graphics library. It is a very flexible and usefull tool for scientific plotting. You will find an extensive documentation on the web. It is linked in the \"Help\" menu above. Below we will plot the energy and stress curves and find the lattice constant corresponding to the zero stress (minimum energy)."
     ]
    },
    {
     "cell_type": "code",
     "collapsed": false,
     "input": [
      "# Let us plot the results and save the figure\n",
      "figsize(12,7)\n",
      "\n",
      "# To make the plot nicer we define a shift to energy. \n",
      "# Rounding to second decimal digit in eV\n",
      "E0=round(min(result[2])-(max(result[2])-min(result[2]))/20,2)\n",
      "\n",
      "# Plot the result\n",
      "plot(result[1],     # Arguments (x-axis)\n",
      "     result[2]-E0,  # Values (y-axis)\n",
      "     'o-',          # Symbol and line style\n",
      "     label='Total internal energy')\n",
      "\n",
      "legend()            # Add a legend\n",
      "\n",
      "# Set the axes lebels\n",
      "xlabel('Lattice vector length ($\\AA$)')  \n",
      "ylabel('Energy %+8.2f (eV)' % (-E0))\n",
      "\n",
      "# Store the figure\n",
      "savefig('e-vs-a.pdf')"
     ],
     "language": "python",
     "metadata": {},
     "outputs": [
      {
       "metadata": {},
       "output_type": "display_data",
       "png": "[encoded data removed]",
       "text": [
        "<matplotlib.figure.Figure at 0x3206850>"
       ]
      }
     ],
     "prompt_number": 16
    },
    {
     "cell_type": "markdown",
     "metadata": {},
     "source": [
      "Fitting the Equation of State\n",
      "-----------------------------\n",
      "\n",
      "Below we will fit the Birch-Murnaghan logaritmic equation of state to our lattice constant-pressure data to find:\n",
      "\n",
      "* Equilibrium lattice constant $A_0$\n",
      "* Bulk modulus $B_0$\n",
      "* Derivative of bulk modulus $B'_0$\n",
      "\n",
      "The Birch-Murnaghan equation of state has a following form:\n",
      "\n",
      "$$\n",
      "P(V)=\\frac{B_0}{B'_0} \\left[\\left(\\frac{V_0}{V}\\right)^{B'_0}-1\\right]\n",
      "$$\n",
      "\n",
      "To fit this formula to our data points we use a standard least-squares non-linear optimization procedure `leastsq` from the `optimize` module of the `SciPy` library. The documentation for this library is also included in the \"Help\" menu."
     ]
    },
    {
     "cell_type": "code",
     "collapsed": false,
     "input": [
      "# Let's do the same with pressure. \n",
      "# But this time let us fit a Birch-Murnaghan equation of state to the data\n",
      "\n",
      "# We need a fitting package from scipy\n",
      "from scipy import optimize\n",
      "\n",
      "# Define a B-M eos function\n",
      "def BMEOS(v,v0,b0,b0p):\n",
      "        return (b0/b0p)*(pow(v0/v,b0p) - 1)\n",
      "\n",
      "# Define functions for fitting\n",
      "# The B-M EOS is defined as a function of volume.\n",
      "# Our data is a function of lattice parameter A^3=V\n",
      "# We need to convert them on-the-fly\n",
      "fitfunc = lambda p, x: [BMEOS(xv**3,p[0]**3,p[1],p[2]) for xv in x]\n",
      "errfunc = lambda p, x, y: fitfunc(p, x) - y\n",
      "\n",
      "\n",
      "figsize(12,7)\n",
      "# Plot the data\n",
      "plot(result[1],result[3],'+',markersize=10,markeredgewidth=2,label='Pressure')\n",
      "\n",
      "# Fit the EOS\n",
      "\n",
      "# Create a data array: lattice constant vs. isotropic pressure\n",
      "ap=array([result[1],result[3]])\n",
      "\n",
      "# Estimate the initial guess assuming b0p=1\n",
      "# Limiting arguments\n",
      "a1=min(ap[0])\n",
      "a2=max(ap[0])\n",
      "# The pressure is falling with the growing volume\n",
      "p2=min(ap[1])\n",
      "p1=max(ap[1])\n",
      "\n",
      "# Estimate the slope\n",
      "b0=(p1*a1-p2*a2)/(a2-a1)\n",
      "a0=(a1)*(p1+b0)/b0\n",
      "\n",
      "# Set the initial guess\n",
      "p0=[a0,b0,1]\n",
      "\n",
      "# Fitting\n",
      "# fit will recieve the fitted parameters, \n",
      "# and value of succ indicates if fitting was successful\n",
      "fit, succ = optimize.leastsq(errfunc, p0[:], args=(ap[0],ap[1]))\n",
      "\n",
      "# Ranges - the ordering in ap is not guarateed at all!\n",
      "# In fact it may be purely random.\n",
      "x=numpy.array([min(ap[0]),max(ap[0])])\n",
      "y=numpy.array([min(ap[1]),max(ap[1])])\n",
      "\n",
      "# Plot the P(V) curves and points for the crystal\n",
      "\n",
      "# Mark the center at P=0, A=A0 with dashed lines\n",
      "axvline(fit[0],ls='--')\n",
      "axhline(0,ls='--')\n",
      "\n",
      "# Plot the fitted B-M EOS through the points,\n",
      "# and put the fitting results on the figure.\n",
      "xa=numpy.linspace(x[0],x[-1],20)\n",
      "plot(xa,fitfunc(fit,xa),'-', \n",
      "     label=\"\\nB-M fit:\\n$A_0$=%6.4f $\\AA$,\\n$B_0$=%6.1f GPa,\\n$B'_0$=%5.3f  \" % (fit[0], fit[1], fit[2]) )\n",
      "\n",
      "legend()\n",
      "xlabel('Lattice vector length ($\\AA$)')\n",
      "ylabel('Pressure (GPa)')\n",
      "\n",
      "# Save our figure\n",
      "savefig('p-vs-a.pdf')"
     ],
     "language": "python",
     "metadata": {},
     "outputs": [
      {
       "metadata": {},
       "output_type": "display_data",
       "png": "[encoded data removed]",
       "text": [
        "<matplotlib.figure.Figure at 0x32e8c50>"
       ]
      }
     ],
     "prompt_number": 17
    },
    {
     "cell_type": "code",
     "collapsed": false,
     "input": [],
     "language": "python",
     "metadata": {},
     "outputs": [],
     "prompt_number": 17
    }
   ],
   "metadata": {}
  }
 ]
}