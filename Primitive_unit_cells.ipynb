{
 "metadata": {
  "name": ""
 },
 "nbformat": 3,
 "nbformat_minor": 0,
 "worksheets": [
  {
   "cells": [
    {
     "cell_type": "markdown",
     "metadata": {},
     "source": [
      "Primitive unit cells\n",
      "====================\n",
      "\n",
      "Understanding the definitions of the crystal structure are of paramount importance. If your structure is wrong your results are wrong. Thus it is *highly recommended* to check your data carefully before even starting the calculation.\n",
      "\n",
      "This tutorial shows how to generate the structure and how to check its relationship with the primitive unit cell and how to generate primitive unit cells with various definitions."
     ]
    },
    {
     "cell_type": "code",
     "collapsed": false,
     "input": [
      "# Import the basic libraries\n",
      "\n",
      "# ASE system\n",
      "import ase\n",
      "from ase import Atom, Atoms\n",
      "from ase import io\n",
      "from ase.lattice.spacegroup import crystal\n",
      "\n",
      "# Spacegroup/symmetry library\n",
      "from pyspglib import spglib\n",
      "\n",
      "# The qe-util package\n",
      "from qeutil import QuantumEspresso\n",
      "\n",
      "# iPython utility function\n",
      "from IPython.core.display import Image\n",
      "\n",
      "# Configure qe-util for local execution of the Quantum Espresso on four processors\n",
      "QuantumEspresso.pw_cmd='mpiexec -n 4 pw.x < %(infile)s > %(outfile)s'"
     ],
     "language": "python",
     "metadata": {},
     "outputs": [],
     "prompt_number": 1
    },
    {
     "cell_type": "markdown",
     "metadata": {},
     "source": [
      "Crystal definition\n",
      "------------------\n",
      "\n",
      "Here we define a $\\beta$-SiC crystal: a cubic zincblende crystal with a spacegroup F-43m (space group number 216) and an experimental lattice constant (here, A=4.3596 A). The atomic positions are specified in the fractional (crystallographic) coordinates; i.e. coordinates measured in units of lattice constants in the coordinate system defined by lattice vectors. The unit cell is specified as three lengths (in angstrom) of the lattice vectors and three angles (in degrees) between these vectors. The crystal axis are oriented in the conventional way in the Cartesian (X,Y,Z) coordinate system:\n",
      "\n",
      "* Vector $\\vec{A}$ is along the X axis\n",
      "* Vector $\\vec{B}$ is in the XY plane\n",
      "\n",
      "This crystal is defined in what is usually called *Conventional Unit Cell*."
     ]
    },
    {
     "cell_type": "code",
     "collapsed": false,
     "input": [
      "a=4.3596                                         # Lattice constant in Angstrom\n",
      "cryst = crystal(['Si', 'C'],                     # Atoms in the crystal\n",
      "                [(0, 0, 0), (0.25, 0.25, 0.25)], # Atomic positions (fractional coordinates)\n",
      "                spacegroup=216,                  # International number of the spacegroup of the crystal\n",
      "                cellpar=[a, a, a, 90, 90, 90])   # Unit cell (a, b, c, alpha, beta, gamma) in Angstrom, Degrees"
     ],
     "language": "python",
     "metadata": {},
     "outputs": [],
     "prompt_number": 2
    },
    {
     "cell_type": "markdown",
     "metadata": {},
     "source": [
      "We can display the picture of the crystal. The `ase.io.write` procedure, used here, is a very flexible tool. It can write the crystal in numerous formats, it can even run external tools for rendering a 3D scene. Here, we just use a simple renderer build into the write procedure to store a picture of the crystal into a disk file and then to display it."
     ]
    },
    {
     "cell_type": "code",
     "collapsed": false,
     "input": [
      "# Write the image to disk file\n",
      "ase.io.write('crystal.png',       # The file where the picture get stored\n",
      "             cryst,               # The object holding the crystal definition\n",
      "             format='png',        # Format of the file\n",
      "             show_unit_cell=2,    # Draw the unit cell boundaries\n",
      "             rotation='115y,15x', # Rotate the scene by 115deg around Y axis and 15deg around X axis\n",
      "             scale=35)            # Scale of the picture\n",
      "\n",
      "# Display the image\n",
      "Image(filename='crystal.png')"
     ],
     "language": "python",
     "metadata": {},
     "outputs": [
      {
       "metadata": {},
       "output_type": "pyout",
       "png": "[encoded data removed]",
       "prompt_number": 3,
       "text": [
        "<IPython.core.display.Image at 0x2cf8490>"
       ]
      }
     ],
     "prompt_number": 3
    },
    {
     "cell_type": "markdown",
     "metadata": {},
     "source": [
      "Most of the calculations are done on the primitive unit cell of the crystal (instead of the traditional, crystallographic unit cell). The primitive unit cell is usually substantially smaller, thus the calculations are much faster. The `spglib` library contains also a function which can identify a primitive unit cell for a given structure. In this part of the tutorial we  create a primitive unit cell for the crystal. Usually we do not need to do it explicitly - the `qeutil` library extracts this information internally when it is needed. Still it is worthwhile to do it by hand to learn about relationships. Furthermore one needs to note that the definition of the  primitive unit cell is not unique. The same parallerogram in space may be described by many different base vectors - depending on selection of edges used for the base vectors.\n",
      "\n",
      "The `spglib.find_primitive` function returns three arrays containing respectively (remember that lists and array indexes start from 0 in python): \n",
      "\n",
      "* unit cell vectors (3x3) matrix (in Angstrom)\n",
      "* atomic positions (3xN-atoms) matrix (fractional coordinates)\n",
      "* list of atomic numbers of the atoms in the unit cell\n",
      "\n",
      "The returned primitive unit cell is usually *not* the one which is conventionally used in the literature (e.g. it usually differs from the one required by the Quantum Espresso). If you want some particular form of the unit cell you have to do the conversion yourself (see below).\n",
      "\n",
      "**Note 1:** The primitive unit cell is defined in the *Cartesian* coordinate system (as a 3x3 matrix of lattice vectors coordinates in angstroms). It corresponds to the orientation of the crystal for which it was derived. The orientation of both crystals are *the same* but the primitive unit cell is usually **not** oriented in the conventional way (see the remark about orientation of axis above). Particularly in the case presented here the A, B, C axes of the primitive lattice are oriented, respectively, in the XY, XZ and XY planes (see the matrix below).\n",
      "\n",
      "**Note 2:** The atomic coordinates below are specified in *fractional* coordinates in the *primitive unit cell*. Thus they are different then the fractional coordinatesin the conventional unit cell defined above. This is an important rule: *The fractional coordinates are always defined and measured by the vectors of the **current** unit cell*."
     ]
    },
    {
     "cell_type": "code",
     "collapsed": false,
     "input": [
      "# Find a primitive cell of the structure\n",
      "puc=spglib.find_primitive(cryst)\n",
      "\n",
      "# Parameters of the unit cell\n",
      "print 'Primitive unit cell (Angstrom, carthesian coordinates):\\n', puc[0]\n",
      "print '\\nAtomic positions (fractional, crystalographic):\\n', puc[1]"
     ],
     "language": "python",
     "metadata": {},
     "outputs": [
      {
       "output_type": "stream",
       "stream": "stdout",
       "text": [
        "Primitive unit cell (Angstrom, carthesian coordinates):\n",
        "[[ 2.1798 -2.1798  0.    ]\n",
        " [-2.1798 -0.     -2.1798]\n",
        " [ 2.1798  2.1798  0.    ]]\n",
        "\n",
        "Atomic positions (fractional, crystalographic):\n",
        "[[  1.38777878e-17   5.55111512e-17   2.77555756e-17]\n",
        " [ -2.50000000e-01  -5.00000000e-01   2.50000000e-01]]\n"
       ]
      }
     ],
     "prompt_number": 4
    },
    {
     "cell_type": "markdown",
     "metadata": {},
     "source": [
      "Based on the parameters of the primitive unit cell we can build a crystal object for it. Just feed the parameters stored in `puc` variable to the creator of the generic atomic systems: `Atoms`. Then we will check the symmetry of the created structure to verify it is the same."
     ]
    },
    {
     "cell_type": "code",
     "collapsed": false,
     "input": [
      "# Create the primitive cell crystal\n",
      "cryst_prim=Atoms(                         # Create a generic atomic structure\n",
      "                 cell=puc[0],             # Unit cell (Angstrom)\n",
      "                 scaled_positions=puc[1], # Atomic positions (fractional)\n",
      "                 numbers=puc[2],          # Atomic numbers\n",
      "                 pbc=True)                # Use Periodic Boundary Conditions"
     ],
     "language": "python",
     "metadata": {},
     "outputs": [],
     "prompt_number": 5
    },
    {
     "cell_type": "code",
     "collapsed": false,
     "input": [
      "# Check if the symmetry is still the same\n",
      "print spglib.get_spacegroup(cryst_prim)"
     ],
     "language": "python",
     "metadata": {},
     "outputs": [
      {
       "output_type": "stream",
       "stream": "stdout",
       "text": [
        "F-43m      (216)\n"
       ]
      }
     ],
     "prompt_number": 6
    },
    {
     "cell_type": "markdown",
     "metadata": {},
     "source": [
      "For the FCC structure we have here the traditional primitive unit cell is quite different from the one obtained above. Typically the vectors of the primitive unit cell of the FCC structure point to the centers of faces of three sides of the cube adjanced to the origin giving the following cell matrix:\n",
      "$$\n",
      "\\frac{a}{2}\\left[ \n",
      "\\begin{array}{ccc}\n",
      "1 & 0 & 1 \\\\\n",
      "1 & 1 & 0 \\\\\n",
      "0 & 1 & 1 \n",
      "\\end{array}\\right]\n",
      "$$\n",
      "\n",
      "One can transform the unit cell created above (`cryst_prim`) into this standard prymitive unit cell. \n",
      "\n",
      "The trick is simple: build a new unit cell with the same *cartesian* atomic positions and your desired unit cell. The creation procedure will automatically fold the atoms into correct positions inside the unit cell."
     ]
    },
    {
     "cell_type": "code",
     "collapsed": false,
     "input": [
      "# define the new unit cell\n",
      "new_uc=a*array([[1,0,1],[1,1,0],[0,1,1]])/2\n",
      "\n",
      "print \"New primitive unit cell (A)\\n\", new_uc"
     ],
     "language": "python",
     "metadata": {},
     "outputs": [
      {
       "output_type": "stream",
       "stream": "stdout",
       "text": [
        "New primitive unit cell (A)\n",
        "[[ 2.1798  0.      2.1798]\n",
        " [ 2.1798  2.1798  0.    ]\n",
        " [ 0.      2.1798  2.1798]]\n"
       ]
      }
     ],
     "prompt_number": 7
    },
    {
     "cell_type": "code",
     "collapsed": false,
     "input": [
      "# Create a new crystal with a new primitive unit cell\n",
      "new_crystal=Atoms(cell=new_uc,                               # Define new unit cell\n",
      "                    positions=cryst_prim.get_positions(),    # Put atoms in cartesian positions from the cryst_prim\n",
      "                    numbers=cryst_prim.get_atomic_numbers(),         # Set atomic numbers\n",
      "                    pbc=True)                                # Make the structure periodic\n",
      "\n",
      "print \"Atomic positions (fractional)\\n\", new_crystal.get_scaled_positions()"
     ],
     "language": "python",
     "metadata": {},
     "outputs": [
      {
       "output_type": "stream",
       "stream": "stdout",
       "text": [
        "Atomic positions (fractional)\n",
        "[[  0.00000000e+00   2.77555756e-17   0.00000000e+00]\n",
        " [  2.50000000e-01   2.50000000e-01   2.50000000e-01]]\n"
       ]
      }
     ],
     "prompt_number": 8
    },
    {
     "cell_type": "code",
     "collapsed": false,
     "input": [
      "# Take a look, same orientation as before\n",
      "ase.io.write('crystal-prim.png',new_crystal,format='png',show_unit_cell=2, rotation='115y,15x', scale=40)\n",
      "Image(filename='crystal-prim.png')"
     ],
     "language": "python",
     "metadata": {},
     "outputs": [
      {
       "metadata": {},
       "output_type": "pyout",
       "png": "[encoded data removed]",
       "prompt_number": 9,
       "text": [
        "<IPython.core.display.Image at 0x2cf8950>"
       ]
      }
     ],
     "prompt_number": 9
    },
    {
     "cell_type": "markdown",
     "metadata": {},
     "source": [
      "The image above shows exactly the type of the primitive unit cell we have requested. Furthermore, if you compare the orientation of the atoms here and on the picture of the conventional unit cell you will notice that they are the same. The whole procedure just \"cut out\" the primitive unit cell out of the conventional one. Note the fractional coordinates of the carbon atom in two definitions of the primitive unit cell. In the first it is [-1/4, 1/2, 1/4] while in the second one it is   [1/4, 1/4, 1/4] as expected."
     ]
    },
    {
     "cell_type": "code",
     "collapsed": false,
     "input": [],
     "language": "python",
     "metadata": {},
     "outputs": [],
     "prompt_number": 9
    }
   ],
   "metadata": {}
  }
 ]
}