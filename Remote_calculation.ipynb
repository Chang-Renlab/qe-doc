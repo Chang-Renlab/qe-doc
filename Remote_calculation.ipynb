{
 "metadata": {
  "name": ""
 },
 "nbformat": 3,
 "nbformat_minor": 0,
 "worksheets": [
  {
   "cells": [
    {
     "cell_type": "markdown",
     "metadata": {},
     "source": [
      "Calculations using remote computers\n",
      "===================================\n",
      "\n",
      "*This is a second part in the tutorial series. Read the first tutorial to understand all material presented here.*\n",
      "\n",
      "Using remote computers requires some additional configuration and slightly different approach to the process.\n",
      "The initial setup is identical and its description will not be repeated here. We will move directly to the configuration of the QE-util package. Most of the configuration is pre-packaged in the `RemoteQE` calculator object and for typical supercomputing setups does not need any changes. You can review the variables in the `RemoteQE` if you need any modifications to be made."
     ]
    },
    {
     "cell_type": "code",
     "collapsed": false,
     "input": [
      "# Import the basic libraries\n",
      "\n",
      "# ASE system\n",
      "import ase\n",
      "from ase import Atom, Atoms\n",
      "from ase import io\n",
      "from ase.lattice.spacegroup import crystal\n",
      "\n",
      "# Spacegroup/symmetry library\n",
      "from pyspglib import spglib\n",
      "\n",
      "# iPython utility function\n",
      "from IPython.core.display import Image"
     ],
     "language": "python",
     "metadata": {},
     "outputs": [],
     "prompt_number": 1
    },
    {
     "cell_type": "code",
     "collapsed": false,
     "input": [
      "# Import the remote execution tools from the qe-util package\n",
      "from qeutil import RemoteQE"
     ],
     "language": "python",
     "metadata": {},
     "outputs": [],
     "prompt_number": 2
    },
    {
     "cell_type": "markdown",
     "metadata": {},
     "source": [
      "Configuring for remote execution\n",
      "--------------------------------\n",
      "\n",
      "The basic idea of using a remote computing system for a calculation revolves around submitting jobs to the queue and collecting the results. The `RemoteQE` calculator is pre-configured for the most common case, which is not the most effective one but is almost guaranteed to work on any modern Linux installation and most of other Unix-based systems. The only external requirements are availability of the `ssh` and `rsync` tools (common in modern distributions) and proper setup of key-authenticated login between the local and remote machine.\n",
      "\n",
      "**Remember to transfer the pseudopotential directory to the remote machine!**\n",
      "\n",
      "Private Key authentication\n",
      "--------------------------\n",
      "\n",
      "For the data transfer to work you need to connect your accounts on local and remote machine. The procedure is quite simple. You need to generate your private-public key pair. You may have done it in the past. Check the `.ssh` directory (note the dot in the front) for `id_rsa` and `id_rsa.pub` files. If they are present skip the key generation part.\n",
      "\n",
      "1. **Key pair generation**\n",
      "\n",
      "        ssh-keygen\n",
      "        \n",
      "    Accept default answers to the questions with the `enter` key.\n",
      "    \n",
      "    \n",
      "2. **Account connection**\n",
      "\n",
      "        ssh-copy-id user@host\n",
      "        \n",
      "   Replace the `user@host` by your account data. After authenticating to the remote system you should be able to log in from your local machine to the remote one with private key authentication. \n",
      "   \n",
      "   **Remember that from now on the security of your remote account is connected with the security of your local machine. You need to have proper password authentication on the local machine and keep it secure.**\n",
      "   \n",
      "\n",
      "Adaptation for your setup\n",
      "-------------------------\n",
      "\n",
      "The rest of the configuration is easy. Just follow the example below. Usually adaptation for your particular setup will be quite minimal. Just put your user name into `RemoteQE.user` variable, and change the `RemoteQE.host` variable to the name of the machine you are working with. Copy your pseudopotential directory to the remote machine and create working directory locally and remotely. The only non-trivial part of the configuration is a PBS script for the particular system present on your machine. For example for the `bugaboo.westgrid.ca` this script will look like this:\n",
      "\n",
      "    #!/bin/bash \n",
      "    #PBS -r n \n",
      "    #PBS -l walltime=140:00:00 \n",
      "    #PBS -l pmem=8000m \n",
      "    #######################\n",
      "    cd $PBS_O_WORKDIR\n",
      "    echo \"PWscf started at: `date`\" \n",
      "    %(command)s\n",
      "    echo \"Run finished at: `date`\"\n",
      "    \n",
      "Further, you need to set up your access and host configuration info. To avoid repeating this procedure in each notebook you can put all definitions regarding one machine into a single file: `host.py` and just import this file at the start of your session. The `host.py` file would look similar to the following configuration:\n",
      "\n",
      "    #!/usr/bin/python\n",
      "\n",
      "    from qeutil import RemoteQE\n",
      "    \n",
      "    # Access info\n",
      "    RemoteQE.user='user'\n",
      "    RemoteQE.host='host.example.ca'\n",
      "    \n",
      "    # Working directories: local and remote\n",
      "    RemoteQE.wdir='/home/user/calc/'\n",
      "    RemoteQE.rdir='calc/'\n",
      "    \n",
      "    # The job running script.\n",
      "    # This is specific to the particular host\n",
      "    # You need to replace it by the proper script for your machine.\n",
      "    # Usually only module loding part changes, but sometimes the modifications need to be more extensive.\n",
      "    RemoteQE.pbs_template='''#!/bin/bash\n",
      "    \n",
      "    cd $PBS_O_WORKDIR\n",
      "    \n",
      "    echo \"QE started at: `date`\" \n",
      "    %(command)s\n",
      "    echo \"QE finished at: `date`\n",
      "    '''\n"
     ]
    },
    {
     "cell_type": "code",
     "collapsed": false,
     "input": [
      "# Now simply import the configuration.\n",
      "# The name of the file is host.py in this case.\n",
      "import host"
     ],
     "language": "python",
     "metadata": {},
     "outputs": [],
     "prompt_number": 3
    },
    {
     "cell_type": "markdown",
     "metadata": {},
     "source": [
      "Single calculation\n",
      "------------------\n",
      "\n",
      "We start with a single calculation. The same stress tensor calculation from the first example. We will just execute it on the remote machine."
     ]
    },
    {
     "cell_type": "code",
     "collapsed": false,
     "input": [
      "# Stup the SiC crystal\n",
      "# Create a cubic crystal with a spacegroup F-43m (216)\n",
      "a=4.36\n",
      "cryst = crystal(['Si', 'C'],\n",
      "                [(0, 0, 0), (0.25, 0.25, 0.25)],\n",
      "                spacegroup=216,\n",
      "                cellpar=[a, a, a, 90, 90, 90])"
     ],
     "language": "python",
     "metadata": {},
     "outputs": [],
     "prompt_number": 4
    },
    {
     "cell_type": "code",
     "collapsed": false,
     "input": [
      "# Check the spacegroup (symmetry) of our creation\n",
      "spglib.get_spacegroup(cryst)"
     ],
     "language": "python",
     "metadata": {},
     "outputs": [
      {
       "metadata": {},
       "output_type": "pyout",
       "prompt_number": 5,
       "text": [
        "'F-43m      (216)'"
       ]
      }
     ],
     "prompt_number": 5
    },
    {
     "cell_type": "code",
     "collapsed": false,
     "input": [
      "# Create a Quantum Espresso calculator for our work. \n",
      "# This object encapsulates all parameters of the calculation, \n",
      "# not the system we are investigating.\n",
      "qe=RemoteQE(label='Remote',\n",
      "               kpts=[4,4,4],\n",
      "               xc='pz',         # Exchange functional type in the name of the pseudopotentials\n",
      "               pp_type='vbc',   # Variant of the pseudopotential\n",
      "               pp_format='UPF', # Format of the pseudopotential files\n",
      "               ecutwfc=70,\n",
      "               pseudo_dir='../pspot',\n",
      "               use_symmetry=True,\n",
      "               procs=8)         # Use 8 cores for the calculation\n",
      "\n",
      "# Check where the calculation files will reside on the local machine.\n",
      "print qe.directory"
     ],
     "language": "python",
     "metadata": {},
     "outputs": [
      {
       "output_type": "stream",
       "stream": "stdout",
       "text": [
        "calc/Remote.h87LBH\n"
       ]
      }
     ],
     "prompt_number": 6
    },
    {
     "cell_type": "code",
     "collapsed": false,
     "input": [
      "# Assign the calculator to our system\n",
      "cryst.set_calculator(qe)"
     ],
     "language": "python",
     "metadata": {},
     "outputs": [],
     "prompt_number": 7
    },
    {
     "cell_type": "code",
     "collapsed": false,
     "input": [
      "# Run the calculation to get stress tensor (in Voigt notation, in eV/A^3) and pressure (in kBar)\n",
      "# Do the same but get the results in GPa\n",
      "# Note that this time we get the results immediately. \n",
      "# We did not change the system, so it is not necessary to repeat the calculation.\n",
      "print \"Stress tensor  (Voigt notation, GPa):\", cryst.get_stress()/ase.units.GPa\n",
      "print \n",
      "print \"Stress tensor (Tensor notation, GPa):\"\n",
      "print cryst.get_stress(voigt=False)/ase.units.GPa\n",
      "print\n",
      "print \"External pressure              (GPa):\", cryst.get_isotropic_pressure(cryst.get_stress())*1e-4"
     ],
     "language": "python",
     "metadata": {},
     "outputs": [
      {
       "output_type": "stream",
       "stream": "stdout",
       "text": [
        "Stress tensor  (Voigt notation, GPa): "
       ]
      },
      {
       "output_type": "stream",
       "stream": "stdout",
       "text": [
        "[ 3.549  3.549  3.549 -0.     0.     0.   ]\n",
        "\n",
        "Stress tensor (Tensor notation, GPa):\n",
        "[[ 3.549  0.     0.   ]\n",
        " [ 0.     3.549 -0.   ]\n",
        " [ 0.    -0.     3.549]]\n",
        "\n",
        "External pressure              (GPa): -3.549\n"
       ]
      }
     ],
     "prompt_number": 8
    },
    {
     "cell_type": "markdown",
     "metadata": {},
     "source": [
      "Series of calculations\n",
      "----------------------\n",
      "\n",
      "The real power of the remote execution in the computing center comes with ability of using parallel computation of many jobs on many processors. Using RemoteQE we can run a series of calculations in parallel. \n",
      "\n",
      "For example we can again find a minimum of energy of our crystal.\n",
      "To do this we need to generate a series of structures with various lattice constants, calculate the energy and stress for each and collect the results. Since we will submit all jobs at once the calculation will be finish quicker.\n",
      "\n",
      "First we need to create the list of structures."
     ]
    },
    {
     "cell_type": "code",
     "collapsed": false,
     "input": [
      "# The list for crystals \n",
      "systems=[]\n",
      "\n",
      "# Loop over scales from 98% to 102% lattice constant. \n",
      "# 11 structures\n",
      "for x in linspace(0.98,1.02,11):\n",
      "    \n",
      "    # Structure scaled by the x factor\n",
      "    cr=Atoms(cell=x*cryst.get_cell(),\n",
      "             numbers=cryst.get_atomic_numbers(),\n",
      "             scaled_positions=cryst.get_scaled_positions(), pbc=True)\n",
      "    \n",
      "    # Remote calculator for each structure\n",
      "    cqe=RemoteQE(label='CldP',\n",
      "                   kpts=[8,8,8],\n",
      "                   xc='pz',         # Exchange functional type in the name of the pseudopotentials\n",
      "                   pp_type='vbc',   # Variant of the pseudopotential\n",
      "                   pp_format='UPF', # Format of the pseudopotential files\n",
      "                   ecutwfc=70,\n",
      "                   pseudo_dir='../pspot',\n",
      "                   use_symmetry=True,\n",
      "                   procs=8)         # Use 8 cores for the calculation\n",
      "    cr.set_calculator(qe.copy())\n",
      "    systems.append(cr)"
     ],
     "language": "python",
     "metadata": {},
     "outputs": [],
     "prompt_number": 9
    },
    {
     "cell_type": "code",
     "collapsed": false,
     "input": [
      "# Compute stresses for all systems in parallel\n",
      "qe.ParallelCalculate(systems,properties=['stress']);"
     ],
     "language": "python",
     "metadata": {},
     "outputs": [
      {
       "output_type": "stream",
       "stream": "stdout",
       "text": [
        "Launching:"
       ]
      },
      {
       "output_type": "stream",
       "stream": "stdout",
       "text": [
        " 1"
       ]
      },
      {
       "output_type": "stream",
       "stream": "stdout",
       "text": [
        " 2"
       ]
      },
      {
       "output_type": "stream",
       "stream": "stdout",
       "text": [
        " 3"
       ]
      },
      {
       "output_type": "stream",
       "stream": "stdout",
       "text": [
        " 4"
       ]
      },
      {
       "output_type": "stream",
       "stream": "stdout",
       "text": [
        " 5"
       ]
      },
      {
       "output_type": "stream",
       "stream": "stdout",
       "text": [
        " 6"
       ]
      },
      {
       "output_type": "stream",
       "stream": "stdout",
       "text": [
        " 7"
       ]
      },
      {
       "output_type": "stream",
       "stream": "stdout",
       "text": [
        " 8"
       ]
      },
      {
       "output_type": "stream",
       "stream": "stdout",
       "text": [
        " 9"
       ]
      },
      {
       "output_type": "stream",
       "stream": "stdout",
       "text": [
        " 10"
       ]
      },
      {
       "output_type": "stream",
       "stream": "stdout",
       "text": [
        " 11"
       ]
      },
      {
       "output_type": "stream",
       "stream": "stdout",
       "text": [
        "\n",
        "     Done:"
       ]
      },
      {
       "output_type": "stream",
       "stream": "stdout",
       "text": [
        " 1"
       ]
      },
      {
       "output_type": "stream",
       "stream": "stdout",
       "text": [
        " 2"
       ]
      },
      {
       "output_type": "stream",
       "stream": "stdout",
       "text": [
        " 3"
       ]
      },
      {
       "output_type": "stream",
       "stream": "stdout",
       "text": [
        " 4"
       ]
      },
      {
       "output_type": "stream",
       "stream": "stdout",
       "text": [
        " 5"
       ]
      },
      {
       "output_type": "stream",
       "stream": "stdout",
       "text": [
        " 6"
       ]
      },
      {
       "output_type": "stream",
       "stream": "stdout",
       "text": [
        " 7"
       ]
      },
      {
       "output_type": "stream",
       "stream": "stdout",
       "text": [
        " 8"
       ]
      },
      {
       "output_type": "stream",
       "stream": "stdout",
       "text": [
        " 9"
       ]
      },
      {
       "output_type": "stream",
       "stream": "stdout",
       "text": [
        " 10"
       ]
      },
      {
       "output_type": "stream",
       "stream": "stdout",
       "text": [
        " 11"
       ]
      },
      {
       "output_type": "stream",
       "stream": "stdout",
       "text": [
        "\n"
       ]
      }
     ],
     "prompt_number": 10
    },
    {
     "cell_type": "code",
     "collapsed": false,
     "input": [
      "# Extract the results from the objects in the systems list\n",
      "result=array([[s.get_cell()[0,0], s.get_potential_energy(), 1e-4*s.get_isotropic_pressure(s.get_stress())] for s in systems])\n",
      "\n",
      "# Print out the results\n",
      "print \"   A      Energy (eV)  Pressure (GPa) \"\n",
      "print \"--------------------------------------\"\n",
      "for v in result:\n",
      "    print \"% 5.03f     %+6.4f      % +8.3f \" % tuple(v)\n",
      "\n",
      "# Prepare the collected data for plotting\n",
      "# This will make an array (matrix) out of a list and transpose it for easier access\n",
      "result=array(result).T\n",
      "\n",
      "# Let us save our calculated data to a file. \n",
      "# To have data in columns we need to transpose the array.\n",
      "savetxt('e+p-vs-a.dat',result.T)"
     ],
     "language": "python",
     "metadata": {},
     "outputs": [
      {
       "output_type": "stream",
       "stream": "stdout",
       "text": [
        "   A      Energy (eV)  Pressure (GPa) \n",
        "--------------------------------------\n",
        " 4.273     -263.0975       +10.952 \n",
        " 4.290     -263.1144        +7.770 \n",
        " 4.308     -263.1259        +4.723 \n",
        " 4.325     -263.1334        +1.828 \n",
        " 4.343     -263.1371        -0.915 \n",
        " 4.360     -263.1355        -3.549 \n",
        " 4.377     -263.1309        -6.033 \n",
        " 4.395     -263.1223        -8.402 \n",
        " 4.412     -263.1096       -10.664 \n",
        " 4.430     -263.0939       -12.788 \n",
        " 4.447     -263.0732       -14.849 \n"
       ]
      }
     ],
     "prompt_number": 11
    },
    {
     "cell_type": "code",
     "collapsed": false,
     "input": [
      "# Let us plot the results and save the figure\n",
      "figsize(12,7)\n",
      "plot(result[0],result[1],'o-',label='Total internal energy')\n",
      "legend()\n",
      "xlabel('Lattice vector length ($\\AA$)')\n",
      "ylabel('Energy (eV)')\n",
      "savefig('e-vs-a.pdf')"
     ],
     "language": "python",
     "metadata": {},
     "outputs": [
      {
       "metadata": {},
       "output_type": "display_data",
       "png": "[encoded data removed]",
       "text": [
        "<matplotlib.figure.Figure at 0x49594d0>"
       ]
      }
     ],
     "prompt_number": 12
    },
    {
     "cell_type": "markdown",
     "metadata": {},
     "source": [
      "This replicates our result from the first tutorial."
     ]
    }
   ],
   "metadata": {}
  }
 ]
}