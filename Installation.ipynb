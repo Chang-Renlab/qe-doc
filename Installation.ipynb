{
 "metadata": {
  "name": "",
  "signature": "sha256:0e983e7c8794e09ade348cb2f543be924e4b4fd799412659e267c646f772734f"
 },
 "nbformat": 3,
 "nbformat_minor": 0,
 "worksheets": [
  {
   "cells": [
    {
     "cell_type": "heading",
     "level": 2,
     "metadata": {},
     "source": [
      "Installation"
     ]
    },
    {
     "cell_type": "markdown",
     "metadata": {},
     "source": [
      "The use of the [qe-util](http://jochym.github.io/qe-util/)/[elastic](http://jochym.github.io/Elastic/) \n",
      "packages and [QE-doc tutorials](http://jochym.github.io/qe-doc/) require some preparations to be made.\n",
      "You need to install and configure several packages. The operation is fairly \n",
      "simple and contains just a few steps."
     ]
    },
    {
     "cell_type": "heading",
     "level": 2,
     "metadata": {},
     "source": [
      "Pre-requisites"
     ]
    },
    {
     "cell_type": "markdown",
     "metadata": {},
     "source": [
      "To run the programs you need a fairly recent Linux system. \n",
      "Any decent and modern Linux distribution will do, but the code was developed and\n",
      "tested on Ubuntu 13.10/64 and Debian stable."
     ]
    },
    {
     "cell_type": "heading",
     "level": 2,
     "metadata": {},
     "source": [
      "Installation"
     ]
    },
    {
     "cell_type": "markdown",
     "metadata": {},
     "source": [
      "**These are new unified istructions which, thanks to people at [Continuum Analytics](http://continuum.io/) and their [Anaconda](https://store.continuum.io/cshop/anaconda/) system, should be compatible with most of the current Linux systems.** \n",
      "\n",
      "You can install the software even on Mac or Windows system with some additional work (you need to build few external dependencies separately).\n",
      "\n",
      "*For legacy instructions see below.*"
     ]
    },
    {
     "cell_type": "markdown",
     "metadata": {},
     "source": [
      "The setup requires installation of the `conda` package menager followed by the installation of the reguired packages."
     ]
    },
    {
     "cell_type": "heading",
     "level": 3,
     "metadata": {},
     "source": [
      "`conda` package menager"
     ]
    },
    {
     "cell_type": "markdown",
     "metadata": {},
     "source": [
      "To install `conda` you need to go to [Conda website](http://conda.pydata.org/miniconda.html) and download the package appropriate for your system. After downloading the package install the menager as ordinary user (the path is an example, replace with your actual path):\n",
      "\n",
      "        bash Downloads/Miniconda-3.4.2-Linux-x86.sh\n",
      "        \n",
      "You need to accept the license (it is free and quite reasonable) and select the place to where to put the software (accept the default). An decide if you want the software added to your standard path (I recommend you do - so change the default).\n",
      "After finishing the installation close the terminal an open a different one (to get new search path initialized) or re-login into your session. Then update the package menager:\n",
      "\n",
      "        conda update conda"
     ]
    },
    {
     "cell_type": "heading",
     "level": 3,
     "metadata": {},
     "source": [
      "Basic packages"
     ]
    },
    {
     "cell_type": "markdown",
     "metadata": {},
     "source": [
      "Except for standard system software you will need only the `gcc` compiler for compilation of the spglib module."
     ]
    },
    {
     "cell_type": "heading",
     "level": 3,
     "metadata": {},
     "source": [
      "Building nipy environment"
     ]
    },
    {
     "cell_type": "markdown",
     "metadata": {},
     "source": [
      "1. Create a new environment `nipy` with the basic packages installed:\n",
      "\n",
      "        conda create -n nipy ipython ipython-notebook numpy scipy matplotlib pip\n",
      "        \n",
      "2. and activate it:\n",
      "\n",
      "        source activate nipy\n",
      "\n",
      "3. install the `spglib` module\n",
      "\n",
      "        pip install spglib\n",
      "        \n",
      "4. install the non-standard packages:\n",
      "\n",
      "        conda install -c https://conda.binstar.org/jochym python-ase elastic qeutil"
     ]
    },
    {
     "cell_type": "heading",
     "level": 3,
     "metadata": {},
     "source": [
      "Update the packages"
     ]
    },
    {
     "cell_type": "markdown",
     "metadata": {},
     "source": [
      "Since `qe-util` and `elastic` are under constant development one needs to upgrade them \n",
      "from time to time. Some changes may make your old calculations stop working, \n",
      "due to the incompatible changes to the interfaces (we do try to avoid this, but still \n",
      "sometimes there is simply no other way). Thus, upgrading is a good idea at the start of the \n",
      "project, but *not* in the middle of it.\n",
      "\n",
      "The command to update all installed packages:\n",
      "\n",
      "        conda update -c https://conda.binstar.org/jochym --all\n",
      "        \n",
      "If you need to update single package you use:\n",
      "\n",
      "        conda update -c https://conda.binstar.org/jochym  name_of_the_package\n",
      "        \n",
      "        "
     ]
    },
    {
     "cell_type": "heading",
     "level": 2,
     "metadata": {},
     "source": [
      "Configuration"
     ]
    },
    {
     "cell_type": "markdown",
     "metadata": {},
     "source": [
      "First you need to grab the \n",
      "[supporting files archive](https://github.com/jochym/qe-doc/raw/master/qe-doc-support.tgz)\n",
      "and unpack it in your working directory:\n",
      "\n",
      "    tar -xvzf qe-doc-support.tgz\n",
      "\n",
      "The system is configured by default to use a quantum espresso software \n",
      "present and configured locally for the first tutorial and remote execution for the \n",
      "rest of tutorials. The installation of the Q-E software is beyond \n",
      "the scope of this tutorial. The debian and ubuntu distributions provide \n",
      "stable but fairly old versions of this package. It is highly recommended to \n",
      "obtain a recent version or, better still, to use one installed in some HPTC \n",
      "centre. The example of such remote configuration is provided in the examples and\n",
      "also the skeleton `host.py` configuration file is included in the supporting files.\n",
      "The supporting files contain also examples of the `host.py` modifications \n",
      "(in the `config-examples` directory) for some of the machines in the WestGrid Canadian \n",
      "research network and the University of Saskatchewan.\n",
      "\n",
      "The information concerned with local configuration at the University of Saskatchewan\n",
      "is also included on the [USASK NiPy page](http://homepage.usask.ca/~bas627/nipy/Nipy.htm).\n",
      "\n",
      "Essentially you need to figure out how to transport files from your \n",
      "workstation to the computing machine and how to run jobs there. \n",
      "One very comfortable way of doing this is mounting the remote directory \n",
      "locally using sshfs and setting up the key-authentication execution over ssh\n",
      "to the computing machine. Such a setup makes the \"remoteness\" of the \n",
      "calculations almost transparent."
     ]
    },
    {
     "cell_type": "heading",
     "level": 2,
     "metadata": {},
     "source": [
      "Usage"
     ]
    },
    {
     "cell_type": "heading",
     "level": 3,
     "metadata": {},
     "source": [
      "Activation"
     ]
    },
    {
     "cell_type": "markdown",
     "metadata": {},
     "source": [
      "To activate the environment execute (`nipy` is the name of the environment here):\n",
      "\n",
      "        source activate nipy"
     ]
    },
    {
     "cell_type": "markdown",
     "metadata": {},
     "source": [
      "Since the qe-util package is designed to be used inside the iPython notebook\n",
      "environment go to the directory where you downloaded the example notebooks \n",
      "(*.ipynb files - it should be *outside* of the nipy tree) and run (remember \n",
      "to have the nipy environment activated!) :\n",
      "\n",
      "    ipython notebook --pylab=inline\n",
      "\n",
      "Your web browser will open a page with a list of example notebooks. \n",
      "Open (click) the first and follow the instructions there."
     ]
    },
    {
     "cell_type": "heading",
     "level": 3,
     "metadata": {},
     "source": [
      "Deactivation"
     ]
    },
    {
     "cell_type": "markdown",
     "metadata": {},
     "source": [
      "After you are done with the environment you deactivate it by the command:\n",
      "\n",
      "        source deactivate"
     ]
    },
    {
     "cell_type": "markdown",
     "metadata": {},
     "source": [
      "-------------------"
     ]
    },
    {
     "cell_type": "markdown",
     "metadata": {},
     "source": [
      "Legacy instructions\n",
      "--------------------\n",
      "\n",
      "*These legacy instructions are provided just for all installs and are **not recommended** for current installations. In fact I recommend migration from the old install to the new style. It is easy and will save you time going forward.*"
     ]
    },
    {
     "cell_type": "heading",
     "level": 3,
     "metadata": {},
     "source": [
      "Older distributions (RHEL, CentOS, Scientific Linux)"
     ]
    },
    {
     "cell_type": "markdown",
     "metadata": {},
     "source": [
      "You will need the current python install with virtualenv system installed.\n",
      "\n",
      "The software is not fully compatible with python 2.6, so if you are on the\n",
      "old distribution (e.g. RHEL 6) you will need to compile the python interpreter\n",
      "from source. [Python source](http://www.python.org/download/) can be downloaded\n",
      "from the python web page - you need version 2.7.x. \n",
      "To install alternative python interpreter without interfering with the system \n",
      "interpreter you unpack the distribution and run:\n",
      "\n",
      "    ./configure\n",
      "    make \n",
      "    sudo make altinstall\n",
      "    \n",
      "(the last line executed as superuser). The rest of the instalation is \n",
      "the same except the virtual environment creation command will change into:\n",
      "\n",
      "    virtualenv -p python2.7 nipy\n",
      "\n",
      "The installation instructions for the \n",
      "[virtualenv](http://www.virtualenv.org/) \n",
      "package can be found on its web page. Tha package is avaliable for download \n",
      "at [Virtualenv PyPi page](https://pypi.python.org/pypi/virtualenv). \n",
      "You do not need to install the package. It is enough to just unpack it \n",
      "and run it as (from the directory you have unpacked it into):\n",
      "\n",
      "    python virtualenv.py [any_parameters_you_need]\n",
      "\n",
      "Your system should also have a basic set of development packages installed:\n",
      "\n",
      " - gcc\n",
      " - g++\n",
      " - gfortran\n",
      " - python 2.7 \n",
      " - development libraries for openssl and other basic system libraries (for Python compilation)\n",
      " - lapack and blas development libraries (for scipy installation)\n",
      " - freetype and png development libraries (for matplotlib installation)"
     ]
    },
    {
     "cell_type": "heading",
     "level": 3,
     "metadata": {},
     "source": [
      "Installation"
     ]
    },
    {
     "cell_type": "markdown",
     "metadata": {},
     "source": [
      "It is best to perform all your work in the python virtualenv. \n",
      "To create one, go to the directory of your choice and run \n",
      "(nipy is a name of the environment we have chosen, you can use a different \n",
      "name, just stick with it):\n",
      "\n",
      "    virtualenv nipy\n",
      "\n",
      "This will create the nipy directory which is a place where all software will be \n",
      "installed. You *do not need* to work in this directory! In fact it is better \n",
      "not too. If you have a recent and complete distribution and you know what you \n",
      "are doing  you can try to use a `--system-site-packages` option to virtualenv and skip \n",
      "the installation of any packages already present in your system (you should \n",
      "install at least iPython, ASE, SPGlib, Elastic, QE-doc). Just remember that\n",
      "this is not fully supported and tested variant (but it should work anyway).\n",
      "\n",
      "Next step is activation. Execute in your terminal the following line:\n",
      "\n",
      "    source nipy/bin/activate\n",
      "\n",
      "replacing the nipy by your path to the environment directory. This command \n",
      "activates the environment. To deactivate simply run:\n",
      "\n",
      "    deactivate\n",
      "\n",
      "Next you need to install the software. Activate the environment and run:\n",
      "\n",
      "    pip install distribute --upgrade\n",
      "    pip install ipython\n",
      "    pip install pyzmq\n",
      "    pip install jinja2\n",
      "    pip install tornado\n",
      "    pip install numpy\n",
      "    pip install scipy\n",
      "    pip install matplotlib\n",
      "\n",
      "This will take some time but should execute without problems. \n",
      "\n",
      "Next go to the \n",
      "[ASE website](https://wiki.fysik.dtu.dk/ase/download.html)\n",
      "and download the latest tarball. \n",
      "At this moment it is \n",
      "[ASE 3.8.1.3440](https://wiki.fysik.dtu.dk/ase-files/python-ase-3.8.1.3440.tar.gz)\n",
      "\n",
      "Unpack it in some temporary place, enter its directory and run:\n",
      "\n",
      "    python setup.py install\n",
      "\n",
      "We are almost done. The last dependence is the space-group library \n",
      "[SPGlib](http://spglib.sourceforge.net/). Download the \n",
      "[spglib distribution](https://sourceforge.net/project/showfiles.php?group_id=215020)\n",
      "and unpack it in some temporary place. Next enter the `python/ase` \n",
      "subdirectory and execute:\n",
      "\n",
      "    python setup.py install\n",
      "\n",
      "The last step is installation of the qe-util and elastic packages. \n",
      "It is simple, just execute:\n",
      "\n",
      "    pip install qeutil\n",
      "    pip install elastic\n",
      "\n",
      "Now you have a ready working environment."
     ]
    },
    {
     "cell_type": "heading",
     "level": 3,
     "metadata": {},
     "source": [
      "Upgrading"
     ]
    },
    {
     "cell_type": "markdown",
     "metadata": {},
     "source": [
      "Since `qe-util` and `elastic` are under constant development one needs to upgrade them \n",
      "from time to time. Some changes may make your old calculations stop working, \n",
      "due to the incompatible changes to the interfaces (we do try to avoid this, but still \n",
      "sometimes there is simply no other way). Thus, upgrading is a good idea at the start of the \n",
      "project, but *not* in the middle of it.\n",
      "\n",
      "The command to upgrade a `package_name` is:\n",
      "\n",
      "    pip install package_name --upgrade\n",
      "    \n",
      "(e.g. `pip install qeutil --upgrade`)"
     ]
    }
   ],
   "metadata": {}
  }
 ]
}